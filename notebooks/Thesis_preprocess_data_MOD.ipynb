{
  "metadata": {
    "kernelspec": {
      "language": "python",
      "display_name": "Python 3",
      "name": "python3"
    },
    "language_info": {
      "pygments_lexer": "ipython3",
      "nbconvert_exporter": "python",
      "version": "3.6.4",
      "file_extension": ".py",
      "codemirror_mode": {
        "name": "ipython",
        "version": 3
      },
      "name": "python",
      "mimetype": "text/x-python"
    },
    "colab": {
      "name": "Thesis-preprocess-data-MOD.ipynb",
      "provenance": [],
      "collapsed_sections": []
    },
    "widgets": {
      "application/vnd.jupyter.widget-state+json": {
        "617f2135272f4376972e595bf506af2e": {
          "model_module": "@jupyter-widgets/controls",
          "model_name": "HBoxModel",
          "model_module_version": "1.5.0",
          "state": {
            "_dom_classes": [],
            "_model_module": "@jupyter-widgets/controls",
            "_model_module_version": "1.5.0",
            "_model_name": "HBoxModel",
            "_view_count": null,
            "_view_module": "@jupyter-widgets/controls",
            "_view_module_version": "1.5.0",
            "_view_name": "HBoxView",
            "box_style": "",
            "children": [
              "IPY_MODEL_3b77f6c0a3af46f6bf270fd7a9d41ce1",
              "IPY_MODEL_53a1eb3e9ed2483fa3296aa26b7884ed",
              "IPY_MODEL_e0db177ae1bb4e9e835672e6716a7c89"
            ],
            "layout": "IPY_MODEL_fbc02e17fb7a4ff496a882551c7b5a6b"
          }
        },
        "3b77f6c0a3af46f6bf270fd7a9d41ce1": {
          "model_module": "@jupyter-widgets/controls",
          "model_name": "HTMLModel",
          "model_module_version": "1.5.0",
          "state": {
            "_dom_classes": [],
            "_model_module": "@jupyter-widgets/controls",
            "_model_module_version": "1.5.0",
            "_model_name": "HTMLModel",
            "_view_count": null,
            "_view_module": "@jupyter-widgets/controls",
            "_view_module_version": "1.5.0",
            "_view_name": "HTMLView",
            "description": "",
            "description_tooltip": null,
            "layout": "IPY_MODEL_35ddfc9fedea43f5bf1325f00f5014f8",
            "placeholder": "​",
            "style": "IPY_MODEL_30219630a2864fa186a003d379e3e282",
            "value": "100%"
          }
        },
        "53a1eb3e9ed2483fa3296aa26b7884ed": {
          "model_module": "@jupyter-widgets/controls",
          "model_name": "FloatProgressModel",
          "model_module_version": "1.5.0",
          "state": {
            "_dom_classes": [],
            "_model_module": "@jupyter-widgets/controls",
            "_model_module_version": "1.5.0",
            "_model_name": "FloatProgressModel",
            "_view_count": null,
            "_view_module": "@jupyter-widgets/controls",
            "_view_module_version": "1.5.0",
            "_view_name": "ProgressView",
            "bar_style": "success",
            "description": "",
            "description_tooltip": null,
            "layout": "IPY_MODEL_b1b9b0cd0b5c4afbb3e628e50dc9c73c",
            "max": 66125,
            "min": 0,
            "orientation": "horizontal",
            "style": "IPY_MODEL_41ddaf97fbb645efb14a0e9a08ccd14d",
            "value": 66125
          }
        },
        "e0db177ae1bb4e9e835672e6716a7c89": {
          "model_module": "@jupyter-widgets/controls",
          "model_name": "HTMLModel",
          "model_module_version": "1.5.0",
          "state": {
            "_dom_classes": [],
            "_model_module": "@jupyter-widgets/controls",
            "_model_module_version": "1.5.0",
            "_model_name": "HTMLModel",
            "_view_count": null,
            "_view_module": "@jupyter-widgets/controls",
            "_view_module_version": "1.5.0",
            "_view_name": "HTMLView",
            "description": "",
            "description_tooltip": null,
            "layout": "IPY_MODEL_8572f494ddfd43188c2171e32765f189",
            "placeholder": "​",
            "style": "IPY_MODEL_64e0092268284e81b472aab8c5f67b83",
            "value": " 66125/66125 [02:34&lt;00:00, 474.10it/s]"
          }
        },
        "fbc02e17fb7a4ff496a882551c7b5a6b": {
          "model_module": "@jupyter-widgets/base",
          "model_name": "LayoutModel",
          "model_module_version": "1.2.0",
          "state": {
            "_model_module": "@jupyter-widgets/base",
            "_model_module_version": "1.2.0",
            "_model_name": "LayoutModel",
            "_view_count": null,
            "_view_module": "@jupyter-widgets/base",
            "_view_module_version": "1.2.0",
            "_view_name": "LayoutView",
            "align_content": null,
            "align_items": null,
            "align_self": null,
            "border": null,
            "bottom": null,
            "display": null,
            "flex": null,
            "flex_flow": null,
            "grid_area": null,
            "grid_auto_columns": null,
            "grid_auto_flow": null,
            "grid_auto_rows": null,
            "grid_column": null,
            "grid_gap": null,
            "grid_row": null,
            "grid_template_areas": null,
            "grid_template_columns": null,
            "grid_template_rows": null,
            "height": null,
            "justify_content": null,
            "justify_items": null,
            "left": null,
            "margin": null,
            "max_height": null,
            "max_width": null,
            "min_height": null,
            "min_width": null,
            "object_fit": null,
            "object_position": null,
            "order": null,
            "overflow": null,
            "overflow_x": null,
            "overflow_y": null,
            "padding": null,
            "right": null,
            "top": null,
            "visibility": null,
            "width": null
          }
        },
        "35ddfc9fedea43f5bf1325f00f5014f8": {
          "model_module": "@jupyter-widgets/base",
          "model_name": "LayoutModel",
          "model_module_version": "1.2.0",
          "state": {
            "_model_module": "@jupyter-widgets/base",
            "_model_module_version": "1.2.0",
            "_model_name": "LayoutModel",
            "_view_count": null,
            "_view_module": "@jupyter-widgets/base",
            "_view_module_version": "1.2.0",
            "_view_name": "LayoutView",
            "align_content": null,
            "align_items": null,
            "align_self": null,
            "border": null,
            "bottom": null,
            "display": null,
            "flex": null,
            "flex_flow": null,
            "grid_area": null,
            "grid_auto_columns": null,
            "grid_auto_flow": null,
            "grid_auto_rows": null,
            "grid_column": null,
            "grid_gap": null,
            "grid_row": null,
            "grid_template_areas": null,
            "grid_template_columns": null,
            "grid_template_rows": null,
            "height": null,
            "justify_content": null,
            "justify_items": null,
            "left": null,
            "margin": null,
            "max_height": null,
            "max_width": null,
            "min_height": null,
            "min_width": null,
            "object_fit": null,
            "object_position": null,
            "order": null,
            "overflow": null,
            "overflow_x": null,
            "overflow_y": null,
            "padding": null,
            "right": null,
            "top": null,
            "visibility": null,
            "width": null
          }
        },
        "30219630a2864fa186a003d379e3e282": {
          "model_module": "@jupyter-widgets/controls",
          "model_name": "DescriptionStyleModel",
          "model_module_version": "1.5.0",
          "state": {
            "_model_module": "@jupyter-widgets/controls",
            "_model_module_version": "1.5.0",
            "_model_name": "DescriptionStyleModel",
            "_view_count": null,
            "_view_module": "@jupyter-widgets/base",
            "_view_module_version": "1.2.0",
            "_view_name": "StyleView",
            "description_width": ""
          }
        },
        "b1b9b0cd0b5c4afbb3e628e50dc9c73c": {
          "model_module": "@jupyter-widgets/base",
          "model_name": "LayoutModel",
          "model_module_version": "1.2.0",
          "state": {
            "_model_module": "@jupyter-widgets/base",
            "_model_module_version": "1.2.0",
            "_model_name": "LayoutModel",
            "_view_count": null,
            "_view_module": "@jupyter-widgets/base",
            "_view_module_version": "1.2.0",
            "_view_name": "LayoutView",
            "align_content": null,
            "align_items": null,
            "align_self": null,
            "border": null,
            "bottom": null,
            "display": null,
            "flex": null,
            "flex_flow": null,
            "grid_area": null,
            "grid_auto_columns": null,
            "grid_auto_flow": null,
            "grid_auto_rows": null,
            "grid_column": null,
            "grid_gap": null,
            "grid_row": null,
            "grid_template_areas": null,
            "grid_template_columns": null,
            "grid_template_rows": null,
            "height": null,
            "justify_content": null,
            "justify_items": null,
            "left": null,
            "margin": null,
            "max_height": null,
            "max_width": null,
            "min_height": null,
            "min_width": null,
            "object_fit": null,
            "object_position": null,
            "order": null,
            "overflow": null,
            "overflow_x": null,
            "overflow_y": null,
            "padding": null,
            "right": null,
            "top": null,
            "visibility": null,
            "width": null
          }
        },
        "41ddaf97fbb645efb14a0e9a08ccd14d": {
          "model_module": "@jupyter-widgets/controls",
          "model_name": "ProgressStyleModel",
          "model_module_version": "1.5.0",
          "state": {
            "_model_module": "@jupyter-widgets/controls",
            "_model_module_version": "1.5.0",
            "_model_name": "ProgressStyleModel",
            "_view_count": null,
            "_view_module": "@jupyter-widgets/base",
            "_view_module_version": "1.2.0",
            "_view_name": "StyleView",
            "bar_color": null,
            "description_width": ""
          }
        },
        "8572f494ddfd43188c2171e32765f189": {
          "model_module": "@jupyter-widgets/base",
          "model_name": "LayoutModel",
          "model_module_version": "1.2.0",
          "state": {
            "_model_module": "@jupyter-widgets/base",
            "_model_module_version": "1.2.0",
            "_model_name": "LayoutModel",
            "_view_count": null,
            "_view_module": "@jupyter-widgets/base",
            "_view_module_version": "1.2.0",
            "_view_name": "LayoutView",
            "align_content": null,
            "align_items": null,
            "align_self": null,
            "border": null,
            "bottom": null,
            "display": null,
            "flex": null,
            "flex_flow": null,
            "grid_area": null,
            "grid_auto_columns": null,
            "grid_auto_flow": null,
            "grid_auto_rows": null,
            "grid_column": null,
            "grid_gap": null,
            "grid_row": null,
            "grid_template_areas": null,
            "grid_template_columns": null,
            "grid_template_rows": null,
            "height": null,
            "justify_content": null,
            "justify_items": null,
            "left": null,
            "margin": null,
            "max_height": null,
            "max_width": null,
            "min_height": null,
            "min_width": null,
            "object_fit": null,
            "object_position": null,
            "order": null,
            "overflow": null,
            "overflow_x": null,
            "overflow_y": null,
            "padding": null,
            "right": null,
            "top": null,
            "visibility": null,
            "width": null
          }
        },
        "64e0092268284e81b472aab8c5f67b83": {
          "model_module": "@jupyter-widgets/controls",
          "model_name": "DescriptionStyleModel",
          "model_module_version": "1.5.0",
          "state": {
            "_model_module": "@jupyter-widgets/controls",
            "_model_module_version": "1.5.0",
            "_model_name": "DescriptionStyleModel",
            "_view_count": null,
            "_view_module": "@jupyter-widgets/base",
            "_view_module_version": "1.2.0",
            "_view_name": "StyleView",
            "description_width": ""
          }
        },
        "48a680d800044e8ab1bef26d8dfd81a8": {
          "model_module": "@jupyter-widgets/controls",
          "model_name": "HBoxModel",
          "model_module_version": "1.5.0",
          "state": {
            "_dom_classes": [],
            "_model_module": "@jupyter-widgets/controls",
            "_model_module_version": "1.5.0",
            "_model_name": "HBoxModel",
            "_view_count": null,
            "_view_module": "@jupyter-widgets/controls",
            "_view_module_version": "1.5.0",
            "_view_name": "HBoxView",
            "box_style": "",
            "children": [
              "IPY_MODEL_988b76a6d8ef4d35867296dbded66034",
              "IPY_MODEL_624e7bef118e42ca86700e3806dafcc8",
              "IPY_MODEL_f1087ebb04a04dc5ada2d91296522c82"
            ],
            "layout": "IPY_MODEL_edbbef832bb44f7dadd4ca4626150ace"
          }
        },
        "988b76a6d8ef4d35867296dbded66034": {
          "model_module": "@jupyter-widgets/controls",
          "model_name": "HTMLModel",
          "model_module_version": "1.5.0",
          "state": {
            "_dom_classes": [],
            "_model_module": "@jupyter-widgets/controls",
            "_model_module_version": "1.5.0",
            "_model_name": "HTMLModel",
            "_view_count": null,
            "_view_module": "@jupyter-widgets/controls",
            "_view_module_version": "1.5.0",
            "_view_name": "HTMLView",
            "description": "",
            "description_tooltip": null,
            "layout": "IPY_MODEL_4df507970597465cb2d6b9201015b506",
            "placeholder": "​",
            "style": "IPY_MODEL_8c7c26b58c5348f1838bde754b92a79b",
            "value": "100%"
          }
        },
        "624e7bef118e42ca86700e3806dafcc8": {
          "model_module": "@jupyter-widgets/controls",
          "model_name": "FloatProgressModel",
          "model_module_version": "1.5.0",
          "state": {
            "_dom_classes": [],
            "_model_module": "@jupyter-widgets/controls",
            "_model_module_version": "1.5.0",
            "_model_name": "FloatProgressModel",
            "_view_count": null,
            "_view_module": "@jupyter-widgets/controls",
            "_view_module_version": "1.5.0",
            "_view_name": "ProgressView",
            "bar_style": "success",
            "description": "",
            "description_tooltip": null,
            "layout": "IPY_MODEL_c8c3bfadcc9d4bf4af7565ecaa9875e8",
            "max": 1000,
            "min": 0,
            "orientation": "horizontal",
            "style": "IPY_MODEL_656bdf1dbee64637a1f14147e985fcd3",
            "value": 1000
          }
        },
        "f1087ebb04a04dc5ada2d91296522c82": {
          "model_module": "@jupyter-widgets/controls",
          "model_name": "HTMLModel",
          "model_module_version": "1.5.0",
          "state": {
            "_dom_classes": [],
            "_model_module": "@jupyter-widgets/controls",
            "_model_module_version": "1.5.0",
            "_model_name": "HTMLModel",
            "_view_count": null,
            "_view_module": "@jupyter-widgets/controls",
            "_view_module_version": "1.5.0",
            "_view_name": "HTMLView",
            "description": "",
            "description_tooltip": null,
            "layout": "IPY_MODEL_67fff4e5cb534b03845372d297b2dc26",
            "placeholder": "​",
            "style": "IPY_MODEL_943c8610364d4f94b8c450624515cc1b",
            "value": " 1000/1000 [00:02&lt;00:00, 475.62it/s]"
          }
        },
        "edbbef832bb44f7dadd4ca4626150ace": {
          "model_module": "@jupyter-widgets/base",
          "model_name": "LayoutModel",
          "model_module_version": "1.2.0",
          "state": {
            "_model_module": "@jupyter-widgets/base",
            "_model_module_version": "1.2.0",
            "_model_name": "LayoutModel",
            "_view_count": null,
            "_view_module": "@jupyter-widgets/base",
            "_view_module_version": "1.2.0",
            "_view_name": "LayoutView",
            "align_content": null,
            "align_items": null,
            "align_self": null,
            "border": null,
            "bottom": null,
            "display": null,
            "flex": null,
            "flex_flow": null,
            "grid_area": null,
            "grid_auto_columns": null,
            "grid_auto_flow": null,
            "grid_auto_rows": null,
            "grid_column": null,
            "grid_gap": null,
            "grid_row": null,
            "grid_template_areas": null,
            "grid_template_columns": null,
            "grid_template_rows": null,
            "height": null,
            "justify_content": null,
            "justify_items": null,
            "left": null,
            "margin": null,
            "max_height": null,
            "max_width": null,
            "min_height": null,
            "min_width": null,
            "object_fit": null,
            "object_position": null,
            "order": null,
            "overflow": null,
            "overflow_x": null,
            "overflow_y": null,
            "padding": null,
            "right": null,
            "top": null,
            "visibility": null,
            "width": null
          }
        },
        "4df507970597465cb2d6b9201015b506": {
          "model_module": "@jupyter-widgets/base",
          "model_name": "LayoutModel",
          "model_module_version": "1.2.0",
          "state": {
            "_model_module": "@jupyter-widgets/base",
            "_model_module_version": "1.2.0",
            "_model_name": "LayoutModel",
            "_view_count": null,
            "_view_module": "@jupyter-widgets/base",
            "_view_module_version": "1.2.0",
            "_view_name": "LayoutView",
            "align_content": null,
            "align_items": null,
            "align_self": null,
            "border": null,
            "bottom": null,
            "display": null,
            "flex": null,
            "flex_flow": null,
            "grid_area": null,
            "grid_auto_columns": null,
            "grid_auto_flow": null,
            "grid_auto_rows": null,
            "grid_column": null,
            "grid_gap": null,
            "grid_row": null,
            "grid_template_areas": null,
            "grid_template_columns": null,
            "grid_template_rows": null,
            "height": null,
            "justify_content": null,
            "justify_items": null,
            "left": null,
            "margin": null,
            "max_height": null,
            "max_width": null,
            "min_height": null,
            "min_width": null,
            "object_fit": null,
            "object_position": null,
            "order": null,
            "overflow": null,
            "overflow_x": null,
            "overflow_y": null,
            "padding": null,
            "right": null,
            "top": null,
            "visibility": null,
            "width": null
          }
        },
        "8c7c26b58c5348f1838bde754b92a79b": {
          "model_module": "@jupyter-widgets/controls",
          "model_name": "DescriptionStyleModel",
          "model_module_version": "1.5.0",
          "state": {
            "_model_module": "@jupyter-widgets/controls",
            "_model_module_version": "1.5.0",
            "_model_name": "DescriptionStyleModel",
            "_view_count": null,
            "_view_module": "@jupyter-widgets/base",
            "_view_module_version": "1.2.0",
            "_view_name": "StyleView",
            "description_width": ""
          }
        },
        "c8c3bfadcc9d4bf4af7565ecaa9875e8": {
          "model_module": "@jupyter-widgets/base",
          "model_name": "LayoutModel",
          "model_module_version": "1.2.0",
          "state": {
            "_model_module": "@jupyter-widgets/base",
            "_model_module_version": "1.2.0",
            "_model_name": "LayoutModel",
            "_view_count": null,
            "_view_module": "@jupyter-widgets/base",
            "_view_module_version": "1.2.0",
            "_view_name": "LayoutView",
            "align_content": null,
            "align_items": null,
            "align_self": null,
            "border": null,
            "bottom": null,
            "display": null,
            "flex": null,
            "flex_flow": null,
            "grid_area": null,
            "grid_auto_columns": null,
            "grid_auto_flow": null,
            "grid_auto_rows": null,
            "grid_column": null,
            "grid_gap": null,
            "grid_row": null,
            "grid_template_areas": null,
            "grid_template_columns": null,
            "grid_template_rows": null,
            "height": null,
            "justify_content": null,
            "justify_items": null,
            "left": null,
            "margin": null,
            "max_height": null,
            "max_width": null,
            "min_height": null,
            "min_width": null,
            "object_fit": null,
            "object_position": null,
            "order": null,
            "overflow": null,
            "overflow_x": null,
            "overflow_y": null,
            "padding": null,
            "right": null,
            "top": null,
            "visibility": null,
            "width": null
          }
        },
        "656bdf1dbee64637a1f14147e985fcd3": {
          "model_module": "@jupyter-widgets/controls",
          "model_name": "ProgressStyleModel",
          "model_module_version": "1.5.0",
          "state": {
            "_model_module": "@jupyter-widgets/controls",
            "_model_module_version": "1.5.0",
            "_model_name": "ProgressStyleModel",
            "_view_count": null,
            "_view_module": "@jupyter-widgets/base",
            "_view_module_version": "1.2.0",
            "_view_name": "StyleView",
            "bar_color": null,
            "description_width": ""
          }
        },
        "67fff4e5cb534b03845372d297b2dc26": {
          "model_module": "@jupyter-widgets/base",
          "model_name": "LayoutModel",
          "model_module_version": "1.2.0",
          "state": {
            "_model_module": "@jupyter-widgets/base",
            "_model_module_version": "1.2.0",
            "_model_name": "LayoutModel",
            "_view_count": null,
            "_view_module": "@jupyter-widgets/base",
            "_view_module_version": "1.2.0",
            "_view_name": "LayoutView",
            "align_content": null,
            "align_items": null,
            "align_self": null,
            "border": null,
            "bottom": null,
            "display": null,
            "flex": null,
            "flex_flow": null,
            "grid_area": null,
            "grid_auto_columns": null,
            "grid_auto_flow": null,
            "grid_auto_rows": null,
            "grid_column": null,
            "grid_gap": null,
            "grid_row": null,
            "grid_template_areas": null,
            "grid_template_columns": null,
            "grid_template_rows": null,
            "height": null,
            "justify_content": null,
            "justify_items": null,
            "left": null,
            "margin": null,
            "max_height": null,
            "max_width": null,
            "min_height": null,
            "min_width": null,
            "object_fit": null,
            "object_position": null,
            "order": null,
            "overflow": null,
            "overflow_x": null,
            "overflow_y": null,
            "padding": null,
            "right": null,
            "top": null,
            "visibility": null,
            "width": null
          }
        },
        "943c8610364d4f94b8c450624515cc1b": {
          "model_module": "@jupyter-widgets/controls",
          "model_name": "DescriptionStyleModel",
          "model_module_version": "1.5.0",
          "state": {
            "_model_module": "@jupyter-widgets/controls",
            "_model_module_version": "1.5.0",
            "_model_name": "DescriptionStyleModel",
            "_view_count": null,
            "_view_module": "@jupyter-widgets/base",
            "_view_module_version": "1.2.0",
            "_view_name": "StyleView",
            "description_width": ""
          }
        },
        "10896b734ab84ccda8d1992637f17d66": {
          "model_module": "@jupyter-widgets/controls",
          "model_name": "HBoxModel",
          "model_module_version": "1.5.0",
          "state": {
            "_dom_classes": [],
            "_model_module": "@jupyter-widgets/controls",
            "_model_module_version": "1.5.0",
            "_model_name": "HBoxModel",
            "_view_count": null,
            "_view_module": "@jupyter-widgets/controls",
            "_view_module_version": "1.5.0",
            "_view_name": "HBoxView",
            "box_style": "",
            "children": [
              "IPY_MODEL_3974c1a3f1ae4f8e8b328fa57a934172",
              "IPY_MODEL_da5fc29c05d846018f532e49e65f7541",
              "IPY_MODEL_9a049c1cf755413b995fdca0edbbf014"
            ],
            "layout": "IPY_MODEL_cb7a59dbb6c442968412fb5acd3eb10f"
          }
        },
        "3974c1a3f1ae4f8e8b328fa57a934172": {
          "model_module": "@jupyter-widgets/controls",
          "model_name": "HTMLModel",
          "model_module_version": "1.5.0",
          "state": {
            "_dom_classes": [],
            "_model_module": "@jupyter-widgets/controls",
            "_model_module_version": "1.5.0",
            "_model_name": "HTMLModel",
            "_view_count": null,
            "_view_module": "@jupyter-widgets/controls",
            "_view_module_version": "1.5.0",
            "_view_name": "HTMLView",
            "description": "",
            "description_tooltip": null,
            "layout": "IPY_MODEL_0e0b21f856db4ef1a5f18fdddc2ab9ed",
            "placeholder": "​",
            "style": "IPY_MODEL_b13c1de43e544c9e99bd380dd5dd5902",
            "value": "100%"
          }
        },
        "da5fc29c05d846018f532e49e65f7541": {
          "model_module": "@jupyter-widgets/controls",
          "model_name": "FloatProgressModel",
          "model_module_version": "1.5.0",
          "state": {
            "_dom_classes": [],
            "_model_module": "@jupyter-widgets/controls",
            "_model_module_version": "1.5.0",
            "_model_name": "FloatProgressModel",
            "_view_count": null,
            "_view_module": "@jupyter-widgets/controls",
            "_view_module_version": "1.5.0",
            "_view_name": "ProgressView",
            "bar_style": "success",
            "description": "",
            "description_tooltip": null,
            "layout": "IPY_MODEL_ce4bfcaa69624dbca3248894646f7002",
            "max": 307,
            "min": 0,
            "orientation": "horizontal",
            "style": "IPY_MODEL_5ad3ada055824f1d9ef8349affb5efcd",
            "value": 307
          }
        },
        "9a049c1cf755413b995fdca0edbbf014": {
          "model_module": "@jupyter-widgets/controls",
          "model_name": "HTMLModel",
          "model_module_version": "1.5.0",
          "state": {
            "_dom_classes": [],
            "_model_module": "@jupyter-widgets/controls",
            "_model_module_version": "1.5.0",
            "_model_name": "HTMLModel",
            "_view_count": null,
            "_view_module": "@jupyter-widgets/controls",
            "_view_module_version": "1.5.0",
            "_view_name": "HTMLView",
            "description": "",
            "description_tooltip": null,
            "layout": "IPY_MODEL_5ae222b930fb498b9bcf6ec5580f6be3",
            "placeholder": "​",
            "style": "IPY_MODEL_da869b6c40f7421882bf008538c29ed2",
            "value": " 307/307 [01:12&lt;00:00,  5.00it/s]"
          }
        },
        "cb7a59dbb6c442968412fb5acd3eb10f": {
          "model_module": "@jupyter-widgets/base",
          "model_name": "LayoutModel",
          "model_module_version": "1.2.0",
          "state": {
            "_model_module": "@jupyter-widgets/base",
            "_model_module_version": "1.2.0",
            "_model_name": "LayoutModel",
            "_view_count": null,
            "_view_module": "@jupyter-widgets/base",
            "_view_module_version": "1.2.0",
            "_view_name": "LayoutView",
            "align_content": null,
            "align_items": null,
            "align_self": null,
            "border": null,
            "bottom": null,
            "display": null,
            "flex": null,
            "flex_flow": null,
            "grid_area": null,
            "grid_auto_columns": null,
            "grid_auto_flow": null,
            "grid_auto_rows": null,
            "grid_column": null,
            "grid_gap": null,
            "grid_row": null,
            "grid_template_areas": null,
            "grid_template_columns": null,
            "grid_template_rows": null,
            "height": null,
            "justify_content": null,
            "justify_items": null,
            "left": null,
            "margin": null,
            "max_height": null,
            "max_width": null,
            "min_height": null,
            "min_width": null,
            "object_fit": null,
            "object_position": null,
            "order": null,
            "overflow": null,
            "overflow_x": null,
            "overflow_y": null,
            "padding": null,
            "right": null,
            "top": null,
            "visibility": null,
            "width": null
          }
        },
        "0e0b21f856db4ef1a5f18fdddc2ab9ed": {
          "model_module": "@jupyter-widgets/base",
          "model_name": "LayoutModel",
          "model_module_version": "1.2.0",
          "state": {
            "_model_module": "@jupyter-widgets/base",
            "_model_module_version": "1.2.0",
            "_model_name": "LayoutModel",
            "_view_count": null,
            "_view_module": "@jupyter-widgets/base",
            "_view_module_version": "1.2.0",
            "_view_name": "LayoutView",
            "align_content": null,
            "align_items": null,
            "align_self": null,
            "border": null,
            "bottom": null,
            "display": null,
            "flex": null,
            "flex_flow": null,
            "grid_area": null,
            "grid_auto_columns": null,
            "grid_auto_flow": null,
            "grid_auto_rows": null,
            "grid_column": null,
            "grid_gap": null,
            "grid_row": null,
            "grid_template_areas": null,
            "grid_template_columns": null,
            "grid_template_rows": null,
            "height": null,
            "justify_content": null,
            "justify_items": null,
            "left": null,
            "margin": null,
            "max_height": null,
            "max_width": null,
            "min_height": null,
            "min_width": null,
            "object_fit": null,
            "object_position": null,
            "order": null,
            "overflow": null,
            "overflow_x": null,
            "overflow_y": null,
            "padding": null,
            "right": null,
            "top": null,
            "visibility": null,
            "width": null
          }
        },
        "b13c1de43e544c9e99bd380dd5dd5902": {
          "model_module": "@jupyter-widgets/controls",
          "model_name": "DescriptionStyleModel",
          "model_module_version": "1.5.0",
          "state": {
            "_model_module": "@jupyter-widgets/controls",
            "_model_module_version": "1.5.0",
            "_model_name": "DescriptionStyleModel",
            "_view_count": null,
            "_view_module": "@jupyter-widgets/base",
            "_view_module_version": "1.2.0",
            "_view_name": "StyleView",
            "description_width": ""
          }
        },
        "ce4bfcaa69624dbca3248894646f7002": {
          "model_module": "@jupyter-widgets/base",
          "model_name": "LayoutModel",
          "model_module_version": "1.2.0",
          "state": {
            "_model_module": "@jupyter-widgets/base",
            "_model_module_version": "1.2.0",
            "_model_name": "LayoutModel",
            "_view_count": null,
            "_view_module": "@jupyter-widgets/base",
            "_view_module_version": "1.2.0",
            "_view_name": "LayoutView",
            "align_content": null,
            "align_items": null,
            "align_self": null,
            "border": null,
            "bottom": null,
            "display": null,
            "flex": null,
            "flex_flow": null,
            "grid_area": null,
            "grid_auto_columns": null,
            "grid_auto_flow": null,
            "grid_auto_rows": null,
            "grid_column": null,
            "grid_gap": null,
            "grid_row": null,
            "grid_template_areas": null,
            "grid_template_columns": null,
            "grid_template_rows": null,
            "height": null,
            "justify_content": null,
            "justify_items": null,
            "left": null,
            "margin": null,
            "max_height": null,
            "max_width": null,
            "min_height": null,
            "min_width": null,
            "object_fit": null,
            "object_position": null,
            "order": null,
            "overflow": null,
            "overflow_x": null,
            "overflow_y": null,
            "padding": null,
            "right": null,
            "top": null,
            "visibility": null,
            "width": null
          }
        },
        "5ad3ada055824f1d9ef8349affb5efcd": {
          "model_module": "@jupyter-widgets/controls",
          "model_name": "ProgressStyleModel",
          "model_module_version": "1.5.0",
          "state": {
            "_model_module": "@jupyter-widgets/controls",
            "_model_module_version": "1.5.0",
            "_model_name": "ProgressStyleModel",
            "_view_count": null,
            "_view_module": "@jupyter-widgets/base",
            "_view_module_version": "1.2.0",
            "_view_name": "StyleView",
            "bar_color": null,
            "description_width": ""
          }
        },
        "5ae222b930fb498b9bcf6ec5580f6be3": {
          "model_module": "@jupyter-widgets/base",
          "model_name": "LayoutModel",
          "model_module_version": "1.2.0",
          "state": {
            "_model_module": "@jupyter-widgets/base",
            "_model_module_version": "1.2.0",
            "_model_name": "LayoutModel",
            "_view_count": null,
            "_view_module": "@jupyter-widgets/base",
            "_view_module_version": "1.2.0",
            "_view_name": "LayoutView",
            "align_content": null,
            "align_items": null,
            "align_self": null,
            "border": null,
            "bottom": null,
            "display": null,
            "flex": null,
            "flex_flow": null,
            "grid_area": null,
            "grid_auto_columns": null,
            "grid_auto_flow": null,
            "grid_auto_rows": null,
            "grid_column": null,
            "grid_gap": null,
            "grid_row": null,
            "grid_template_areas": null,
            "grid_template_columns": null,
            "grid_template_rows": null,
            "height": null,
            "justify_content": null,
            "justify_items": null,
            "left": null,
            "margin": null,
            "max_height": null,
            "max_width": null,
            "min_height": null,
            "min_width": null,
            "object_fit": null,
            "object_position": null,
            "order": null,
            "overflow": null,
            "overflow_x": null,
            "overflow_y": null,
            "padding": null,
            "right": null,
            "top": null,
            "visibility": null,
            "width": null
          }
        },
        "da869b6c40f7421882bf008538c29ed2": {
          "model_module": "@jupyter-widgets/controls",
          "model_name": "DescriptionStyleModel",
          "model_module_version": "1.5.0",
          "state": {
            "_model_module": "@jupyter-widgets/controls",
            "_model_module_version": "1.5.0",
            "_model_name": "DescriptionStyleModel",
            "_view_count": null,
            "_view_module": "@jupyter-widgets/base",
            "_view_module_version": "1.2.0",
            "_view_name": "StyleView",
            "description_width": ""
          }
        },
        "91a0b1334a99495b9bd0da920f2b7526": {
          "model_module": "@jupyter-widgets/controls",
          "model_name": "HBoxModel",
          "model_module_version": "1.5.0",
          "state": {
            "_dom_classes": [],
            "_model_module": "@jupyter-widgets/controls",
            "_model_module_version": "1.5.0",
            "_model_name": "HBoxModel",
            "_view_count": null,
            "_view_module": "@jupyter-widgets/controls",
            "_view_module_version": "1.5.0",
            "_view_name": "HBoxView",
            "box_style": "",
            "children": [
              "IPY_MODEL_262b1c4676c347de92aa4eb216c03cc8",
              "IPY_MODEL_5373cc63894e4d2683afbff6aeb03062",
              "IPY_MODEL_c1621c27879747b797311e98db75adfd"
            ],
            "layout": "IPY_MODEL_cc6c0da9073d4e2dad472fb684bbcfe5"
          }
        },
        "262b1c4676c347de92aa4eb216c03cc8": {
          "model_module": "@jupyter-widgets/controls",
          "model_name": "HTMLModel",
          "model_module_version": "1.5.0",
          "state": {
            "_dom_classes": [],
            "_model_module": "@jupyter-widgets/controls",
            "_model_module_version": "1.5.0",
            "_model_name": "HTMLModel",
            "_view_count": null,
            "_view_module": "@jupyter-widgets/controls",
            "_view_module_version": "1.5.0",
            "_view_name": "HTMLView",
            "description": "",
            "description_tooltip": null,
            "layout": "IPY_MODEL_6541766d391b4984a220ab6e7cc739b0",
            "placeholder": "​",
            "style": "IPY_MODEL_27e0725a1a2c4e948f3df87de58f5ff1",
            "value": "100%"
          }
        },
        "5373cc63894e4d2683afbff6aeb03062": {
          "model_module": "@jupyter-widgets/controls",
          "model_name": "FloatProgressModel",
          "model_module_version": "1.5.0",
          "state": {
            "_dom_classes": [],
            "_model_module": "@jupyter-widgets/controls",
            "_model_module_version": "1.5.0",
            "_model_name": "FloatProgressModel",
            "_view_count": null,
            "_view_module": "@jupyter-widgets/controls",
            "_view_module_version": "1.5.0",
            "_view_name": "ProgressView",
            "bar_style": "success",
            "description": "",
            "description_tooltip": null,
            "layout": "IPY_MODEL_f5faf08eb2af460fa0a18e040f3fb725",
            "max": 307,
            "min": 0,
            "orientation": "horizontal",
            "style": "IPY_MODEL_9dbe72cc53374b549e6e51acc36f03f1",
            "value": 307
          }
        },
        "c1621c27879747b797311e98db75adfd": {
          "model_module": "@jupyter-widgets/controls",
          "model_name": "HTMLModel",
          "model_module_version": "1.5.0",
          "state": {
            "_dom_classes": [],
            "_model_module": "@jupyter-widgets/controls",
            "_model_module_version": "1.5.0",
            "_model_name": "HTMLModel",
            "_view_count": null,
            "_view_module": "@jupyter-widgets/controls",
            "_view_module_version": "1.5.0",
            "_view_name": "HTMLView",
            "description": "",
            "description_tooltip": null,
            "layout": "IPY_MODEL_f6e13cabd3d74c7ca2cffcd44d8fe356",
            "placeholder": "​",
            "style": "IPY_MODEL_944124cdc74c4c1a8b0f2074891d0322",
            "value": " 307/307 [00:01&lt;00:00, 252.87it/s]"
          }
        },
        "cc6c0da9073d4e2dad472fb684bbcfe5": {
          "model_module": "@jupyter-widgets/base",
          "model_name": "LayoutModel",
          "model_module_version": "1.2.0",
          "state": {
            "_model_module": "@jupyter-widgets/base",
            "_model_module_version": "1.2.0",
            "_model_name": "LayoutModel",
            "_view_count": null,
            "_view_module": "@jupyter-widgets/base",
            "_view_module_version": "1.2.0",
            "_view_name": "LayoutView",
            "align_content": null,
            "align_items": null,
            "align_self": null,
            "border": null,
            "bottom": null,
            "display": null,
            "flex": null,
            "flex_flow": null,
            "grid_area": null,
            "grid_auto_columns": null,
            "grid_auto_flow": null,
            "grid_auto_rows": null,
            "grid_column": null,
            "grid_gap": null,
            "grid_row": null,
            "grid_template_areas": null,
            "grid_template_columns": null,
            "grid_template_rows": null,
            "height": null,
            "justify_content": null,
            "justify_items": null,
            "left": null,
            "margin": null,
            "max_height": null,
            "max_width": null,
            "min_height": null,
            "min_width": null,
            "object_fit": null,
            "object_position": null,
            "order": null,
            "overflow": null,
            "overflow_x": null,
            "overflow_y": null,
            "padding": null,
            "right": null,
            "top": null,
            "visibility": null,
            "width": null
          }
        },
        "6541766d391b4984a220ab6e7cc739b0": {
          "model_module": "@jupyter-widgets/base",
          "model_name": "LayoutModel",
          "model_module_version": "1.2.0",
          "state": {
            "_model_module": "@jupyter-widgets/base",
            "_model_module_version": "1.2.0",
            "_model_name": "LayoutModel",
            "_view_count": null,
            "_view_module": "@jupyter-widgets/base",
            "_view_module_version": "1.2.0",
            "_view_name": "LayoutView",
            "align_content": null,
            "align_items": null,
            "align_self": null,
            "border": null,
            "bottom": null,
            "display": null,
            "flex": null,
            "flex_flow": null,
            "grid_area": null,
            "grid_auto_columns": null,
            "grid_auto_flow": null,
            "grid_auto_rows": null,
            "grid_column": null,
            "grid_gap": null,
            "grid_row": null,
            "grid_template_areas": null,
            "grid_template_columns": null,
            "grid_template_rows": null,
            "height": null,
            "justify_content": null,
            "justify_items": null,
            "left": null,
            "margin": null,
            "max_height": null,
            "max_width": null,
            "min_height": null,
            "min_width": null,
            "object_fit": null,
            "object_position": null,
            "order": null,
            "overflow": null,
            "overflow_x": null,
            "overflow_y": null,
            "padding": null,
            "right": null,
            "top": null,
            "visibility": null,
            "width": null
          }
        },
        "27e0725a1a2c4e948f3df87de58f5ff1": {
          "model_module": "@jupyter-widgets/controls",
          "model_name": "DescriptionStyleModel",
          "model_module_version": "1.5.0",
          "state": {
            "_model_module": "@jupyter-widgets/controls",
            "_model_module_version": "1.5.0",
            "_model_name": "DescriptionStyleModel",
            "_view_count": null,
            "_view_module": "@jupyter-widgets/base",
            "_view_module_version": "1.2.0",
            "_view_name": "StyleView",
            "description_width": ""
          }
        },
        "f5faf08eb2af460fa0a18e040f3fb725": {
          "model_module": "@jupyter-widgets/base",
          "model_name": "LayoutModel",
          "model_module_version": "1.2.0",
          "state": {
            "_model_module": "@jupyter-widgets/base",
            "_model_module_version": "1.2.0",
            "_model_name": "LayoutModel",
            "_view_count": null,
            "_view_module": "@jupyter-widgets/base",
            "_view_module_version": "1.2.0",
            "_view_name": "LayoutView",
            "align_content": null,
            "align_items": null,
            "align_self": null,
            "border": null,
            "bottom": null,
            "display": null,
            "flex": null,
            "flex_flow": null,
            "grid_area": null,
            "grid_auto_columns": null,
            "grid_auto_flow": null,
            "grid_auto_rows": null,
            "grid_column": null,
            "grid_gap": null,
            "grid_row": null,
            "grid_template_areas": null,
            "grid_template_columns": null,
            "grid_template_rows": null,
            "height": null,
            "justify_content": null,
            "justify_items": null,
            "left": null,
            "margin": null,
            "max_height": null,
            "max_width": null,
            "min_height": null,
            "min_width": null,
            "object_fit": null,
            "object_position": null,
            "order": null,
            "overflow": null,
            "overflow_x": null,
            "overflow_y": null,
            "padding": null,
            "right": null,
            "top": null,
            "visibility": null,
            "width": null
          }
        },
        "9dbe72cc53374b549e6e51acc36f03f1": {
          "model_module": "@jupyter-widgets/controls",
          "model_name": "ProgressStyleModel",
          "model_module_version": "1.5.0",
          "state": {
            "_model_module": "@jupyter-widgets/controls",
            "_model_module_version": "1.5.0",
            "_model_name": "ProgressStyleModel",
            "_view_count": null,
            "_view_module": "@jupyter-widgets/base",
            "_view_module_version": "1.2.0",
            "_view_name": "StyleView",
            "bar_color": null,
            "description_width": ""
          }
        },
        "f6e13cabd3d74c7ca2cffcd44d8fe356": {
          "model_module": "@jupyter-widgets/base",
          "model_name": "LayoutModel",
          "model_module_version": "1.2.0",
          "state": {
            "_model_module": "@jupyter-widgets/base",
            "_model_module_version": "1.2.0",
            "_model_name": "LayoutModel",
            "_view_count": null,
            "_view_module": "@jupyter-widgets/base",
            "_view_module_version": "1.2.0",
            "_view_name": "LayoutView",
            "align_content": null,
            "align_items": null,
            "align_self": null,
            "border": null,
            "bottom": null,
            "display": null,
            "flex": null,
            "flex_flow": null,
            "grid_area": null,
            "grid_auto_columns": null,
            "grid_auto_flow": null,
            "grid_auto_rows": null,
            "grid_column": null,
            "grid_gap": null,
            "grid_row": null,
            "grid_template_areas": null,
            "grid_template_columns": null,
            "grid_template_rows": null,
            "height": null,
            "justify_content": null,
            "justify_items": null,
            "left": null,
            "margin": null,
            "max_height": null,
            "max_width": null,
            "min_height": null,
            "min_width": null,
            "object_fit": null,
            "object_position": null,
            "order": null,
            "overflow": null,
            "overflow_x": null,
            "overflow_y": null,
            "padding": null,
            "right": null,
            "top": null,
            "visibility": null,
            "width": null
          }
        },
        "944124cdc74c4c1a8b0f2074891d0322": {
          "model_module": "@jupyter-widgets/controls",
          "model_name": "DescriptionStyleModel",
          "model_module_version": "1.5.0",
          "state": {
            "_model_module": "@jupyter-widgets/controls",
            "_model_module_version": "1.5.0",
            "_model_name": "DescriptionStyleModel",
            "_view_count": null,
            "_view_module": "@jupyter-widgets/base",
            "_view_module_version": "1.2.0",
            "_view_name": "StyleView",
            "description_width": ""
          }
        },
        "23fb277a9963450e85f03d61a0431e3e": {
          "model_module": "@jupyter-widgets/controls",
          "model_name": "HBoxModel",
          "model_module_version": "1.5.0",
          "state": {
            "_dom_classes": [],
            "_model_module": "@jupyter-widgets/controls",
            "_model_module_version": "1.5.0",
            "_model_name": "HBoxModel",
            "_view_count": null,
            "_view_module": "@jupyter-widgets/controls",
            "_view_module_version": "1.5.0",
            "_view_name": "HBoxView",
            "box_style": "",
            "children": [
              "IPY_MODEL_5782cc7f29464b47854be43ff287f40a",
              "IPY_MODEL_f04a096540fa4786a66c6f27ae0f2771",
              "IPY_MODEL_8691cf4e3fb145358d10e0582cb8a402"
            ],
            "layout": "IPY_MODEL_50e7c1889b7549f089599180af743ae2"
          }
        },
        "5782cc7f29464b47854be43ff287f40a": {
          "model_module": "@jupyter-widgets/controls",
          "model_name": "HTMLModel",
          "model_module_version": "1.5.0",
          "state": {
            "_dom_classes": [],
            "_model_module": "@jupyter-widgets/controls",
            "_model_module_version": "1.5.0",
            "_model_name": "HTMLModel",
            "_view_count": null,
            "_view_module": "@jupyter-widgets/controls",
            "_view_module_version": "1.5.0",
            "_view_name": "HTMLView",
            "description": "",
            "description_tooltip": null,
            "layout": "IPY_MODEL_edf7dda4dc9244e59e287720585d158e",
            "placeholder": "​",
            "style": "IPY_MODEL_dcefe5a3cca343d483a9d7d6f6cac755",
            "value": "100%"
          }
        },
        "f04a096540fa4786a66c6f27ae0f2771": {
          "model_module": "@jupyter-widgets/controls",
          "model_name": "FloatProgressModel",
          "model_module_version": "1.5.0",
          "state": {
            "_dom_classes": [],
            "_model_module": "@jupyter-widgets/controls",
            "_model_module_version": "1.5.0",
            "_model_name": "FloatProgressModel",
            "_view_count": null,
            "_view_module": "@jupyter-widgets/controls",
            "_view_module_version": "1.5.0",
            "_view_name": "ProgressView",
            "bar_style": "success",
            "description": "",
            "description_tooltip": null,
            "layout": "IPY_MODEL_bfaf63ddbee744bc8afcdfd9ce7fcfb0",
            "max": 52,
            "min": 0,
            "orientation": "horizontal",
            "style": "IPY_MODEL_847da86116d941f68d28c514650a4722",
            "value": 52
          }
        },
        "8691cf4e3fb145358d10e0582cb8a402": {
          "model_module": "@jupyter-widgets/controls",
          "model_name": "HTMLModel",
          "model_module_version": "1.5.0",
          "state": {
            "_dom_classes": [],
            "_model_module": "@jupyter-widgets/controls",
            "_model_module_version": "1.5.0",
            "_model_name": "HTMLModel",
            "_view_count": null,
            "_view_module": "@jupyter-widgets/controls",
            "_view_module_version": "1.5.0",
            "_view_name": "HTMLView",
            "description": "",
            "description_tooltip": null,
            "layout": "IPY_MODEL_8d87198870034958ae893c0a7b331c2e",
            "placeholder": "​",
            "style": "IPY_MODEL_28f16d5fc119401e969656606c7410fd",
            "value": " 52/52 [00:45&lt;00:00,  1.71it/s]"
          }
        },
        "50e7c1889b7549f089599180af743ae2": {
          "model_module": "@jupyter-widgets/base",
          "model_name": "LayoutModel",
          "model_module_version": "1.2.0",
          "state": {
            "_model_module": "@jupyter-widgets/base",
            "_model_module_version": "1.2.0",
            "_model_name": "LayoutModel",
            "_view_count": null,
            "_view_module": "@jupyter-widgets/base",
            "_view_module_version": "1.2.0",
            "_view_name": "LayoutView",
            "align_content": null,
            "align_items": null,
            "align_self": null,
            "border": null,
            "bottom": null,
            "display": null,
            "flex": null,
            "flex_flow": null,
            "grid_area": null,
            "grid_auto_columns": null,
            "grid_auto_flow": null,
            "grid_auto_rows": null,
            "grid_column": null,
            "grid_gap": null,
            "grid_row": null,
            "grid_template_areas": null,
            "grid_template_columns": null,
            "grid_template_rows": null,
            "height": null,
            "justify_content": null,
            "justify_items": null,
            "left": null,
            "margin": null,
            "max_height": null,
            "max_width": null,
            "min_height": null,
            "min_width": null,
            "object_fit": null,
            "object_position": null,
            "order": null,
            "overflow": null,
            "overflow_x": null,
            "overflow_y": null,
            "padding": null,
            "right": null,
            "top": null,
            "visibility": null,
            "width": null
          }
        },
        "edf7dda4dc9244e59e287720585d158e": {
          "model_module": "@jupyter-widgets/base",
          "model_name": "LayoutModel",
          "model_module_version": "1.2.0",
          "state": {
            "_model_module": "@jupyter-widgets/base",
            "_model_module_version": "1.2.0",
            "_model_name": "LayoutModel",
            "_view_count": null,
            "_view_module": "@jupyter-widgets/base",
            "_view_module_version": "1.2.0",
            "_view_name": "LayoutView",
            "align_content": null,
            "align_items": null,
            "align_self": null,
            "border": null,
            "bottom": null,
            "display": null,
            "flex": null,
            "flex_flow": null,
            "grid_area": null,
            "grid_auto_columns": null,
            "grid_auto_flow": null,
            "grid_auto_rows": null,
            "grid_column": null,
            "grid_gap": null,
            "grid_row": null,
            "grid_template_areas": null,
            "grid_template_columns": null,
            "grid_template_rows": null,
            "height": null,
            "justify_content": null,
            "justify_items": null,
            "left": null,
            "margin": null,
            "max_height": null,
            "max_width": null,
            "min_height": null,
            "min_width": null,
            "object_fit": null,
            "object_position": null,
            "order": null,
            "overflow": null,
            "overflow_x": null,
            "overflow_y": null,
            "padding": null,
            "right": null,
            "top": null,
            "visibility": null,
            "width": null
          }
        },
        "dcefe5a3cca343d483a9d7d6f6cac755": {
          "model_module": "@jupyter-widgets/controls",
          "model_name": "DescriptionStyleModel",
          "model_module_version": "1.5.0",
          "state": {
            "_model_module": "@jupyter-widgets/controls",
            "_model_module_version": "1.5.0",
            "_model_name": "DescriptionStyleModel",
            "_view_count": null,
            "_view_module": "@jupyter-widgets/base",
            "_view_module_version": "1.2.0",
            "_view_name": "StyleView",
            "description_width": ""
          }
        },
        "bfaf63ddbee744bc8afcdfd9ce7fcfb0": {
          "model_module": "@jupyter-widgets/base",
          "model_name": "LayoutModel",
          "model_module_version": "1.2.0",
          "state": {
            "_model_module": "@jupyter-widgets/base",
            "_model_module_version": "1.2.0",
            "_model_name": "LayoutModel",
            "_view_count": null,
            "_view_module": "@jupyter-widgets/base",
            "_view_module_version": "1.2.0",
            "_view_name": "LayoutView",
            "align_content": null,
            "align_items": null,
            "align_self": null,
            "border": null,
            "bottom": null,
            "display": null,
            "flex": null,
            "flex_flow": null,
            "grid_area": null,
            "grid_auto_columns": null,
            "grid_auto_flow": null,
            "grid_auto_rows": null,
            "grid_column": null,
            "grid_gap": null,
            "grid_row": null,
            "grid_template_areas": null,
            "grid_template_columns": null,
            "grid_template_rows": null,
            "height": null,
            "justify_content": null,
            "justify_items": null,
            "left": null,
            "margin": null,
            "max_height": null,
            "max_width": null,
            "min_height": null,
            "min_width": null,
            "object_fit": null,
            "object_position": null,
            "order": null,
            "overflow": null,
            "overflow_x": null,
            "overflow_y": null,
            "padding": null,
            "right": null,
            "top": null,
            "visibility": null,
            "width": null
          }
        },
        "847da86116d941f68d28c514650a4722": {
          "model_module": "@jupyter-widgets/controls",
          "model_name": "ProgressStyleModel",
          "model_module_version": "1.5.0",
          "state": {
            "_model_module": "@jupyter-widgets/controls",
            "_model_module_version": "1.5.0",
            "_model_name": "ProgressStyleModel",
            "_view_count": null,
            "_view_module": "@jupyter-widgets/base",
            "_view_module_version": "1.2.0",
            "_view_name": "StyleView",
            "bar_color": null,
            "description_width": ""
          }
        },
        "8d87198870034958ae893c0a7b331c2e": {
          "model_module": "@jupyter-widgets/base",
          "model_name": "LayoutModel",
          "model_module_version": "1.2.0",
          "state": {
            "_model_module": "@jupyter-widgets/base",
            "_model_module_version": "1.2.0",
            "_model_name": "LayoutModel",
            "_view_count": null,
            "_view_module": "@jupyter-widgets/base",
            "_view_module_version": "1.2.0",
            "_view_name": "LayoutView",
            "align_content": null,
            "align_items": null,
            "align_self": null,
            "border": null,
            "bottom": null,
            "display": null,
            "flex": null,
            "flex_flow": null,
            "grid_area": null,
            "grid_auto_columns": null,
            "grid_auto_flow": null,
            "grid_auto_rows": null,
            "grid_column": null,
            "grid_gap": null,
            "grid_row": null,
            "grid_template_areas": null,
            "grid_template_columns": null,
            "grid_template_rows": null,
            "height": null,
            "justify_content": null,
            "justify_items": null,
            "left": null,
            "margin": null,
            "max_height": null,
            "max_width": null,
            "min_height": null,
            "min_width": null,
            "object_fit": null,
            "object_position": null,
            "order": null,
            "overflow": null,
            "overflow_x": null,
            "overflow_y": null,
            "padding": null,
            "right": null,
            "top": null,
            "visibility": null,
            "width": null
          }
        },
        "28f16d5fc119401e969656606c7410fd": {
          "model_module": "@jupyter-widgets/controls",
          "model_name": "DescriptionStyleModel",
          "model_module_version": "1.5.0",
          "state": {
            "_model_module": "@jupyter-widgets/controls",
            "_model_module_version": "1.5.0",
            "_model_name": "DescriptionStyleModel",
            "_view_count": null,
            "_view_module": "@jupyter-widgets/base",
            "_view_module_version": "1.2.0",
            "_view_name": "StyleView",
            "description_width": ""
          }
        },
        "e57793448761462b958113e8d7207bad": {
          "model_module": "@jupyter-widgets/controls",
          "model_name": "HBoxModel",
          "model_module_version": "1.5.0",
          "state": {
            "_dom_classes": [],
            "_model_module": "@jupyter-widgets/controls",
            "_model_module_version": "1.5.0",
            "_model_name": "HBoxModel",
            "_view_count": null,
            "_view_module": "@jupyter-widgets/controls",
            "_view_module_version": "1.5.0",
            "_view_name": "HBoxView",
            "box_style": "",
            "children": [
              "IPY_MODEL_6902728b237a4aadb571b44e7f846259",
              "IPY_MODEL_15dfe7026a1144919331ca706757c0ff",
              "IPY_MODEL_a34f187cf37d4ced9ecec805c2c01830"
            ],
            "layout": "IPY_MODEL_7793960ce1594f3e9c5aacc71faa7e8d"
          }
        },
        "6902728b237a4aadb571b44e7f846259": {
          "model_module": "@jupyter-widgets/controls",
          "model_name": "HTMLModel",
          "model_module_version": "1.5.0",
          "state": {
            "_dom_classes": [],
            "_model_module": "@jupyter-widgets/controls",
            "_model_module_version": "1.5.0",
            "_model_name": "HTMLModel",
            "_view_count": null,
            "_view_module": "@jupyter-widgets/controls",
            "_view_module_version": "1.5.0",
            "_view_name": "HTMLView",
            "description": "",
            "description_tooltip": null,
            "layout": "IPY_MODEL_36b27e1d8bed419ea204bb939e31bca9",
            "placeholder": "​",
            "style": "IPY_MODEL_b9b6b840b9c5432192874604e9805a3f",
            "value": "100%"
          }
        },
        "15dfe7026a1144919331ca706757c0ff": {
          "model_module": "@jupyter-widgets/controls",
          "model_name": "FloatProgressModel",
          "model_module_version": "1.5.0",
          "state": {
            "_dom_classes": [],
            "_model_module": "@jupyter-widgets/controls",
            "_model_module_version": "1.5.0",
            "_model_name": "FloatProgressModel",
            "_view_count": null,
            "_view_module": "@jupyter-widgets/controls",
            "_view_module_version": "1.5.0",
            "_view_name": "ProgressView",
            "bar_style": "success",
            "description": "",
            "description_tooltip": null,
            "layout": "IPY_MODEL_65712a2a9f95446aad8d9955beb4f87c",
            "max": 52,
            "min": 0,
            "orientation": "horizontal",
            "style": "IPY_MODEL_1c44e1ae300c4077b1f3ebfed4277679",
            "value": 52
          }
        },
        "a34f187cf37d4ced9ecec805c2c01830": {
          "model_module": "@jupyter-widgets/controls",
          "model_name": "HTMLModel",
          "model_module_version": "1.5.0",
          "state": {
            "_dom_classes": [],
            "_model_module": "@jupyter-widgets/controls",
            "_model_module_version": "1.5.0",
            "_model_name": "HTMLModel",
            "_view_count": null,
            "_view_module": "@jupyter-widgets/controls",
            "_view_module_version": "1.5.0",
            "_view_name": "HTMLView",
            "description": "",
            "description_tooltip": null,
            "layout": "IPY_MODEL_9566caf358084733bd60e990b2e51a7c",
            "placeholder": "​",
            "style": "IPY_MODEL_06efe4c846f7494d9686330a3dfcffd1",
            "value": " 52/52 [00:10&lt;00:00,  4.89it/s]"
          }
        },
        "7793960ce1594f3e9c5aacc71faa7e8d": {
          "model_module": "@jupyter-widgets/base",
          "model_name": "LayoutModel",
          "model_module_version": "1.2.0",
          "state": {
            "_model_module": "@jupyter-widgets/base",
            "_model_module_version": "1.2.0",
            "_model_name": "LayoutModel",
            "_view_count": null,
            "_view_module": "@jupyter-widgets/base",
            "_view_module_version": "1.2.0",
            "_view_name": "LayoutView",
            "align_content": null,
            "align_items": null,
            "align_self": null,
            "border": null,
            "bottom": null,
            "display": null,
            "flex": null,
            "flex_flow": null,
            "grid_area": null,
            "grid_auto_columns": null,
            "grid_auto_flow": null,
            "grid_auto_rows": null,
            "grid_column": null,
            "grid_gap": null,
            "grid_row": null,
            "grid_template_areas": null,
            "grid_template_columns": null,
            "grid_template_rows": null,
            "height": null,
            "justify_content": null,
            "justify_items": null,
            "left": null,
            "margin": null,
            "max_height": null,
            "max_width": null,
            "min_height": null,
            "min_width": null,
            "object_fit": null,
            "object_position": null,
            "order": null,
            "overflow": null,
            "overflow_x": null,
            "overflow_y": null,
            "padding": null,
            "right": null,
            "top": null,
            "visibility": null,
            "width": null
          }
        },
        "36b27e1d8bed419ea204bb939e31bca9": {
          "model_module": "@jupyter-widgets/base",
          "model_name": "LayoutModel",
          "model_module_version": "1.2.0",
          "state": {
            "_model_module": "@jupyter-widgets/base",
            "_model_module_version": "1.2.0",
            "_model_name": "LayoutModel",
            "_view_count": null,
            "_view_module": "@jupyter-widgets/base",
            "_view_module_version": "1.2.0",
            "_view_name": "LayoutView",
            "align_content": null,
            "align_items": null,
            "align_self": null,
            "border": null,
            "bottom": null,
            "display": null,
            "flex": null,
            "flex_flow": null,
            "grid_area": null,
            "grid_auto_columns": null,
            "grid_auto_flow": null,
            "grid_auto_rows": null,
            "grid_column": null,
            "grid_gap": null,
            "grid_row": null,
            "grid_template_areas": null,
            "grid_template_columns": null,
            "grid_template_rows": null,
            "height": null,
            "justify_content": null,
            "justify_items": null,
            "left": null,
            "margin": null,
            "max_height": null,
            "max_width": null,
            "min_height": null,
            "min_width": null,
            "object_fit": null,
            "object_position": null,
            "order": null,
            "overflow": null,
            "overflow_x": null,
            "overflow_y": null,
            "padding": null,
            "right": null,
            "top": null,
            "visibility": null,
            "width": null
          }
        },
        "b9b6b840b9c5432192874604e9805a3f": {
          "model_module": "@jupyter-widgets/controls",
          "model_name": "DescriptionStyleModel",
          "model_module_version": "1.5.0",
          "state": {
            "_model_module": "@jupyter-widgets/controls",
            "_model_module_version": "1.5.0",
            "_model_name": "DescriptionStyleModel",
            "_view_count": null,
            "_view_module": "@jupyter-widgets/base",
            "_view_module_version": "1.2.0",
            "_view_name": "StyleView",
            "description_width": ""
          }
        },
        "65712a2a9f95446aad8d9955beb4f87c": {
          "model_module": "@jupyter-widgets/base",
          "model_name": "LayoutModel",
          "model_module_version": "1.2.0",
          "state": {
            "_model_module": "@jupyter-widgets/base",
            "_model_module_version": "1.2.0",
            "_model_name": "LayoutModel",
            "_view_count": null,
            "_view_module": "@jupyter-widgets/base",
            "_view_module_version": "1.2.0",
            "_view_name": "LayoutView",
            "align_content": null,
            "align_items": null,
            "align_self": null,
            "border": null,
            "bottom": null,
            "display": null,
            "flex": null,
            "flex_flow": null,
            "grid_area": null,
            "grid_auto_columns": null,
            "grid_auto_flow": null,
            "grid_auto_rows": null,
            "grid_column": null,
            "grid_gap": null,
            "grid_row": null,
            "grid_template_areas": null,
            "grid_template_columns": null,
            "grid_template_rows": null,
            "height": null,
            "justify_content": null,
            "justify_items": null,
            "left": null,
            "margin": null,
            "max_height": null,
            "max_width": null,
            "min_height": null,
            "min_width": null,
            "object_fit": null,
            "object_position": null,
            "order": null,
            "overflow": null,
            "overflow_x": null,
            "overflow_y": null,
            "padding": null,
            "right": null,
            "top": null,
            "visibility": null,
            "width": null
          }
        },
        "1c44e1ae300c4077b1f3ebfed4277679": {
          "model_module": "@jupyter-widgets/controls",
          "model_name": "ProgressStyleModel",
          "model_module_version": "1.5.0",
          "state": {
            "_model_module": "@jupyter-widgets/controls",
            "_model_module_version": "1.5.0",
            "_model_name": "ProgressStyleModel",
            "_view_count": null,
            "_view_module": "@jupyter-widgets/base",
            "_view_module_version": "1.2.0",
            "_view_name": "StyleView",
            "bar_color": null,
            "description_width": ""
          }
        },
        "9566caf358084733bd60e990b2e51a7c": {
          "model_module": "@jupyter-widgets/base",
          "model_name": "LayoutModel",
          "model_module_version": "1.2.0",
          "state": {
            "_model_module": "@jupyter-widgets/base",
            "_model_module_version": "1.2.0",
            "_model_name": "LayoutModel",
            "_view_count": null,
            "_view_module": "@jupyter-widgets/base",
            "_view_module_version": "1.2.0",
            "_view_name": "LayoutView",
            "align_content": null,
            "align_items": null,
            "align_self": null,
            "border": null,
            "bottom": null,
            "display": null,
            "flex": null,
            "flex_flow": null,
            "grid_area": null,
            "grid_auto_columns": null,
            "grid_auto_flow": null,
            "grid_auto_rows": null,
            "grid_column": null,
            "grid_gap": null,
            "grid_row": null,
            "grid_template_areas": null,
            "grid_template_columns": null,
            "grid_template_rows": null,
            "height": null,
            "justify_content": null,
            "justify_items": null,
            "left": null,
            "margin": null,
            "max_height": null,
            "max_width": null,
            "min_height": null,
            "min_width": null,
            "object_fit": null,
            "object_position": null,
            "order": null,
            "overflow": null,
            "overflow_x": null,
            "overflow_y": null,
            "padding": null,
            "right": null,
            "top": null,
            "visibility": null,
            "width": null
          }
        },
        "06efe4c846f7494d9686330a3dfcffd1": {
          "model_module": "@jupyter-widgets/controls",
          "model_name": "DescriptionStyleModel",
          "model_module_version": "1.5.0",
          "state": {
            "_model_module": "@jupyter-widgets/controls",
            "_model_module_version": "1.5.0",
            "_model_name": "DescriptionStyleModel",
            "_view_count": null,
            "_view_module": "@jupyter-widgets/base",
            "_view_module_version": "1.2.0",
            "_view_name": "StyleView",
            "description_width": ""
          }
        },
        "20f23e668af8461db2bea64eac427d34": {
          "model_module": "@jupyter-widgets/controls",
          "model_name": "HBoxModel",
          "model_module_version": "1.5.0",
          "state": {
            "_dom_classes": [],
            "_model_module": "@jupyter-widgets/controls",
            "_model_module_version": "1.5.0",
            "_model_name": "HBoxModel",
            "_view_count": null,
            "_view_module": "@jupyter-widgets/controls",
            "_view_module_version": "1.5.0",
            "_view_name": "HBoxView",
            "box_style": "",
            "children": [
              "IPY_MODEL_a4a7ddf8d1f249b9969cb4a16932e270",
              "IPY_MODEL_efd2607ae6e1476b84f855a6c695ce5a",
              "IPY_MODEL_9f943c34838643cb9fb29c57dc8b7bee"
            ],
            "layout": "IPY_MODEL_2e6f3919e182416aaacabb9129539c0f"
          }
        },
        "a4a7ddf8d1f249b9969cb4a16932e270": {
          "model_module": "@jupyter-widgets/controls",
          "model_name": "HTMLModel",
          "model_module_version": "1.5.0",
          "state": {
            "_dom_classes": [],
            "_model_module": "@jupyter-widgets/controls",
            "_model_module_version": "1.5.0",
            "_model_name": "HTMLModel",
            "_view_count": null,
            "_view_module": "@jupyter-widgets/controls",
            "_view_module_version": "1.5.0",
            "_view_name": "HTMLView",
            "description": "",
            "description_tooltip": null,
            "layout": "IPY_MODEL_0415e3de7ea04b9889f81e8ad30b6edc",
            "placeholder": "​",
            "style": "IPY_MODEL_1a8fcae89d014cbab912cebed0dabec3",
            "value": "100%"
          }
        },
        "efd2607ae6e1476b84f855a6c695ce5a": {
          "model_module": "@jupyter-widgets/controls",
          "model_name": "FloatProgressModel",
          "model_module_version": "1.5.0",
          "state": {
            "_dom_classes": [],
            "_model_module": "@jupyter-widgets/controls",
            "_model_module_version": "1.5.0",
            "_model_name": "FloatProgressModel",
            "_view_count": null,
            "_view_module": "@jupyter-widgets/controls",
            "_view_module_version": "1.5.0",
            "_view_name": "ProgressView",
            "bar_style": "success",
            "description": "",
            "description_tooltip": null,
            "layout": "IPY_MODEL_2ec50464491d477d8aa2027416c61645",
            "max": 52,
            "min": 0,
            "orientation": "horizontal",
            "style": "IPY_MODEL_bceb5bac2195422e83566819e4787fd4",
            "value": 52
          }
        },
        "9f943c34838643cb9fb29c57dc8b7bee": {
          "model_module": "@jupyter-widgets/controls",
          "model_name": "HTMLModel",
          "model_module_version": "1.5.0",
          "state": {
            "_dom_classes": [],
            "_model_module": "@jupyter-widgets/controls",
            "_model_module_version": "1.5.0",
            "_model_name": "HTMLModel",
            "_view_count": null,
            "_view_module": "@jupyter-widgets/controls",
            "_view_module_version": "1.5.0",
            "_view_name": "HTMLView",
            "description": "",
            "description_tooltip": null,
            "layout": "IPY_MODEL_23e4c6a302fa4d5abb0e7871e6032aef",
            "placeholder": "​",
            "style": "IPY_MODEL_85f39bdd7a1a49b9aab623b623b8a9ae",
            "value": " 52/52 [00:00&lt;00:00, 183.43it/s]"
          }
        },
        "2e6f3919e182416aaacabb9129539c0f": {
          "model_module": "@jupyter-widgets/base",
          "model_name": "LayoutModel",
          "model_module_version": "1.2.0",
          "state": {
            "_model_module": "@jupyter-widgets/base",
            "_model_module_version": "1.2.0",
            "_model_name": "LayoutModel",
            "_view_count": null,
            "_view_module": "@jupyter-widgets/base",
            "_view_module_version": "1.2.0",
            "_view_name": "LayoutView",
            "align_content": null,
            "align_items": null,
            "align_self": null,
            "border": null,
            "bottom": null,
            "display": null,
            "flex": null,
            "flex_flow": null,
            "grid_area": null,
            "grid_auto_columns": null,
            "grid_auto_flow": null,
            "grid_auto_rows": null,
            "grid_column": null,
            "grid_gap": null,
            "grid_row": null,
            "grid_template_areas": null,
            "grid_template_columns": null,
            "grid_template_rows": null,
            "height": null,
            "justify_content": null,
            "justify_items": null,
            "left": null,
            "margin": null,
            "max_height": null,
            "max_width": null,
            "min_height": null,
            "min_width": null,
            "object_fit": null,
            "object_position": null,
            "order": null,
            "overflow": null,
            "overflow_x": null,
            "overflow_y": null,
            "padding": null,
            "right": null,
            "top": null,
            "visibility": null,
            "width": null
          }
        },
        "0415e3de7ea04b9889f81e8ad30b6edc": {
          "model_module": "@jupyter-widgets/base",
          "model_name": "LayoutModel",
          "model_module_version": "1.2.0",
          "state": {
            "_model_module": "@jupyter-widgets/base",
            "_model_module_version": "1.2.0",
            "_model_name": "LayoutModel",
            "_view_count": null,
            "_view_module": "@jupyter-widgets/base",
            "_view_module_version": "1.2.0",
            "_view_name": "LayoutView",
            "align_content": null,
            "align_items": null,
            "align_self": null,
            "border": null,
            "bottom": null,
            "display": null,
            "flex": null,
            "flex_flow": null,
            "grid_area": null,
            "grid_auto_columns": null,
            "grid_auto_flow": null,
            "grid_auto_rows": null,
            "grid_column": null,
            "grid_gap": null,
            "grid_row": null,
            "grid_template_areas": null,
            "grid_template_columns": null,
            "grid_template_rows": null,
            "height": null,
            "justify_content": null,
            "justify_items": null,
            "left": null,
            "margin": null,
            "max_height": null,
            "max_width": null,
            "min_height": null,
            "min_width": null,
            "object_fit": null,
            "object_position": null,
            "order": null,
            "overflow": null,
            "overflow_x": null,
            "overflow_y": null,
            "padding": null,
            "right": null,
            "top": null,
            "visibility": null,
            "width": null
          }
        },
        "1a8fcae89d014cbab912cebed0dabec3": {
          "model_module": "@jupyter-widgets/controls",
          "model_name": "DescriptionStyleModel",
          "model_module_version": "1.5.0",
          "state": {
            "_model_module": "@jupyter-widgets/controls",
            "_model_module_version": "1.5.0",
            "_model_name": "DescriptionStyleModel",
            "_view_count": null,
            "_view_module": "@jupyter-widgets/base",
            "_view_module_version": "1.2.0",
            "_view_name": "StyleView",
            "description_width": ""
          }
        },
        "2ec50464491d477d8aa2027416c61645": {
          "model_module": "@jupyter-widgets/base",
          "model_name": "LayoutModel",
          "model_module_version": "1.2.0",
          "state": {
            "_model_module": "@jupyter-widgets/base",
            "_model_module_version": "1.2.0",
            "_model_name": "LayoutModel",
            "_view_count": null,
            "_view_module": "@jupyter-widgets/base",
            "_view_module_version": "1.2.0",
            "_view_name": "LayoutView",
            "align_content": null,
            "align_items": null,
            "align_self": null,
            "border": null,
            "bottom": null,
            "display": null,
            "flex": null,
            "flex_flow": null,
            "grid_area": null,
            "grid_auto_columns": null,
            "grid_auto_flow": null,
            "grid_auto_rows": null,
            "grid_column": null,
            "grid_gap": null,
            "grid_row": null,
            "grid_template_areas": null,
            "grid_template_columns": null,
            "grid_template_rows": null,
            "height": null,
            "justify_content": null,
            "justify_items": null,
            "left": null,
            "margin": null,
            "max_height": null,
            "max_width": null,
            "min_height": null,
            "min_width": null,
            "object_fit": null,
            "object_position": null,
            "order": null,
            "overflow": null,
            "overflow_x": null,
            "overflow_y": null,
            "padding": null,
            "right": null,
            "top": null,
            "visibility": null,
            "width": null
          }
        },
        "bceb5bac2195422e83566819e4787fd4": {
          "model_module": "@jupyter-widgets/controls",
          "model_name": "ProgressStyleModel",
          "model_module_version": "1.5.0",
          "state": {
            "_model_module": "@jupyter-widgets/controls",
            "_model_module_version": "1.5.0",
            "_model_name": "ProgressStyleModel",
            "_view_count": null,
            "_view_module": "@jupyter-widgets/base",
            "_view_module_version": "1.2.0",
            "_view_name": "StyleView",
            "bar_color": null,
            "description_width": ""
          }
        },
        "23e4c6a302fa4d5abb0e7871e6032aef": {
          "model_module": "@jupyter-widgets/base",
          "model_name": "LayoutModel",
          "model_module_version": "1.2.0",
          "state": {
            "_model_module": "@jupyter-widgets/base",
            "_model_module_version": "1.2.0",
            "_model_name": "LayoutModel",
            "_view_count": null,
            "_view_module": "@jupyter-widgets/base",
            "_view_module_version": "1.2.0",
            "_view_name": "LayoutView",
            "align_content": null,
            "align_items": null,
            "align_self": null,
            "border": null,
            "bottom": null,
            "display": null,
            "flex": null,
            "flex_flow": null,
            "grid_area": null,
            "grid_auto_columns": null,
            "grid_auto_flow": null,
            "grid_auto_rows": null,
            "grid_column": null,
            "grid_gap": null,
            "grid_row": null,
            "grid_template_areas": null,
            "grid_template_columns": null,
            "grid_template_rows": null,
            "height": null,
            "justify_content": null,
            "justify_items": null,
            "left": null,
            "margin": null,
            "max_height": null,
            "max_width": null,
            "min_height": null,
            "min_width": null,
            "object_fit": null,
            "object_position": null,
            "order": null,
            "overflow": null,
            "overflow_x": null,
            "overflow_y": null,
            "padding": null,
            "right": null,
            "top": null,
            "visibility": null,
            "width": null
          }
        },
        "85f39bdd7a1a49b9aab623b623b8a9ae": {
          "model_module": "@jupyter-widgets/controls",
          "model_name": "DescriptionStyleModel",
          "model_module_version": "1.5.0",
          "state": {
            "_model_module": "@jupyter-widgets/controls",
            "_model_module_version": "1.5.0",
            "_model_name": "DescriptionStyleModel",
            "_view_count": null,
            "_view_module": "@jupyter-widgets/base",
            "_view_module_version": "1.2.0",
            "_view_name": "StyleView",
            "description_width": ""
          }
        }
      }
    }
  },
  "nbformat_minor": 0,
  "nbformat": 4,
  "cells": [
    {
      "cell_type": "markdown",
      "source": [
        "# New dataset"
      ],
      "metadata": {
        "id": "Oxoqx6dthlmb"
      }
    },
    {
      "cell_type": "markdown",
      "source": [
        "# Install libs"
      ],
      "metadata": {
        "id": "Kssa8P233wUT"
      }
    },
    {
      "cell_type": "code",
      "source": [
        "# !pip install -q gdown --upgrade\n",
        "# !pip install PyYAML --upgrade\n",
        "# !pip install -q translate-api\n",
        "# !pip install -q pipreqsnb"
      ],
      "metadata": {
        "colab": {
          "base_uri": "https://localhost:8080/"
        },
        "id": "DQ1VloXb27f6",
        "outputId": "753cbfdd-1bd0-4e5a-edbd-dbda98367259"
      },
      "execution_count": 77,
      "outputs": [
        {
          "output_type": "stream",
          "name": "stdout",
          "text": [
            "pipreqs  --force /content\n",
            "INFO: Successfully saved requirements file in /content/requirements.txt\n"
          ]
        }
      ]
    },
    {
      "cell_type": "markdown",
      "source": [
        "# Import libs"
      ],
      "metadata": {
        "id": "y1EVZLTxE8h8"
      }
    },
    {
      "cell_type": "code",
      "source": [
        "import seaborn as sns\n",
        "import matplotlib.pyplot as plt\n",
        "import numpy as np\n",
        "import json\n",
        "from tqdm.notebook import tqdm\n",
        "import IPython.display as display\n",
        "from PIL import Image\n",
        "import pandas as pd\n",
        "import pickle\n",
        "import os\n",
        "import yaml\n",
        "import translators as ts"
      ],
      "metadata": {
        "id": "QFZyWcoAE_SI"
      },
      "execution_count": 78,
      "outputs": []
    },
    {
      "cell_type": "code",
      "source": [
        "!pipreqsnb --force"
      ],
      "metadata": {
        "colab": {
          "base_uri": "https://localhost:8080/"
        },
        "id": "oqCqNsbyRNPc",
        "outputId": "0b9f1164-ce0a-4110-cdec-167adb0c0e38"
      },
      "execution_count": 80,
      "outputs": [
        {
          "output_type": "stream",
          "name": "stdout",
          "text": [
            "pipreqs  --force /content\n",
            "INFO: Successfully saved requirements file in /content/requirements.txt\n"
          ]
        }
      ]
    },
    {
      "cell_type": "markdown",
      "source": [
        "# Config file"
      ],
      "metadata": {
        "id": "SPVWtSQmGfgh"
      }
    },
    {
      "cell_type": "code",
      "source": [
        "def read_yaml(file_path):\n",
        "    with open(file_path, \"r\") as f:\n",
        "        return yaml.safe_load(f)\n",
        "\n",
        "config = read_yaml('config.yml')\n",
        "config"
      ],
      "metadata": {
        "colab": {
          "base_uri": "https://localhost:8080/"
        },
        "id": "lpxBBuTMGh4g",
        "outputId": "1463b116-d619-430b-c839-daa887e5d111"
      },
      "execution_count": 3,
      "outputs": [
        {
          "output_type": "execute_result",
          "data": {
            "text/plain": [
              "{'path': {'emotion_id_path': 'data/emotion_dict.json',\n",
              "  'image_path': 'data/image/',\n",
              "  'img2id_path': 'data/img2id.json',\n",
              "  'test_path': 'data/e_test.json',\n",
              "  'test_preprocessed_path': 'data/test.pickle',\n",
              "  'train_path': 'data/e_train.json',\n",
              "  'train_preprocessed_path': 'data/train.pickle',\n",
              "  'val_path': 'data/e_validation.json',\n",
              "  'val_preprocessed_path': 'data/val.pickle'}}"
            ]
          },
          "metadata": {},
          "execution_count": 3
        }
      ]
    },
    {
      "cell_type": "markdown",
      "source": [
        "# Download dataset (gdrive links)"
      ],
      "metadata": {
        "id": "l9IpV9_o3yBP"
      }
    },
    {
      "cell_type": "code",
      "source": [
        "# meme imgs\n",
        "!gdown --id 1GBhD3Y2WVKz-GDhR0Wy1stn5pIq21j8Y \n",
        "\n",
        "# img2json\n",
        "!gdown --id 1xWQ0EvSU1xfPw8R39Z2NGlPNcdpWaEn0\n",
        "\n",
        "# !emotion id\n",
        "!gdown --id 1LTh7COuQ3lVAvcoJ9KGJ5R2o3Yqm_RSC\n",
        "\n",
        "# train\n",
        "!gdown --id 1Wz1-whLE1JRmDJaw09FvNl3nfrE9mQlc\n",
        "\n",
        "# val\n",
        "!gdown --id 1bSnrwCYi5LjxSfN8V0nNUqRMTvQmrkqj\n",
        "\n",
        "# val task 1\n",
        "!gdown --id 1k3HEBv0BO256AgtackTnSYRtL-oe1PML"
      ],
      "metadata": {
        "colab": {
          "base_uri": "https://localhost:8080/"
        },
        "id": "ArFzEMBthm1V",
        "outputId": "e8c87975-a235-488b-cc32-b88a00c3eb58"
      },
      "execution_count": 4,
      "outputs": [
        {
          "output_type": "stream",
          "name": "stdout",
          "text": [
            "/usr/local/lib/python3.7/dist-packages/gdown/cli.py:131: FutureWarning: Option `--id` was deprecated in version 4.3.1 and will be removed in 5.0. You don't need to pass it anymore to use a file ID.\n",
            "  category=FutureWarning,\n",
            "Downloading...\n",
            "From: https://drive.google.com/uc?id=1GBhD3Y2WVKz-GDhR0Wy1stn5pIq21j8Y\n",
            "To: /content/meme_set.zip\n",
            "100% 13.5M/13.5M [00:00<00:00, 144MB/s]\n",
            "/usr/local/lib/python3.7/dist-packages/gdown/cli.py:131: FutureWarning: Option `--id` was deprecated in version 4.3.1 and will be removed in 5.0. You don't need to pass it anymore to use a file ID.\n",
            "  category=FutureWarning,\n",
            "Downloading...\n",
            "From: https://drive.google.com/uc?id=1xWQ0EvSU1xfPw8R39Z2NGlPNcdpWaEn0\n",
            "To: /content/img2id.json\n",
            "100% 10.2k/10.2k [00:00<00:00, 13.7MB/s]\n",
            "/usr/local/lib/python3.7/dist-packages/gdown/cli.py:131: FutureWarning: Option `--id` was deprecated in version 4.3.1 and will be removed in 5.0. You don't need to pass it anymore to use a file ID.\n",
            "  category=FutureWarning,\n",
            "Downloading...\n",
            "From: https://drive.google.com/uc?id=1LTh7COuQ3lVAvcoJ9KGJ5R2o3Yqm_RSC\n",
            "To: /content/emotion_dict.json\n",
            "100% 3.73k/3.73k [00:00<00:00, 5.61MB/s]\n",
            "/usr/local/lib/python3.7/dist-packages/gdown/cli.py:131: FutureWarning: Option `--id` was deprecated in version 4.3.1 and will be removed in 5.0. You don't need to pass it anymore to use a file ID.\n",
            "  category=FutureWarning,\n",
            "Downloading...\n",
            "From: https://drive.google.com/uc?id=1Wz1-whLE1JRmDJaw09FvNl3nfrE9mQlc\n",
            "To: /content/e_train.json\n",
            "100% 156M/156M [00:01<00:00, 152MB/s]\n",
            "/usr/local/lib/python3.7/dist-packages/gdown/cli.py:131: FutureWarning: Option `--id` was deprecated in version 4.3.1 and will be removed in 5.0. You don't need to pass it anymore to use a file ID.\n",
            "  category=FutureWarning,\n",
            "Downloading...\n",
            "From: https://drive.google.com/uc?id=1bSnrwCYi5LjxSfN8V0nNUqRMTvQmrkqj\n",
            "To: /content/e_validation.json\n",
            "100% 1.99M/1.99M [00:00<00:00, 40.1MB/s]\n",
            "/usr/local/lib/python3.7/dist-packages/gdown/cli.py:131: FutureWarning: Option `--id` was deprecated in version 4.3.1 and will be removed in 5.0. You don't need to pass it anymore to use a file ID.\n",
            "  category=FutureWarning,\n",
            "Downloading...\n",
            "From: https://drive.google.com/uc?id=1k3HEBv0BO256AgtackTnSYRtL-oe1PML\n",
            "To: /content/e_val_task1.json\n",
            "100% 16.6M/16.6M [00:00<00:00, 76.9MB/s]\n"
          ]
        }
      ]
    },
    {
      "cell_type": "code",
      "source": [
        "!mkdir data\n",
        "\n",
        "# Move data.json to folder data\n",
        "!mv e_train.json data\n",
        "!mv e_validation.json data\n",
        "# !mv e_test.json data\n",
        "\n",
        "# Move img2id.json to folder data\n",
        "!mv img2id.json data\n",
        "\n",
        "# Move img zip to folder data\n",
        "!mv meme_set.zip data\n",
        "\n",
        "# Move emotion dict to folder data\n",
        "!mv emotion_dict.json data"
      ],
      "metadata": {
        "colab": {
          "base_uri": "https://localhost:8080/"
        },
        "id": "RQEXNu4wWT3l",
        "outputId": "97ae9a2d-2bc4-458e-d088-cc8109d1e4ec"
      },
      "execution_count": 5,
      "outputs": [
        {
          "output_type": "stream",
          "name": "stdout",
          "text": [
            "mkdir: cannot create directory ‘data’: File exists\n"
          ]
        }
      ]
    },
    {
      "cell_type": "code",
      "source": [
        "!unzip -q -o data/meme_set.zip -d data"
      ],
      "metadata": {
        "id": "9C7Og1S5hsGV"
      },
      "execution_count": 6,
      "outputs": []
    },
    {
      "cell_type": "markdown",
      "source": [
        "# Read data"
      ],
      "metadata": {
        "id": "NUBRGLSc34Pk"
      }
    },
    {
      "cell_type": "markdown",
      "source": [
        "## Img to id json"
      ],
      "metadata": {
        "id": "EeoeAeug37Gv"
      }
    },
    {
      "cell_type": "code",
      "source": [
        "def read_json(path):\n",
        "    with open(path, \"r\") as read_file:\n",
        "        data = json.load(read_file)\n",
        "    return data\n",
        "\n",
        "img2id_path = config['path']['img2id_path']\n",
        "img2id = read_json(img2id_path)"
      ],
      "metadata": {
        "id": "aaL3JsmY3o_A"
      },
      "execution_count": 7,
      "outputs": []
    },
    {
      "cell_type": "markdown",
      "source": [
        "## Train json"
      ],
      "metadata": {
        "id": "qjA1sZYm4AK-"
      }
    },
    {
      "cell_type": "code",
      "source": [
        "train_json = read_json(config['path']['train_path'])\n",
        "val_json = read_json(config['path']['val_path'])\n",
        "# test_json = read_json(config['path']['test_path'])"
      ],
      "metadata": {
        "id": "vZqiAKbfyFbc"
      },
      "execution_count": 8,
      "outputs": []
    },
    {
      "cell_type": "code",
      "source": [
        "val_json['dialogue 11001']"
      ],
      "metadata": {
        "colab": {
          "base_uri": "https://localhost:8080/"
        },
        "id": "WYOXVjRbwInt",
        "outputId": "090206e1-f72c-4736-e46c-cf673a7d326b"
      },
      "execution_count": 9,
      "outputs": [
        {
          "output_type": "execute_result",
          "data": {
            "text/plain": [
              "[{'emotion_id': 5,\n",
              "  'img_id': '030',\n",
              "  'speaker_id': '[speaker1]',\n",
              "  'txt': 'Go to work in the rain today! ! ! !'},\n",
              " {'img_id': '107', 'speaker_id': '[speaker2]', 'txt': \"Haha~ I'm off today~~\"},\n",
              " {'emotion_id': 29,\n",
              "  'img_id': '196',\n",
              "  'speaker_id': '[speaker1]',\n",
              "  'txt': 'What class is tomorrow?'},\n",
              " {'speaker_id': '[speaker2]', 'txt': 'Morning shift'},\n",
              " {'speaker_id': '[speaker1]', 'txt': 'It will rain tomorrow too! Dear,'},\n",
              " {'speaker_id': '[speaker2]', 'txt': 'I know'},\n",
              " {'speaker_id': '[speaker1]', 'txt': 'It’s okay, I almost hit someone today,'},\n",
              " {'emotion_id': 7,\n",
              "  'img_id': '121',\n",
              "  'speaker_id': '[speaker2]',\n",
              "  'txt': 'what?!What happened?'},\n",
              " {'speaker_id': '[speaker1]',\n",
              "  'txt': 'The ground slipped, and the brakes could not stop, so they slipped past.'},\n",
              " {'speaker_id': '[speaker2]', 'txt': 'Oh my goodness, you be careful! ! !'},\n",
              " {'speaker_id': '[speaker1]', 'txt': 'Very careful, the ride is very slow!!'},\n",
              " {'speaker_id': '[speaker2]',\n",
              "  'txt': \"Well, on rainy days, I don't ride a bike\"},\n",
              " {'speaker_id': '[speaker1]',\n",
              "  'txt': \"a key.It's so far to walk without cycling!!!\"},\n",
              " {'speaker_id': '[speaker2]',\n",
              "  'txt': 'Taxi...I always take a taxi to work and walk after get off work'},\n",
              " {'speaker_id': '[speaker1]', 'txt': \"I'll spend 30 yuan a day\"},\n",
              " {'speaker_id': '[speaker2]', 'txt': '...Is that far?'},\n",
              " {'speaker_id': '[speaker1]', 'txt': 'Back and forth!'},\n",
              " {'speaker_id': '[speaker2]', 'txt': \"Well, I'm within the starting price\"},\n",
              " {'speaker_id': '[speaker1]', 'txt': \"Why don't you go out on a date!\"},\n",
              " {'speaker_id': '[speaker2]', 'txt': 'Frozen to death, about what about'}]"
            ]
          },
          "metadata": {},
          "execution_count": 9
        }
      ]
    },
    {
      "cell_type": "code",
      "source": [
        "def json2df(json_data):\n",
        "    dialogues = []\n",
        "    for dialog_id in tqdm(json_data):\n",
        "        temp = pd.DataFrame.from_dict(json_data[dialog_id], orient = 'columns')\n",
        "        temp['dialogue_id'] = dialog_id\n",
        "\n",
        "        try:\n",
        "            temp = temp[['dialogue_id', 'speaker_id', 'img_id', 'emotion_id', 'txt']]\n",
        "        except:\n",
        "            temp['img_id'] = np.nan    #The current dialogue doesn't have img_id\n",
        "            temp['emotion_id'] = np.nan\n",
        "\n",
        "        dialogues.append(temp)\n",
        "\n",
        "    df = pd.concat(dialogues)\n",
        "    df = df.set_index('dialogue_id')\n",
        "    df['img_id'] = df['img_id'].apply(lambda x: str(x) if str(x) != 'nan' else np.nan)\n",
        "    df['txt'] = df['txt'].astype('str')\n",
        "\n",
        "    return df\n",
        "\n",
        "def convert_id2img(img2id):\n",
        "    return dict((v,k) for k,v in img2id.items())\n",
        "\n",
        "def save_pickle(df, path):\n",
        "    with open(path, 'wb') as handle:\n",
        "        pickle.dump(df, handle, protocol=pickle.HIGHEST_PROTOCOL)\n",
        "\n",
        "def read_pickle(path):\n",
        "    with open(path, 'rb') as handle:\n",
        "        b = pickle.load(handle)\n",
        "    return b\n",
        "\n",
        "print(\"Converting json train/val/test to df\")\n",
        "train_df = json2df(train_json)\n",
        "val_df = json2df(val_json)\n",
        "# test_df = json2df(test_json)"
      ],
      "metadata": {
        "colab": {
          "base_uri": "https://localhost:8080/",
          "height": 98,
          "referenced_widgets": [
            "617f2135272f4376972e595bf506af2e",
            "3b77f6c0a3af46f6bf270fd7a9d41ce1",
            "53a1eb3e9ed2483fa3296aa26b7884ed",
            "e0db177ae1bb4e9e835672e6716a7c89",
            "fbc02e17fb7a4ff496a882551c7b5a6b",
            "35ddfc9fedea43f5bf1325f00f5014f8",
            "30219630a2864fa186a003d379e3e282",
            "b1b9b0cd0b5c4afbb3e628e50dc9c73c",
            "41ddaf97fbb645efb14a0e9a08ccd14d",
            "8572f494ddfd43188c2171e32765f189",
            "64e0092268284e81b472aab8c5f67b83",
            "48a680d800044e8ab1bef26d8dfd81a8",
            "988b76a6d8ef4d35867296dbded66034",
            "624e7bef118e42ca86700e3806dafcc8",
            "f1087ebb04a04dc5ada2d91296522c82",
            "edbbef832bb44f7dadd4ca4626150ace",
            "4df507970597465cb2d6b9201015b506",
            "8c7c26b58c5348f1838bde754b92a79b",
            "c8c3bfadcc9d4bf4af7565ecaa9875e8",
            "656bdf1dbee64637a1f14147e985fcd3",
            "67fff4e5cb534b03845372d297b2dc26",
            "943c8610364d4f94b8c450624515cc1b"
          ]
        },
        "id": "bjzPEays4Y7B",
        "outputId": "f95927c8-bb19-45af-de45-2840b9d2a0e4"
      },
      "execution_count": 10,
      "outputs": [
        {
          "output_type": "stream",
          "name": "stdout",
          "text": [
            "Converting json train/val/test to df\n"
          ]
        },
        {
          "output_type": "display_data",
          "data": {
            "text/plain": [
              "  0%|          | 0/66125 [00:00<?, ?it/s]"
            ],
            "application/vnd.jupyter.widget-view+json": {
              "version_major": 2,
              "version_minor": 0,
              "model_id": "617f2135272f4376972e595bf506af2e"
            }
          },
          "metadata": {}
        },
        {
          "output_type": "display_data",
          "data": {
            "text/plain": [
              "  0%|          | 0/1000 [00:00<?, ?it/s]"
            ],
            "application/vnd.jupyter.widget-view+json": {
              "version_major": 2,
              "version_minor": 0,
              "model_id": "48a680d800044e8ab1bef26d8dfd81a8"
            }
          },
          "metadata": {}
        }
      ]
    },
    {
      "cell_type": "code",
      "source": [
        "train_df"
      ],
      "metadata": {
        "colab": {
          "base_uri": "https://localhost:8080/",
          "height": 455
        },
        "id": "hgN878kfs3Mz",
        "outputId": "d7ef9ebb-2d1b-47b8-e2dd-2ffd81b590c0"
      },
      "execution_count": 11,
      "outputs": [
        {
          "output_type": "execute_result",
          "data": {
            "text/plain": [
              "                speaker_id img_id  emotion_id  \\\n",
              "dialogue_id                                     \n",
              "dialogue 11015  [speaker1]    218         0.0   \n",
              "dialogue 11015  [speaker2]    NaN         NaN   \n",
              "dialogue 11015  [speaker1]    273         9.0   \n",
              "dialogue 11015  [speaker2]    NaN         NaN   \n",
              "dialogue 11015  [speaker1]    NaN         NaN   \n",
              "...                    ...    ...         ...   \n",
              "dialogue 61000  [speaker1]    NaN         NaN   \n",
              "dialogue 61000  [speaker2]    NaN         NaN   \n",
              "dialogue 61000  [speaker1]    127        24.0   \n",
              "dialogue 61000  [speaker2]    NaN         NaN   \n",
              "dialogue 61000  [speaker1]    NaN         NaN   \n",
              "\n",
              "                                                              txt  \n",
              "dialogue_id                                                        \n",
              "dialogue 11015                      Haha. . . Don't know who i am  \n",
              "dialogue 11015                                            Ouyang?  \n",
              "dialogue 11015                    Haha. . . . . Want to prompt no  \n",
              "dialogue 11015                                       Give a hint,  \n",
              "dialogue 11015                   The sky of midsummer. . . . Haha  \n",
              "...                                                           ...  \n",
              "dialogue 61000  It’s not a spare tire. Anyway, it’s been more ...  \n",
              "dialogue 61000  To my boyfriend, it seems that the time to say...  \n",
              "dialogue 61000  So it’s all an excuse. I think it’s normal to ...  \n",
              "dialogue 61000                              We haven't been sweet  \n",
              "dialogue 61000            The girl broke up quickly, so many boys  \n",
              "\n",
              "[925810 rows x 4 columns]"
            ],
            "text/html": [
              "\n",
              "  <div id=\"df-c59de3b6-8168-41d4-b534-3b6193d93435\">\n",
              "    <div class=\"colab-df-container\">\n",
              "      <div>\n",
              "<style scoped>\n",
              "    .dataframe tbody tr th:only-of-type {\n",
              "        vertical-align: middle;\n",
              "    }\n",
              "\n",
              "    .dataframe tbody tr th {\n",
              "        vertical-align: top;\n",
              "    }\n",
              "\n",
              "    .dataframe thead th {\n",
              "        text-align: right;\n",
              "    }\n",
              "</style>\n",
              "<table border=\"1\" class=\"dataframe\">\n",
              "  <thead>\n",
              "    <tr style=\"text-align: right;\">\n",
              "      <th></th>\n",
              "      <th>speaker_id</th>\n",
              "      <th>img_id</th>\n",
              "      <th>emotion_id</th>\n",
              "      <th>txt</th>\n",
              "    </tr>\n",
              "    <tr>\n",
              "      <th>dialogue_id</th>\n",
              "      <th></th>\n",
              "      <th></th>\n",
              "      <th></th>\n",
              "      <th></th>\n",
              "    </tr>\n",
              "  </thead>\n",
              "  <tbody>\n",
              "    <tr>\n",
              "      <th>dialogue 11015</th>\n",
              "      <td>[speaker1]</td>\n",
              "      <td>218</td>\n",
              "      <td>0.0</td>\n",
              "      <td>Haha. . . Don't know who i am</td>\n",
              "    </tr>\n",
              "    <tr>\n",
              "      <th>dialogue 11015</th>\n",
              "      <td>[speaker2]</td>\n",
              "      <td>NaN</td>\n",
              "      <td>NaN</td>\n",
              "      <td>Ouyang?</td>\n",
              "    </tr>\n",
              "    <tr>\n",
              "      <th>dialogue 11015</th>\n",
              "      <td>[speaker1]</td>\n",
              "      <td>273</td>\n",
              "      <td>9.0</td>\n",
              "      <td>Haha. . . . . Want to prompt no</td>\n",
              "    </tr>\n",
              "    <tr>\n",
              "      <th>dialogue 11015</th>\n",
              "      <td>[speaker2]</td>\n",
              "      <td>NaN</td>\n",
              "      <td>NaN</td>\n",
              "      <td>Give a hint,</td>\n",
              "    </tr>\n",
              "    <tr>\n",
              "      <th>dialogue 11015</th>\n",
              "      <td>[speaker1]</td>\n",
              "      <td>NaN</td>\n",
              "      <td>NaN</td>\n",
              "      <td>The sky of midsummer. . . . Haha</td>\n",
              "    </tr>\n",
              "    <tr>\n",
              "      <th>...</th>\n",
              "      <td>...</td>\n",
              "      <td>...</td>\n",
              "      <td>...</td>\n",
              "      <td>...</td>\n",
              "    </tr>\n",
              "    <tr>\n",
              "      <th>dialogue 61000</th>\n",
              "      <td>[speaker1]</td>\n",
              "      <td>NaN</td>\n",
              "      <td>NaN</td>\n",
              "      <td>It’s not a spare tire. Anyway, it’s been more ...</td>\n",
              "    </tr>\n",
              "    <tr>\n",
              "      <th>dialogue 61000</th>\n",
              "      <td>[speaker2]</td>\n",
              "      <td>NaN</td>\n",
              "      <td>NaN</td>\n",
              "      <td>To my boyfriend, it seems that the time to say...</td>\n",
              "    </tr>\n",
              "    <tr>\n",
              "      <th>dialogue 61000</th>\n",
              "      <td>[speaker1]</td>\n",
              "      <td>127</td>\n",
              "      <td>24.0</td>\n",
              "      <td>So it’s all an excuse. I think it’s normal to ...</td>\n",
              "    </tr>\n",
              "    <tr>\n",
              "      <th>dialogue 61000</th>\n",
              "      <td>[speaker2]</td>\n",
              "      <td>NaN</td>\n",
              "      <td>NaN</td>\n",
              "      <td>We haven't been sweet</td>\n",
              "    </tr>\n",
              "    <tr>\n",
              "      <th>dialogue 61000</th>\n",
              "      <td>[speaker1]</td>\n",
              "      <td>NaN</td>\n",
              "      <td>NaN</td>\n",
              "      <td>The girl broke up quickly, so many boys</td>\n",
              "    </tr>\n",
              "  </tbody>\n",
              "</table>\n",
              "<p>925810 rows × 4 columns</p>\n",
              "</div>\n",
              "      <button class=\"colab-df-convert\" onclick=\"convertToInteractive('df-c59de3b6-8168-41d4-b534-3b6193d93435')\"\n",
              "              title=\"Convert this dataframe to an interactive table.\"\n",
              "              style=\"display:none;\">\n",
              "        \n",
              "  <svg xmlns=\"http://www.w3.org/2000/svg\" height=\"24px\"viewBox=\"0 0 24 24\"\n",
              "       width=\"24px\">\n",
              "    <path d=\"M0 0h24v24H0V0z\" fill=\"none\"/>\n",
              "    <path d=\"M18.56 5.44l.94 2.06.94-2.06 2.06-.94-2.06-.94-.94-2.06-.94 2.06-2.06.94zm-11 1L8.5 8.5l.94-2.06 2.06-.94-2.06-.94L8.5 2.5l-.94 2.06-2.06.94zm10 10l.94 2.06.94-2.06 2.06-.94-2.06-.94-.94-2.06-.94 2.06-2.06.94z\"/><path d=\"M17.41 7.96l-1.37-1.37c-.4-.4-.92-.59-1.43-.59-.52 0-1.04.2-1.43.59L10.3 9.45l-7.72 7.72c-.78.78-.78 2.05 0 2.83L4 21.41c.39.39.9.59 1.41.59.51 0 1.02-.2 1.41-.59l7.78-7.78 2.81-2.81c.8-.78.8-2.07 0-2.86zM5.41 20L4 18.59l7.72-7.72 1.47 1.35L5.41 20z\"/>\n",
              "  </svg>\n",
              "      </button>\n",
              "      \n",
              "  <style>\n",
              "    .colab-df-container {\n",
              "      display:flex;\n",
              "      flex-wrap:wrap;\n",
              "      gap: 12px;\n",
              "    }\n",
              "\n",
              "    .colab-df-convert {\n",
              "      background-color: #E8F0FE;\n",
              "      border: none;\n",
              "      border-radius: 50%;\n",
              "      cursor: pointer;\n",
              "      display: none;\n",
              "      fill: #1967D2;\n",
              "      height: 32px;\n",
              "      padding: 0 0 0 0;\n",
              "      width: 32px;\n",
              "    }\n",
              "\n",
              "    .colab-df-convert:hover {\n",
              "      background-color: #E2EBFA;\n",
              "      box-shadow: 0px 1px 2px rgba(60, 64, 67, 0.3), 0px 1px 3px 1px rgba(60, 64, 67, 0.15);\n",
              "      fill: #174EA6;\n",
              "    }\n",
              "\n",
              "    [theme=dark] .colab-df-convert {\n",
              "      background-color: #3B4455;\n",
              "      fill: #D2E3FC;\n",
              "    }\n",
              "\n",
              "    [theme=dark] .colab-df-convert:hover {\n",
              "      background-color: #434B5C;\n",
              "      box-shadow: 0px 1px 3px 1px rgba(0, 0, 0, 0.15);\n",
              "      filter: drop-shadow(0px 1px 2px rgba(0, 0, 0, 0.3));\n",
              "      fill: #FFFFFF;\n",
              "    }\n",
              "  </style>\n",
              "\n",
              "      <script>\n",
              "        const buttonEl =\n",
              "          document.querySelector('#df-c59de3b6-8168-41d4-b534-3b6193d93435 button.colab-df-convert');\n",
              "        buttonEl.style.display =\n",
              "          google.colab.kernel.accessAllowed ? 'block' : 'none';\n",
              "\n",
              "        async function convertToInteractive(key) {\n",
              "          const element = document.querySelector('#df-c59de3b6-8168-41d4-b534-3b6193d93435');\n",
              "          const dataTable =\n",
              "            await google.colab.kernel.invokeFunction('convertToInteractive',\n",
              "                                                     [key], {});\n",
              "          if (!dataTable) return;\n",
              "\n",
              "          const docLinkHtml = 'Like what you see? Visit the ' +\n",
              "            '<a target=\"_blank\" href=https://colab.research.google.com/notebooks/data_table.ipynb>data table notebook</a>'\n",
              "            + ' to learn more about interactive tables.';\n",
              "          element.innerHTML = '';\n",
              "          dataTable['output_type'] = 'display_data';\n",
              "          await google.colab.output.renderOutput(dataTable, element);\n",
              "          const docLink = document.createElement('div');\n",
              "          docLink.innerHTML = docLinkHtml;\n",
              "          element.appendChild(docLink);\n",
              "        }\n",
              "      </script>\n",
              "    </div>\n",
              "  </div>\n",
              "  "
            ]
          },
          "metadata": {},
          "execution_count": 11
        }
      ]
    },
    {
      "cell_type": "code",
      "source": [
        "val_df"
      ],
      "metadata": {
        "colab": {
          "base_uri": "https://localhost:8080/",
          "height": 455
        },
        "id": "IcktNweZwfIB",
        "outputId": "a16f8470-211c-47dd-eb2d-602333d546c4"
      },
      "execution_count": 12,
      "outputs": [
        {
          "output_type": "execute_result",
          "data": {
            "text/plain": [
              "                speaker_id img_id  emotion_id  \\\n",
              "dialogue_id                                     \n",
              "dialogue 11001  [speaker1]    030         5.0   \n",
              "dialogue 11001  [speaker2]    107         NaN   \n",
              "dialogue 11001  [speaker1]    196        29.0   \n",
              "dialogue 11001  [speaker2]    NaN         NaN   \n",
              "dialogue 11001  [speaker1]    NaN         NaN   \n",
              "...                    ...    ...         ...   \n",
              "dialogue 28439  [speaker1]    NaN         NaN   \n",
              "dialogue 28439  [speaker2]    NaN         NaN   \n",
              "dialogue 28439  [speaker1]    NaN         NaN   \n",
              "dialogue 28439  [speaker2]    064         3.0   \n",
              "dialogue 28439  [speaker1]    NaN         NaN   \n",
              "\n",
              "                                                              txt  \n",
              "dialogue_id                                                        \n",
              "dialogue 11001                Go to work in the rain today! ! ! !  \n",
              "dialogue 11001                              Haha~ I'm off today~~  \n",
              "dialogue 11001                            What class is tomorrow?  \n",
              "dialogue 11001                                      Morning shift  \n",
              "dialogue 11001                   It will rain tomorrow too! Dear,  \n",
              "...                                                           ...  \n",
              "dialogue 28439  Said you come, I absolutely accompany you to p...  \n",
              "dialogue 28439  I'm so excited!Wait for me to work for a few m...  \n",
              "dialogue 28439  It must be necessary. I am still in Chengdu as...  \n",
              "dialogue 28439  Mahjong!Don't tempt me.I'm not in the mood for...  \n",
              "dialogue 28439  If you don't work, you can't play. You have to...  \n",
              "\n",
              "[13666 rows x 4 columns]"
            ],
            "text/html": [
              "\n",
              "  <div id=\"df-4811bbee-7a76-4a59-b02d-33822900993b\">\n",
              "    <div class=\"colab-df-container\">\n",
              "      <div>\n",
              "<style scoped>\n",
              "    .dataframe tbody tr th:only-of-type {\n",
              "        vertical-align: middle;\n",
              "    }\n",
              "\n",
              "    .dataframe tbody tr th {\n",
              "        vertical-align: top;\n",
              "    }\n",
              "\n",
              "    .dataframe thead th {\n",
              "        text-align: right;\n",
              "    }\n",
              "</style>\n",
              "<table border=\"1\" class=\"dataframe\">\n",
              "  <thead>\n",
              "    <tr style=\"text-align: right;\">\n",
              "      <th></th>\n",
              "      <th>speaker_id</th>\n",
              "      <th>img_id</th>\n",
              "      <th>emotion_id</th>\n",
              "      <th>txt</th>\n",
              "    </tr>\n",
              "    <tr>\n",
              "      <th>dialogue_id</th>\n",
              "      <th></th>\n",
              "      <th></th>\n",
              "      <th></th>\n",
              "      <th></th>\n",
              "    </tr>\n",
              "  </thead>\n",
              "  <tbody>\n",
              "    <tr>\n",
              "      <th>dialogue 11001</th>\n",
              "      <td>[speaker1]</td>\n",
              "      <td>030</td>\n",
              "      <td>5.0</td>\n",
              "      <td>Go to work in the rain today! ! ! !</td>\n",
              "    </tr>\n",
              "    <tr>\n",
              "      <th>dialogue 11001</th>\n",
              "      <td>[speaker2]</td>\n",
              "      <td>107</td>\n",
              "      <td>NaN</td>\n",
              "      <td>Haha~ I'm off today~~</td>\n",
              "    </tr>\n",
              "    <tr>\n",
              "      <th>dialogue 11001</th>\n",
              "      <td>[speaker1]</td>\n",
              "      <td>196</td>\n",
              "      <td>29.0</td>\n",
              "      <td>What class is tomorrow?</td>\n",
              "    </tr>\n",
              "    <tr>\n",
              "      <th>dialogue 11001</th>\n",
              "      <td>[speaker2]</td>\n",
              "      <td>NaN</td>\n",
              "      <td>NaN</td>\n",
              "      <td>Morning shift</td>\n",
              "    </tr>\n",
              "    <tr>\n",
              "      <th>dialogue 11001</th>\n",
              "      <td>[speaker1]</td>\n",
              "      <td>NaN</td>\n",
              "      <td>NaN</td>\n",
              "      <td>It will rain tomorrow too! Dear,</td>\n",
              "    </tr>\n",
              "    <tr>\n",
              "      <th>...</th>\n",
              "      <td>...</td>\n",
              "      <td>...</td>\n",
              "      <td>...</td>\n",
              "      <td>...</td>\n",
              "    </tr>\n",
              "    <tr>\n",
              "      <th>dialogue 28439</th>\n",
              "      <td>[speaker1]</td>\n",
              "      <td>NaN</td>\n",
              "      <td>NaN</td>\n",
              "      <td>Said you come, I absolutely accompany you to p...</td>\n",
              "    </tr>\n",
              "    <tr>\n",
              "      <th>dialogue 28439</th>\n",
              "      <td>[speaker2]</td>\n",
              "      <td>NaN</td>\n",
              "      <td>NaN</td>\n",
              "      <td>I'm so excited!Wait for me to work for a few m...</td>\n",
              "    </tr>\n",
              "    <tr>\n",
              "      <th>dialogue 28439</th>\n",
              "      <td>[speaker1]</td>\n",
              "      <td>NaN</td>\n",
              "      <td>NaN</td>\n",
              "      <td>It must be necessary. I am still in Chengdu as...</td>\n",
              "    </tr>\n",
              "    <tr>\n",
              "      <th>dialogue 28439</th>\n",
              "      <td>[speaker2]</td>\n",
              "      <td>064</td>\n",
              "      <td>3.0</td>\n",
              "      <td>Mahjong!Don't tempt me.I'm not in the mood for...</td>\n",
              "    </tr>\n",
              "    <tr>\n",
              "      <th>dialogue 28439</th>\n",
              "      <td>[speaker1]</td>\n",
              "      <td>NaN</td>\n",
              "      <td>NaN</td>\n",
              "      <td>If you don't work, you can't play. You have to...</td>\n",
              "    </tr>\n",
              "  </tbody>\n",
              "</table>\n",
              "<p>13666 rows × 4 columns</p>\n",
              "</div>\n",
              "      <button class=\"colab-df-convert\" onclick=\"convertToInteractive('df-4811bbee-7a76-4a59-b02d-33822900993b')\"\n",
              "              title=\"Convert this dataframe to an interactive table.\"\n",
              "              style=\"display:none;\">\n",
              "        \n",
              "  <svg xmlns=\"http://www.w3.org/2000/svg\" height=\"24px\"viewBox=\"0 0 24 24\"\n",
              "       width=\"24px\">\n",
              "    <path d=\"M0 0h24v24H0V0z\" fill=\"none\"/>\n",
              "    <path d=\"M18.56 5.44l.94 2.06.94-2.06 2.06-.94-2.06-.94-.94-2.06-.94 2.06-2.06.94zm-11 1L8.5 8.5l.94-2.06 2.06-.94-2.06-.94L8.5 2.5l-.94 2.06-2.06.94zm10 10l.94 2.06.94-2.06 2.06-.94-2.06-.94-.94-2.06-.94 2.06-2.06.94z\"/><path d=\"M17.41 7.96l-1.37-1.37c-.4-.4-.92-.59-1.43-.59-.52 0-1.04.2-1.43.59L10.3 9.45l-7.72 7.72c-.78.78-.78 2.05 0 2.83L4 21.41c.39.39.9.59 1.41.59.51 0 1.02-.2 1.41-.59l7.78-7.78 2.81-2.81c.8-.78.8-2.07 0-2.86zM5.41 20L4 18.59l7.72-7.72 1.47 1.35L5.41 20z\"/>\n",
              "  </svg>\n",
              "      </button>\n",
              "      \n",
              "  <style>\n",
              "    .colab-df-container {\n",
              "      display:flex;\n",
              "      flex-wrap:wrap;\n",
              "      gap: 12px;\n",
              "    }\n",
              "\n",
              "    .colab-df-convert {\n",
              "      background-color: #E8F0FE;\n",
              "      border: none;\n",
              "      border-radius: 50%;\n",
              "      cursor: pointer;\n",
              "      display: none;\n",
              "      fill: #1967D2;\n",
              "      height: 32px;\n",
              "      padding: 0 0 0 0;\n",
              "      width: 32px;\n",
              "    }\n",
              "\n",
              "    .colab-df-convert:hover {\n",
              "      background-color: #E2EBFA;\n",
              "      box-shadow: 0px 1px 2px rgba(60, 64, 67, 0.3), 0px 1px 3px 1px rgba(60, 64, 67, 0.15);\n",
              "      fill: #174EA6;\n",
              "    }\n",
              "\n",
              "    [theme=dark] .colab-df-convert {\n",
              "      background-color: #3B4455;\n",
              "      fill: #D2E3FC;\n",
              "    }\n",
              "\n",
              "    [theme=dark] .colab-df-convert:hover {\n",
              "      background-color: #434B5C;\n",
              "      box-shadow: 0px 1px 3px 1px rgba(0, 0, 0, 0.15);\n",
              "      filter: drop-shadow(0px 1px 2px rgba(0, 0, 0, 0.3));\n",
              "      fill: #FFFFFF;\n",
              "    }\n",
              "  </style>\n",
              "\n",
              "      <script>\n",
              "        const buttonEl =\n",
              "          document.querySelector('#df-4811bbee-7a76-4a59-b02d-33822900993b button.colab-df-convert');\n",
              "        buttonEl.style.display =\n",
              "          google.colab.kernel.accessAllowed ? 'block' : 'none';\n",
              "\n",
              "        async function convertToInteractive(key) {\n",
              "          const element = document.querySelector('#df-4811bbee-7a76-4a59-b02d-33822900993b');\n",
              "          const dataTable =\n",
              "            await google.colab.kernel.invokeFunction('convertToInteractive',\n",
              "                                                     [key], {});\n",
              "          if (!dataTable) return;\n",
              "\n",
              "          const docLinkHtml = 'Like what you see? Visit the ' +\n",
              "            '<a target=\"_blank\" href=https://colab.research.google.com/notebooks/data_table.ipynb>data table notebook</a>'\n",
              "            + ' to learn more about interactive tables.';\n",
              "          element.innerHTML = '';\n",
              "          dataTable['output_type'] = 'display_data';\n",
              "          await google.colab.output.renderOutput(dataTable, element);\n",
              "          const docLink = document.createElement('div');\n",
              "          docLink.innerHTML = docLinkHtml;\n",
              "          element.appendChild(docLink);\n",
              "        }\n",
              "      </script>\n",
              "    </div>\n",
              "  </div>\n",
              "  "
            ]
          },
          "metadata": {},
          "execution_count": 12
        }
      ]
    },
    {
      "cell_type": "markdown",
      "source": [
        "# Rename images"
      ],
      "metadata": {
        "id": "to_dkkpgDwHe"
      }
    },
    {
      "cell_type": "code",
      "source": [
        "config['path']['image_path']"
      ],
      "metadata": {
        "colab": {
          "base_uri": "https://localhost:8080/",
          "height": 35
        },
        "id": "JO9wGhU5bzaF",
        "outputId": "dbad5d14-36b8-422f-ed39-a048f400f097"
      },
      "execution_count": 13,
      "outputs": [
        {
          "output_type": "execute_result",
          "data": {
            "text/plain": [
              "'data/image/'"
            ],
            "application/vnd.google.colaboratory.intrinsic+json": {
              "type": "string"
            }
          },
          "metadata": {},
          "execution_count": 13
        }
      ]
    },
    {
      "cell_type": "code",
      "source": [
        "len(os.listdir(config['path']['image_path']))"
      ],
      "metadata": {
        "colab": {
          "base_uri": "https://localhost:8080/"
        },
        "id": "-oSIB5gswVZW",
        "outputId": "0c134d2b-0c49-4358-85e1-8c839cf41d0d"
      },
      "execution_count": 14,
      "outputs": [
        {
          "output_type": "execute_result",
          "data": {
            "text/plain": [
              "307"
            ]
          },
          "metadata": {},
          "execution_count": 14
        }
      ]
    },
    {
      "cell_type": "code",
      "source": [
        "def rename_imgs(df, path, img2id):\n",
        "    df = df.copy()\n",
        "    \"\"\" Đổi tên file tiếng Trung --> img id\"\"\"\n",
        "    for image_file in tqdm(img2id.keys()):\n",
        "        ext = image_file.split('.')[-1]\n",
        "        id_name = img2id[image_file] + '.' + ext\n",
        "        error_file = 0\n",
        "        try:\n",
        "            os.rename(path+image_file, path+id_name)    \n",
        "        except FileNotFoundError:\n",
        "            error_file += 1\n",
        "\n",
        "        # Đổi img_id trong dataframe luôn\n",
        "        df['img_id'] = df['img_id'].apply(lambda x: id_name if x == img2id[image_file] else x)\n",
        "\n",
        "        # break\n",
        "    print(f'num of error_file: {error_file}')\n",
        "\n",
        "    df['img_id'] = df['img_id'].apply(lambda x: str(x) if str(x) != 'nan' else np.nan)\n",
        "    return df\n",
        "\n",
        "image_path = config['path']['image_path']\n",
        "print(\"Renaming images + changing img_id\")\n",
        "train_df = rename_imgs(train_df, image_path, img2id)\n",
        "val_df = rename_imgs(val_df, image_path, img2id)\n",
        "# test_df = rename_imgs(test_df, image_path, img2id)\n",
        "print(train_df.head())\n",
        "print(val_df.head())"
      ],
      "metadata": {
        "id": "BTZe9P8dPb0i",
        "colab": {
          "base_uri": "https://localhost:8080/",
          "height": 673,
          "referenced_widgets": [
            "10896b734ab84ccda8d1992637f17d66",
            "3974c1a3f1ae4f8e8b328fa57a934172",
            "da5fc29c05d846018f532e49e65f7541",
            "9a049c1cf755413b995fdca0edbbf014",
            "cb7a59dbb6c442968412fb5acd3eb10f",
            "0e0b21f856db4ef1a5f18fdddc2ab9ed",
            "b13c1de43e544c9e99bd380dd5dd5902",
            "ce4bfcaa69624dbca3248894646f7002",
            "5ad3ada055824f1d9ef8349affb5efcd",
            "5ae222b930fb498b9bcf6ec5580f6be3",
            "da869b6c40f7421882bf008538c29ed2",
            "91a0b1334a99495b9bd0da920f2b7526",
            "262b1c4676c347de92aa4eb216c03cc8",
            "5373cc63894e4d2683afbff6aeb03062",
            "c1621c27879747b797311e98db75adfd",
            "cc6c0da9073d4e2dad472fb684bbcfe5",
            "6541766d391b4984a220ab6e7cc739b0",
            "27e0725a1a2c4e948f3df87de58f5ff1",
            "f5faf08eb2af460fa0a18e040f3fb725",
            "9dbe72cc53374b549e6e51acc36f03f1",
            "f6e13cabd3d74c7ca2cffcd44d8fe356",
            "944124cdc74c4c1a8b0f2074891d0322"
          ]
        },
        "outputId": "27acd7e1-5087-4c5d-c9fb-cc3aede5fc4e"
      },
      "execution_count": 15,
      "outputs": [
        {
          "output_type": "stream",
          "name": "stdout",
          "text": [
            "Renaming images + changing img_id\n"
          ]
        },
        {
          "output_type": "display_data",
          "data": {
            "text/plain": [
              "  0%|          | 0/307 [00:00<?, ?it/s]"
            ],
            "application/vnd.jupyter.widget-view+json": {
              "version_major": 2,
              "version_minor": 0,
              "model_id": "10896b734ab84ccda8d1992637f17d66"
            }
          },
          "metadata": {}
        },
        {
          "output_type": "stream",
          "name": "stdout",
          "text": [
            "num of error_file: 1\n"
          ]
        },
        {
          "output_type": "display_data",
          "data": {
            "text/plain": [
              "  0%|          | 0/307 [00:00<?, ?it/s]"
            ],
            "application/vnd.jupyter.widget-view+json": {
              "version_major": 2,
              "version_minor": 0,
              "model_id": "91a0b1334a99495b9bd0da920f2b7526"
            }
          },
          "metadata": {}
        },
        {
          "output_type": "stream",
          "name": "stdout",
          "text": [
            "num of error_file: 1\n",
            "                speaker_id   img_id  emotion_id  \\\n",
            "dialogue_id                                       \n",
            "dialogue 11015  [speaker1]  218.gif         0.0   \n",
            "dialogue 11015  [speaker2]      NaN         NaN   \n",
            "dialogue 11015  [speaker1]  273.gif         9.0   \n",
            "dialogue 11015  [speaker2]      NaN         NaN   \n",
            "dialogue 11015  [speaker1]      NaN         NaN   \n",
            "\n",
            "                                             txt  \n",
            "dialogue_id                                       \n",
            "dialogue 11015     Haha. . . Don't know who i am  \n",
            "dialogue 11015                           Ouyang?  \n",
            "dialogue 11015   Haha. . . . . Want to prompt no  \n",
            "dialogue 11015                      Give a hint,  \n",
            "dialogue 11015  The sky of midsummer. . . . Haha  \n",
            "                speaker_id    img_id  emotion_id  \\\n",
            "dialogue_id                                        \n",
            "dialogue 11001  [speaker1]  030.jpeg         5.0   \n",
            "dialogue 11001  [speaker2]  107.jpeg         NaN   \n",
            "dialogue 11001  [speaker1]   196.gif        29.0   \n",
            "dialogue 11001  [speaker2]       NaN         NaN   \n",
            "dialogue 11001  [speaker1]       NaN         NaN   \n",
            "\n",
            "                                                txt  \n",
            "dialogue_id                                          \n",
            "dialogue 11001  Go to work in the rain today! ! ! !  \n",
            "dialogue 11001                Haha~ I'm off today~~  \n",
            "dialogue 11001              What class is tomorrow?  \n",
            "dialogue 11001                        Morning shift  \n",
            "dialogue 11001     It will rain tomorrow too! Dear,  \n"
          ]
        }
      ]
    },
    {
      "cell_type": "code",
      "source": [
        "# save_pickle(train_df, 'input/train.pickle')\n",
        "# save_pickle(val_df, 'input/val.pickle')\n",
        "# save_pickle(test_df, 'input/test.pickle')\n",
        "\n",
        "# train_df = read_pickle('input/train.pickle')\n",
        "train_df"
      ],
      "metadata": {
        "colab": {
          "base_uri": "https://localhost:8080/",
          "height": 455
        },
        "id": "3Pj209KW7Aus",
        "outputId": "941e4c95-7984-420f-b4f9-2f6860a54a24"
      },
      "execution_count": 16,
      "outputs": [
        {
          "output_type": "execute_result",
          "data": {
            "text/plain": [
              "                speaker_id    img_id  emotion_id  \\\n",
              "dialogue_id                                        \n",
              "dialogue 11015  [speaker1]   218.gif         0.0   \n",
              "dialogue 11015  [speaker2]       NaN         NaN   \n",
              "dialogue 11015  [speaker1]   273.gif         9.0   \n",
              "dialogue 11015  [speaker2]       NaN         NaN   \n",
              "dialogue 11015  [speaker1]       NaN         NaN   \n",
              "...                    ...       ...         ...   \n",
              "dialogue 61000  [speaker1]       NaN         NaN   \n",
              "dialogue 61000  [speaker2]       NaN         NaN   \n",
              "dialogue 61000  [speaker1]  127.jpeg        24.0   \n",
              "dialogue 61000  [speaker2]       NaN         NaN   \n",
              "dialogue 61000  [speaker1]       NaN         NaN   \n",
              "\n",
              "                                                              txt  \n",
              "dialogue_id                                                        \n",
              "dialogue 11015                      Haha. . . Don't know who i am  \n",
              "dialogue 11015                                            Ouyang?  \n",
              "dialogue 11015                    Haha. . . . . Want to prompt no  \n",
              "dialogue 11015                                       Give a hint,  \n",
              "dialogue 11015                   The sky of midsummer. . . . Haha  \n",
              "...                                                           ...  \n",
              "dialogue 61000  It’s not a spare tire. Anyway, it’s been more ...  \n",
              "dialogue 61000  To my boyfriend, it seems that the time to say...  \n",
              "dialogue 61000  So it’s all an excuse. I think it’s normal to ...  \n",
              "dialogue 61000                              We haven't been sweet  \n",
              "dialogue 61000            The girl broke up quickly, so many boys  \n",
              "\n",
              "[925810 rows x 4 columns]"
            ],
            "text/html": [
              "\n",
              "  <div id=\"df-d6f53d11-7518-4692-93c3-501d16bfab0a\">\n",
              "    <div class=\"colab-df-container\">\n",
              "      <div>\n",
              "<style scoped>\n",
              "    .dataframe tbody tr th:only-of-type {\n",
              "        vertical-align: middle;\n",
              "    }\n",
              "\n",
              "    .dataframe tbody tr th {\n",
              "        vertical-align: top;\n",
              "    }\n",
              "\n",
              "    .dataframe thead th {\n",
              "        text-align: right;\n",
              "    }\n",
              "</style>\n",
              "<table border=\"1\" class=\"dataframe\">\n",
              "  <thead>\n",
              "    <tr style=\"text-align: right;\">\n",
              "      <th></th>\n",
              "      <th>speaker_id</th>\n",
              "      <th>img_id</th>\n",
              "      <th>emotion_id</th>\n",
              "      <th>txt</th>\n",
              "    </tr>\n",
              "    <tr>\n",
              "      <th>dialogue_id</th>\n",
              "      <th></th>\n",
              "      <th></th>\n",
              "      <th></th>\n",
              "      <th></th>\n",
              "    </tr>\n",
              "  </thead>\n",
              "  <tbody>\n",
              "    <tr>\n",
              "      <th>dialogue 11015</th>\n",
              "      <td>[speaker1]</td>\n",
              "      <td>218.gif</td>\n",
              "      <td>0.0</td>\n",
              "      <td>Haha. . . Don't know who i am</td>\n",
              "    </tr>\n",
              "    <tr>\n",
              "      <th>dialogue 11015</th>\n",
              "      <td>[speaker2]</td>\n",
              "      <td>NaN</td>\n",
              "      <td>NaN</td>\n",
              "      <td>Ouyang?</td>\n",
              "    </tr>\n",
              "    <tr>\n",
              "      <th>dialogue 11015</th>\n",
              "      <td>[speaker1]</td>\n",
              "      <td>273.gif</td>\n",
              "      <td>9.0</td>\n",
              "      <td>Haha. . . . . Want to prompt no</td>\n",
              "    </tr>\n",
              "    <tr>\n",
              "      <th>dialogue 11015</th>\n",
              "      <td>[speaker2]</td>\n",
              "      <td>NaN</td>\n",
              "      <td>NaN</td>\n",
              "      <td>Give a hint,</td>\n",
              "    </tr>\n",
              "    <tr>\n",
              "      <th>dialogue 11015</th>\n",
              "      <td>[speaker1]</td>\n",
              "      <td>NaN</td>\n",
              "      <td>NaN</td>\n",
              "      <td>The sky of midsummer. . . . Haha</td>\n",
              "    </tr>\n",
              "    <tr>\n",
              "      <th>...</th>\n",
              "      <td>...</td>\n",
              "      <td>...</td>\n",
              "      <td>...</td>\n",
              "      <td>...</td>\n",
              "    </tr>\n",
              "    <tr>\n",
              "      <th>dialogue 61000</th>\n",
              "      <td>[speaker1]</td>\n",
              "      <td>NaN</td>\n",
              "      <td>NaN</td>\n",
              "      <td>It’s not a spare tire. Anyway, it’s been more ...</td>\n",
              "    </tr>\n",
              "    <tr>\n",
              "      <th>dialogue 61000</th>\n",
              "      <td>[speaker2]</td>\n",
              "      <td>NaN</td>\n",
              "      <td>NaN</td>\n",
              "      <td>To my boyfriend, it seems that the time to say...</td>\n",
              "    </tr>\n",
              "    <tr>\n",
              "      <th>dialogue 61000</th>\n",
              "      <td>[speaker1]</td>\n",
              "      <td>127.jpeg</td>\n",
              "      <td>24.0</td>\n",
              "      <td>So it’s all an excuse. I think it’s normal to ...</td>\n",
              "    </tr>\n",
              "    <tr>\n",
              "      <th>dialogue 61000</th>\n",
              "      <td>[speaker2]</td>\n",
              "      <td>NaN</td>\n",
              "      <td>NaN</td>\n",
              "      <td>We haven't been sweet</td>\n",
              "    </tr>\n",
              "    <tr>\n",
              "      <th>dialogue 61000</th>\n",
              "      <td>[speaker1]</td>\n",
              "      <td>NaN</td>\n",
              "      <td>NaN</td>\n",
              "      <td>The girl broke up quickly, so many boys</td>\n",
              "    </tr>\n",
              "  </tbody>\n",
              "</table>\n",
              "<p>925810 rows × 4 columns</p>\n",
              "</div>\n",
              "      <button class=\"colab-df-convert\" onclick=\"convertToInteractive('df-d6f53d11-7518-4692-93c3-501d16bfab0a')\"\n",
              "              title=\"Convert this dataframe to an interactive table.\"\n",
              "              style=\"display:none;\">\n",
              "        \n",
              "  <svg xmlns=\"http://www.w3.org/2000/svg\" height=\"24px\"viewBox=\"0 0 24 24\"\n",
              "       width=\"24px\">\n",
              "    <path d=\"M0 0h24v24H0V0z\" fill=\"none\"/>\n",
              "    <path d=\"M18.56 5.44l.94 2.06.94-2.06 2.06-.94-2.06-.94-.94-2.06-.94 2.06-2.06.94zm-11 1L8.5 8.5l.94-2.06 2.06-.94-2.06-.94L8.5 2.5l-.94 2.06-2.06.94zm10 10l.94 2.06.94-2.06 2.06-.94-2.06-.94-.94-2.06-.94 2.06-2.06.94z\"/><path d=\"M17.41 7.96l-1.37-1.37c-.4-.4-.92-.59-1.43-.59-.52 0-1.04.2-1.43.59L10.3 9.45l-7.72 7.72c-.78.78-.78 2.05 0 2.83L4 21.41c.39.39.9.59 1.41.59.51 0 1.02-.2 1.41-.59l7.78-7.78 2.81-2.81c.8-.78.8-2.07 0-2.86zM5.41 20L4 18.59l7.72-7.72 1.47 1.35L5.41 20z\"/>\n",
              "  </svg>\n",
              "      </button>\n",
              "      \n",
              "  <style>\n",
              "    .colab-df-container {\n",
              "      display:flex;\n",
              "      flex-wrap:wrap;\n",
              "      gap: 12px;\n",
              "    }\n",
              "\n",
              "    .colab-df-convert {\n",
              "      background-color: #E8F0FE;\n",
              "      border: none;\n",
              "      border-radius: 50%;\n",
              "      cursor: pointer;\n",
              "      display: none;\n",
              "      fill: #1967D2;\n",
              "      height: 32px;\n",
              "      padding: 0 0 0 0;\n",
              "      width: 32px;\n",
              "    }\n",
              "\n",
              "    .colab-df-convert:hover {\n",
              "      background-color: #E2EBFA;\n",
              "      box-shadow: 0px 1px 2px rgba(60, 64, 67, 0.3), 0px 1px 3px 1px rgba(60, 64, 67, 0.15);\n",
              "      fill: #174EA6;\n",
              "    }\n",
              "\n",
              "    [theme=dark] .colab-df-convert {\n",
              "      background-color: #3B4455;\n",
              "      fill: #D2E3FC;\n",
              "    }\n",
              "\n",
              "    [theme=dark] .colab-df-convert:hover {\n",
              "      background-color: #434B5C;\n",
              "      box-shadow: 0px 1px 3px 1px rgba(0, 0, 0, 0.15);\n",
              "      filter: drop-shadow(0px 1px 2px rgba(0, 0, 0, 0.3));\n",
              "      fill: #FFFFFF;\n",
              "    }\n",
              "  </style>\n",
              "\n",
              "      <script>\n",
              "        const buttonEl =\n",
              "          document.querySelector('#df-d6f53d11-7518-4692-93c3-501d16bfab0a button.colab-df-convert');\n",
              "        buttonEl.style.display =\n",
              "          google.colab.kernel.accessAllowed ? 'block' : 'none';\n",
              "\n",
              "        async function convertToInteractive(key) {\n",
              "          const element = document.querySelector('#df-d6f53d11-7518-4692-93c3-501d16bfab0a');\n",
              "          const dataTable =\n",
              "            await google.colab.kernel.invokeFunction('convertToInteractive',\n",
              "                                                     [key], {});\n",
              "          if (!dataTable) return;\n",
              "\n",
              "          const docLinkHtml = 'Like what you see? Visit the ' +\n",
              "            '<a target=\"_blank\" href=https://colab.research.google.com/notebooks/data_table.ipynb>data table notebook</a>'\n",
              "            + ' to learn more about interactive tables.';\n",
              "          element.innerHTML = '';\n",
              "          dataTable['output_type'] = 'display_data';\n",
              "          await google.colab.output.renderOutput(dataTable, element);\n",
              "          const docLink = document.createElement('div');\n",
              "          docLink.innerHTML = docLinkHtml;\n",
              "          element.appendChild(docLink);\n",
              "        }\n",
              "      </script>\n",
              "    </div>\n",
              "  </div>\n",
              "  "
            ]
          },
          "metadata": {},
          "execution_count": 16
        }
      ]
    },
    {
      "cell_type": "markdown",
      "source": [
        "# Display dialogue"
      ],
      "metadata": {
        "id": "5w0phZtz5fvd"
      }
    },
    {
      "cell_type": "code",
      "source": [
        "temp = train_df.loc['dialogue 40000']\n",
        "temp"
      ],
      "metadata": {
        "colab": {
          "base_uri": "https://localhost:8080/",
          "height": 532
        },
        "id": "TWhrfDo6Bz8i",
        "outputId": "5672bfc1-e8eb-4546-a91b-a0872d2c570d"
      },
      "execution_count": 17,
      "outputs": [
        {
          "output_type": "execute_result",
          "data": {
            "text/plain": [
              "                speaker_id    img_id  emotion_id  \\\n",
              "dialogue_id                                        \n",
              "dialogue 40000  [speaker1]   227.gif        29.0   \n",
              "dialogue 40000  [speaker2]       NaN         NaN   \n",
              "dialogue 40000  [speaker1]       NaN         NaN   \n",
              "dialogue 40000  [speaker2]       NaN         NaN   \n",
              "dialogue 40000  [speaker1]       NaN         NaN   \n",
              "dialogue 40000  [speaker2]   100.jpg        21.0   \n",
              "dialogue 40000  [speaker1]       NaN         NaN   \n",
              "dialogue 40000  [speaker2]       NaN         NaN   \n",
              "dialogue 40000  [speaker1]       NaN         NaN   \n",
              "dialogue 40000  [speaker2]   031.gif         4.0   \n",
              "dialogue 40000  [speaker1]       NaN         NaN   \n",
              "dialogue 40000  [speaker2]       NaN         NaN   \n",
              "dialogue 40000  [speaker1]  093.jpeg         9.0   \n",
              "\n",
              "                                                              txt  \n",
              "dialogue_id                                                        \n",
              "dialogue 40000                Don't talk about eating hungry here  \n",
              "dialogue 40000                                     Are you hungry  \n",
              "dialogue 40000             Are you swollen so know me who you are  \n",
              "dialogue 40000               I haven't seen it, I just guessed it  \n",
              "dialogue 40000  Hum, don’t guess next time, so quasi-northern ...  \n",
              "dialogue 40000        Is it fun to call back and forth, be gentle  \n",
              "dialogue 40000  Fighting is an attitude to life. If you don't ...  \n",
              "dialogue 40000                       Is it love to beat or scold?  \n",
              "dialogue 40000                                 It's dripping haha  \n",
              "dialogue 40000  But it is immoral for men to beat women and wi...  \n",
              "dialogue 40000  No, you and I will be very happy to fight agai...  \n",
              "dialogue 40000  The demo Guokuo has been practiced, but when I...  \n",
              "dialogue 40000  Ms. Xiaoyang has practiced Sanda for quite a f...  "
            ],
            "text/html": [
              "\n",
              "  <div id=\"df-876066d9-a21e-4ad7-b188-33cfa034db5f\">\n",
              "    <div class=\"colab-df-container\">\n",
              "      <div>\n",
              "<style scoped>\n",
              "    .dataframe tbody tr th:only-of-type {\n",
              "        vertical-align: middle;\n",
              "    }\n",
              "\n",
              "    .dataframe tbody tr th {\n",
              "        vertical-align: top;\n",
              "    }\n",
              "\n",
              "    .dataframe thead th {\n",
              "        text-align: right;\n",
              "    }\n",
              "</style>\n",
              "<table border=\"1\" class=\"dataframe\">\n",
              "  <thead>\n",
              "    <tr style=\"text-align: right;\">\n",
              "      <th></th>\n",
              "      <th>speaker_id</th>\n",
              "      <th>img_id</th>\n",
              "      <th>emotion_id</th>\n",
              "      <th>txt</th>\n",
              "    </tr>\n",
              "    <tr>\n",
              "      <th>dialogue_id</th>\n",
              "      <th></th>\n",
              "      <th></th>\n",
              "      <th></th>\n",
              "      <th></th>\n",
              "    </tr>\n",
              "  </thead>\n",
              "  <tbody>\n",
              "    <tr>\n",
              "      <th>dialogue 40000</th>\n",
              "      <td>[speaker1]</td>\n",
              "      <td>227.gif</td>\n",
              "      <td>29.0</td>\n",
              "      <td>Don't talk about eating hungry here</td>\n",
              "    </tr>\n",
              "    <tr>\n",
              "      <th>dialogue 40000</th>\n",
              "      <td>[speaker2]</td>\n",
              "      <td>NaN</td>\n",
              "      <td>NaN</td>\n",
              "      <td>Are you hungry</td>\n",
              "    </tr>\n",
              "    <tr>\n",
              "      <th>dialogue 40000</th>\n",
              "      <td>[speaker1]</td>\n",
              "      <td>NaN</td>\n",
              "      <td>NaN</td>\n",
              "      <td>Are you swollen so know me who you are</td>\n",
              "    </tr>\n",
              "    <tr>\n",
              "      <th>dialogue 40000</th>\n",
              "      <td>[speaker2]</td>\n",
              "      <td>NaN</td>\n",
              "      <td>NaN</td>\n",
              "      <td>I haven't seen it, I just guessed it</td>\n",
              "    </tr>\n",
              "    <tr>\n",
              "      <th>dialogue 40000</th>\n",
              "      <td>[speaker1]</td>\n",
              "      <td>NaN</td>\n",
              "      <td>NaN</td>\n",
              "      <td>Hum, don’t guess next time, so quasi-northern ...</td>\n",
              "    </tr>\n",
              "    <tr>\n",
              "      <th>dialogue 40000</th>\n",
              "      <td>[speaker2]</td>\n",
              "      <td>100.jpg</td>\n",
              "      <td>21.0</td>\n",
              "      <td>Is it fun to call back and forth, be gentle</td>\n",
              "    </tr>\n",
              "    <tr>\n",
              "      <th>dialogue 40000</th>\n",
              "      <td>[speaker1]</td>\n",
              "      <td>NaN</td>\n",
              "      <td>NaN</td>\n",
              "      <td>Fighting is an attitude to life. If you don't ...</td>\n",
              "    </tr>\n",
              "    <tr>\n",
              "      <th>dialogue 40000</th>\n",
              "      <td>[speaker2]</td>\n",
              "      <td>NaN</td>\n",
              "      <td>NaN</td>\n",
              "      <td>Is it love to beat or scold?</td>\n",
              "    </tr>\n",
              "    <tr>\n",
              "      <th>dialogue 40000</th>\n",
              "      <td>[speaker1]</td>\n",
              "      <td>NaN</td>\n",
              "      <td>NaN</td>\n",
              "      <td>It's dripping haha</td>\n",
              "    </tr>\n",
              "    <tr>\n",
              "      <th>dialogue 40000</th>\n",
              "      <td>[speaker2]</td>\n",
              "      <td>031.gif</td>\n",
              "      <td>4.0</td>\n",
              "      <td>But it is immoral for men to beat women and wi...</td>\n",
              "    </tr>\n",
              "    <tr>\n",
              "      <th>dialogue 40000</th>\n",
              "      <td>[speaker1]</td>\n",
              "      <td>NaN</td>\n",
              "      <td>NaN</td>\n",
              "      <td>No, you and I will be very happy to fight agai...</td>\n",
              "    </tr>\n",
              "    <tr>\n",
              "      <th>dialogue 40000</th>\n",
              "      <td>[speaker2]</td>\n",
              "      <td>NaN</td>\n",
              "      <td>NaN</td>\n",
              "      <td>The demo Guokuo has been practiced, but when I...</td>\n",
              "    </tr>\n",
              "    <tr>\n",
              "      <th>dialogue 40000</th>\n",
              "      <td>[speaker1]</td>\n",
              "      <td>093.jpeg</td>\n",
              "      <td>9.0</td>\n",
              "      <td>Ms. Xiaoyang has practiced Sanda for quite a f...</td>\n",
              "    </tr>\n",
              "  </tbody>\n",
              "</table>\n",
              "</div>\n",
              "      <button class=\"colab-df-convert\" onclick=\"convertToInteractive('df-876066d9-a21e-4ad7-b188-33cfa034db5f')\"\n",
              "              title=\"Convert this dataframe to an interactive table.\"\n",
              "              style=\"display:none;\">\n",
              "        \n",
              "  <svg xmlns=\"http://www.w3.org/2000/svg\" height=\"24px\"viewBox=\"0 0 24 24\"\n",
              "       width=\"24px\">\n",
              "    <path d=\"M0 0h24v24H0V0z\" fill=\"none\"/>\n",
              "    <path d=\"M18.56 5.44l.94 2.06.94-2.06 2.06-.94-2.06-.94-.94-2.06-.94 2.06-2.06.94zm-11 1L8.5 8.5l.94-2.06 2.06-.94-2.06-.94L8.5 2.5l-.94 2.06-2.06.94zm10 10l.94 2.06.94-2.06 2.06-.94-2.06-.94-.94-2.06-.94 2.06-2.06.94z\"/><path d=\"M17.41 7.96l-1.37-1.37c-.4-.4-.92-.59-1.43-.59-.52 0-1.04.2-1.43.59L10.3 9.45l-7.72 7.72c-.78.78-.78 2.05 0 2.83L4 21.41c.39.39.9.59 1.41.59.51 0 1.02-.2 1.41-.59l7.78-7.78 2.81-2.81c.8-.78.8-2.07 0-2.86zM5.41 20L4 18.59l7.72-7.72 1.47 1.35L5.41 20z\"/>\n",
              "  </svg>\n",
              "      </button>\n",
              "      \n",
              "  <style>\n",
              "    .colab-df-container {\n",
              "      display:flex;\n",
              "      flex-wrap:wrap;\n",
              "      gap: 12px;\n",
              "    }\n",
              "\n",
              "    .colab-df-convert {\n",
              "      background-color: #E8F0FE;\n",
              "      border: none;\n",
              "      border-radius: 50%;\n",
              "      cursor: pointer;\n",
              "      display: none;\n",
              "      fill: #1967D2;\n",
              "      height: 32px;\n",
              "      padding: 0 0 0 0;\n",
              "      width: 32px;\n",
              "    }\n",
              "\n",
              "    .colab-df-convert:hover {\n",
              "      background-color: #E2EBFA;\n",
              "      box-shadow: 0px 1px 2px rgba(60, 64, 67, 0.3), 0px 1px 3px 1px rgba(60, 64, 67, 0.15);\n",
              "      fill: #174EA6;\n",
              "    }\n",
              "\n",
              "    [theme=dark] .colab-df-convert {\n",
              "      background-color: #3B4455;\n",
              "      fill: #D2E3FC;\n",
              "    }\n",
              "\n",
              "    [theme=dark] .colab-df-convert:hover {\n",
              "      background-color: #434B5C;\n",
              "      box-shadow: 0px 1px 3px 1px rgba(0, 0, 0, 0.15);\n",
              "      filter: drop-shadow(0px 1px 2px rgba(0, 0, 0, 0.3));\n",
              "      fill: #FFFFFF;\n",
              "    }\n",
              "  </style>\n",
              "\n",
              "      <script>\n",
              "        const buttonEl =\n",
              "          document.querySelector('#df-876066d9-a21e-4ad7-b188-33cfa034db5f button.colab-df-convert');\n",
              "        buttonEl.style.display =\n",
              "          google.colab.kernel.accessAllowed ? 'block' : 'none';\n",
              "\n",
              "        async function convertToInteractive(key) {\n",
              "          const element = document.querySelector('#df-876066d9-a21e-4ad7-b188-33cfa034db5f');\n",
              "          const dataTable =\n",
              "            await google.colab.kernel.invokeFunction('convertToInteractive',\n",
              "                                                     [key], {});\n",
              "          if (!dataTable) return;\n",
              "\n",
              "          const docLinkHtml = 'Like what you see? Visit the ' +\n",
              "            '<a target=\"_blank\" href=https://colab.research.google.com/notebooks/data_table.ipynb>data table notebook</a>'\n",
              "            + ' to learn more about interactive tables.';\n",
              "          element.innerHTML = '';\n",
              "          dataTable['output_type'] = 'display_data';\n",
              "          await google.colab.output.renderOutput(dataTable, element);\n",
              "          const docLink = document.createElement('div');\n",
              "          docLink.innerHTML = docLinkHtml;\n",
              "          element.appendChild(docLink);\n",
              "        }\n",
              "      </script>\n",
              "    </div>\n",
              "  </div>\n",
              "  "
            ]
          },
          "metadata": {},
          "execution_count": 17
        }
      ]
    },
    {
      "cell_type": "code",
      "source": [
        "def display_dialogue(df, id):\n",
        "    temp = df.loc[id]\n",
        "    for _,row in temp.iterrows():\n",
        "        img = row['img_id']\n",
        "        turn = 'user1' if row['speaker_id'] == '[speaker1]' else 'user2'\n",
        "        print(turn + ': ' + row['txt'])\n",
        "\n",
        "        # try:\n",
        "            # ref = id2img[str(img)]\n",
        "        if str(img) != 'nan':\n",
        "            display.display(Image.open(config['path']['image_path'] + f'{img}'))\n",
        "        # except:\n",
        "            # pass\n",
        "\n",
        "display_dialogue(train_df, 'dialogue 1000')"
      ],
      "metadata": {
        "colab": {
          "base_uri": "https://localhost:8080/",
          "height": 1000
        },
        "id": "2b3ruGT40T7Y",
        "outputId": "9eebedc9-ea22-4969-8b92-6fb9f53164a0"
      },
      "execution_count": 20,
      "outputs": [
        {
          "output_type": "stream",
          "name": "stdout",
          "text": [
            "user1: Lao Ge, are you poisoned too?\n"
          ]
        },
        {
          "output_type": "display_data",
          "data": {
            "text/plain": [
              "<PIL.JpegImagePlugin.JpegImageFile image mode=RGB size=56x72 at 0x7FE549B9D350>"
            ],
            "image/png": "[encoded data removed]"
          },
          "metadata": {}
        },
        {
          "output_type": "stream",
          "name": "stdout",
          "text": [
            "user2: Fainted by you\n",
            "user1: Do I have trouble?\n",
            "user2: Is there any wood?\n",
            "user1: Okay, I'm desperate\n",
            "user2: Super Little Dese\n",
            "user1: Well, there are levels too?\n"
          ]
        },
        {
          "output_type": "display_data",
          "data": {
            "text/plain": [
              "<PIL.JpegImagePlugin.JpegImageFile image mode=RGB size=191x190 at 0x7FE549B9DB10>"
            ],
            "image/png": "[encoded data removed]"
          },
          "metadata": {}
        },
        {
          "output_type": "stream",
          "name": "stdout",
          "text": [
            "user2: It’s a lot smaller than your reality.\n",
            "user1: This is a bit confusing\n"
          ]
        },
        {
          "output_type": "display_data",
          "data": {
            "text/plain": [
              "<PIL.JpegImagePlugin.JpegImageFile image mode=RGB size=100x70 at 0x7FE549B9DE50>"
            ],
            "image/png": "[encoded data removed]"
          },
          "metadata": {}
        },
        {
          "output_type": "stream",
          "name": "stdout",
          "text": [
            "user2: Very straightforward\n",
            "user1: Still don't understand\n"
          ]
        },
        {
          "output_type": "display_data",
          "data": {
            "text/plain": [
              "<PIL.JpegImagePlugin.JpegImageFile image mode=RGB size=280x246 at 0x7FE549B9DBD0>"
            ],
            "image/png": "[encoded data removed]"
          },
          "metadata": {}
        },
        {
          "output_type": "stream",
          "name": "stdout",
          "text": [
            "user2: I don’t know what to do, I’ve got coffee in my head\n"
          ]
        },
        {
          "output_type": "display_data",
          "data": {
            "text/plain": [
              "<PIL.GifImagePlugin.GifImageFile image mode=P size=200x200 at 0x7FE54FD6F290>"
            ],
            "image/png": "[encoded data removed]"
          },
          "metadata": {}
        }
      ]
    },
    {
      "cell_type": "markdown",
      "source": [
        "# Stats + Clean"
      ],
      "metadata": {
        "id": "ERxLixvREqKQ"
      }
    },
    {
      "cell_type": "markdown",
      "source": [
        "## Remove short dialogues"
      ],
      "metadata": {
        "id": "cCMA9Ma7EOO7"
      }
    },
    {
      "cell_type": "markdown",
      "source": [
        "Phân bố Số lượt nói mỗi cuộc hội thoại"
      ],
      "metadata": {
        "id": "LuHJTGz5Jplw"
      }
    },
    {
      "cell_type": "code",
      "source": [
        "train_df.index.value_counts().plot(kind = 'hist', bins = 100)\n",
        "plt.xlim((0, 50))"
      ],
      "metadata": {
        "colab": {
          "base_uri": "https://localhost:8080/",
          "height": 286
        },
        "id": "9FuJxY1zJGQz",
        "outputId": "54fb9519-7a7d-4019-e300-ea32b55f3417"
      },
      "execution_count": 21,
      "outputs": [
        {
          "output_type": "execute_result",
          "data": {
            "text/plain": [
              "(0.0, 50.0)"
            ]
          },
          "metadata": {},
          "execution_count": 21
        },
        {
          "output_type": "display_data",
          "data": {
            "text/plain": [
              "<Figure size 432x288 with 1 Axes>"
            ],
            "image/png": "[encoded data removed]"
          },
          "metadata": {
            "needs_background": "light"
          }
        }
      ]
    },
    {
      "cell_type": "markdown",
      "source": [
        "Bỏ những cuộc hội thoại có 3 lượt nói trở xuống"
      ],
      "metadata": {
        "id": "4Ob6yBqNIwm3"
      }
    },
    {
      "cell_type": "code",
      "source": [
        "temp = (train_df.index.value_counts() < 3)\n",
        "print(f\"Num of len < 3: {temp.sum()}\")\n",
        "print(f\"Percentage of len < 3: {temp.mean() * 100}\")"
      ],
      "metadata": {
        "colab": {
          "base_uri": "https://localhost:8080/"
        },
        "id": "Y4RUxnfQF8f7",
        "outputId": "026e49d7-b225-4d56-94bd-f281b7d896c1"
      },
      "execution_count": 22,
      "outputs": [
        {
          "output_type": "stream",
          "name": "stdout",
          "text": [
            "Num of len < 3: 37\n",
            "Percentage of len < 3: 0.05595463137996219\n"
          ]
        }
      ]
    },
    {
      "cell_type": "code",
      "source": [
        "def remove_short_dialogue(df, num_turns = 2):\n",
        "    temp = (df.index.value_counts() < num_turns)\n",
        "    remove_idx = temp[temp].index\n",
        "    df = df[~df.index.isin(remove_idx)]\n",
        "    return df\n",
        "\n",
        "train_df = remove_short_dialogue(train_df, 3)\n",
        "val_df = remove_short_dialogue(val_df, 3)\n",
        "# test_df = remove_short_dialogue(test_df, 3)\n",
        "train_df"
      ],
      "metadata": {
        "colab": {
          "base_uri": "https://localhost:8080/",
          "height": 455
        },
        "id": "Msh5rR6-2AF3",
        "outputId": "c36d457c-0ec4-4b0a-f735-6fdbce359c33"
      },
      "execution_count": 23,
      "outputs": [
        {
          "output_type": "execute_result",
          "data": {
            "text/plain": [
              "                speaker_id    img_id  emotion_id  \\\n",
              "dialogue_id                                        \n",
              "dialogue 11015  [speaker1]   218.gif         0.0   \n",
              "dialogue 11015  [speaker2]       NaN         NaN   \n",
              "dialogue 11015  [speaker1]   273.gif         9.0   \n",
              "dialogue 11015  [speaker2]       NaN         NaN   \n",
              "dialogue 11015  [speaker1]       NaN         NaN   \n",
              "...                    ...       ...         ...   \n",
              "dialogue 61000  [speaker1]       NaN         NaN   \n",
              "dialogue 61000  [speaker2]       NaN         NaN   \n",
              "dialogue 61000  [speaker1]  127.jpeg        24.0   \n",
              "dialogue 61000  [speaker2]       NaN         NaN   \n",
              "dialogue 61000  [speaker1]       NaN         NaN   \n",
              "\n",
              "                                                              txt  \n",
              "dialogue_id                                                        \n",
              "dialogue 11015                      Haha. . . Don't know who i am  \n",
              "dialogue 11015                                            Ouyang?  \n",
              "dialogue 11015                    Haha. . . . . Want to prompt no  \n",
              "dialogue 11015                                       Give a hint,  \n",
              "dialogue 11015                   The sky of midsummer. . . . Haha  \n",
              "...                                                           ...  \n",
              "dialogue 61000  It’s not a spare tire. Anyway, it’s been more ...  \n",
              "dialogue 61000  To my boyfriend, it seems that the time to say...  \n",
              "dialogue 61000  So it’s all an excuse. I think it’s normal to ...  \n",
              "dialogue 61000                              We haven't been sweet  \n",
              "dialogue 61000            The girl broke up quickly, so many boys  \n",
              "\n",
              "[925759 rows x 4 columns]"
            ],
            "text/html": [
              "\n",
              "  <div id=\"df-4145c66e-16e2-438e-9751-3bdd6e899e07\">\n",
              "    <div class=\"colab-df-container\">\n",
              "      <div>\n",
              "<style scoped>\n",
              "    .dataframe tbody tr th:only-of-type {\n",
              "        vertical-align: middle;\n",
              "    }\n",
              "\n",
              "    .dataframe tbody tr th {\n",
              "        vertical-align: top;\n",
              "    }\n",
              "\n",
              "    .dataframe thead th {\n",
              "        text-align: right;\n",
              "    }\n",
              "</style>\n",
              "<table border=\"1\" class=\"dataframe\">\n",
              "  <thead>\n",
              "    <tr style=\"text-align: right;\">\n",
              "      <th></th>\n",
              "      <th>speaker_id</th>\n",
              "      <th>img_id</th>\n",
              "      <th>emotion_id</th>\n",
              "      <th>txt</th>\n",
              "    </tr>\n",
              "    <tr>\n",
              "      <th>dialogue_id</th>\n",
              "      <th></th>\n",
              "      <th></th>\n",
              "      <th></th>\n",
              "      <th></th>\n",
              "    </tr>\n",
              "  </thead>\n",
              "  <tbody>\n",
              "    <tr>\n",
              "      <th>dialogue 11015</th>\n",
              "      <td>[speaker1]</td>\n",
              "      <td>218.gif</td>\n",
              "      <td>0.0</td>\n",
              "      <td>Haha. . . Don't know who i am</td>\n",
              "    </tr>\n",
              "    <tr>\n",
              "      <th>dialogue 11015</th>\n",
              "      <td>[speaker2]</td>\n",
              "      <td>NaN</td>\n",
              "      <td>NaN</td>\n",
              "      <td>Ouyang?</td>\n",
              "    </tr>\n",
              "    <tr>\n",
              "      <th>dialogue 11015</th>\n",
              "      <td>[speaker1]</td>\n",
              "      <td>273.gif</td>\n",
              "      <td>9.0</td>\n",
              "      <td>Haha. . . . . Want to prompt no</td>\n",
              "    </tr>\n",
              "    <tr>\n",
              "      <th>dialogue 11015</th>\n",
              "      <td>[speaker2]</td>\n",
              "      <td>NaN</td>\n",
              "      <td>NaN</td>\n",
              "      <td>Give a hint,</td>\n",
              "    </tr>\n",
              "    <tr>\n",
              "      <th>dialogue 11015</th>\n",
              "      <td>[speaker1]</td>\n",
              "      <td>NaN</td>\n",
              "      <td>NaN</td>\n",
              "      <td>The sky of midsummer. . . . Haha</td>\n",
              "    </tr>\n",
              "    <tr>\n",
              "      <th>...</th>\n",
              "      <td>...</td>\n",
              "      <td>...</td>\n",
              "      <td>...</td>\n",
              "      <td>...</td>\n",
              "    </tr>\n",
              "    <tr>\n",
              "      <th>dialogue 61000</th>\n",
              "      <td>[speaker1]</td>\n",
              "      <td>NaN</td>\n",
              "      <td>NaN</td>\n",
              "      <td>It’s not a spare tire. Anyway, it’s been more ...</td>\n",
              "    </tr>\n",
              "    <tr>\n",
              "      <th>dialogue 61000</th>\n",
              "      <td>[speaker2]</td>\n",
              "      <td>NaN</td>\n",
              "      <td>NaN</td>\n",
              "      <td>To my boyfriend, it seems that the time to say...</td>\n",
              "    </tr>\n",
              "    <tr>\n",
              "      <th>dialogue 61000</th>\n",
              "      <td>[speaker1]</td>\n",
              "      <td>127.jpeg</td>\n",
              "      <td>24.0</td>\n",
              "      <td>So it’s all an excuse. I think it’s normal to ...</td>\n",
              "    </tr>\n",
              "    <tr>\n",
              "      <th>dialogue 61000</th>\n",
              "      <td>[speaker2]</td>\n",
              "      <td>NaN</td>\n",
              "      <td>NaN</td>\n",
              "      <td>We haven't been sweet</td>\n",
              "    </tr>\n",
              "    <tr>\n",
              "      <th>dialogue 61000</th>\n",
              "      <td>[speaker1]</td>\n",
              "      <td>NaN</td>\n",
              "      <td>NaN</td>\n",
              "      <td>The girl broke up quickly, so many boys</td>\n",
              "    </tr>\n",
              "  </tbody>\n",
              "</table>\n",
              "<p>925759 rows × 4 columns</p>\n",
              "</div>\n",
              "      <button class=\"colab-df-convert\" onclick=\"convertToInteractive('df-4145c66e-16e2-438e-9751-3bdd6e899e07')\"\n",
              "              title=\"Convert this dataframe to an interactive table.\"\n",
              "              style=\"display:none;\">\n",
              "        \n",
              "  <svg xmlns=\"http://www.w3.org/2000/svg\" height=\"24px\"viewBox=\"0 0 24 24\"\n",
              "       width=\"24px\">\n",
              "    <path d=\"M0 0h24v24H0V0z\" fill=\"none\"/>\n",
              "    <path d=\"M18.56 5.44l.94 2.06.94-2.06 2.06-.94-2.06-.94-.94-2.06-.94 2.06-2.06.94zm-11 1L8.5 8.5l.94-2.06 2.06-.94-2.06-.94L8.5 2.5l-.94 2.06-2.06.94zm10 10l.94 2.06.94-2.06 2.06-.94-2.06-.94-.94-2.06-.94 2.06-2.06.94z\"/><path d=\"M17.41 7.96l-1.37-1.37c-.4-.4-.92-.59-1.43-.59-.52 0-1.04.2-1.43.59L10.3 9.45l-7.72 7.72c-.78.78-.78 2.05 0 2.83L4 21.41c.39.39.9.59 1.41.59.51 0 1.02-.2 1.41-.59l7.78-7.78 2.81-2.81c.8-.78.8-2.07 0-2.86zM5.41 20L4 18.59l7.72-7.72 1.47 1.35L5.41 20z\"/>\n",
              "  </svg>\n",
              "      </button>\n",
              "      \n",
              "  <style>\n",
              "    .colab-df-container {\n",
              "      display:flex;\n",
              "      flex-wrap:wrap;\n",
              "      gap: 12px;\n",
              "    }\n",
              "\n",
              "    .colab-df-convert {\n",
              "      background-color: #E8F0FE;\n",
              "      border: none;\n",
              "      border-radius: 50%;\n",
              "      cursor: pointer;\n",
              "      display: none;\n",
              "      fill: #1967D2;\n",
              "      height: 32px;\n",
              "      padding: 0 0 0 0;\n",
              "      width: 32px;\n",
              "    }\n",
              "\n",
              "    .colab-df-convert:hover {\n",
              "      background-color: #E2EBFA;\n",
              "      box-shadow: 0px 1px 2px rgba(60, 64, 67, 0.3), 0px 1px 3px 1px rgba(60, 64, 67, 0.15);\n",
              "      fill: #174EA6;\n",
              "    }\n",
              "\n",
              "    [theme=dark] .colab-df-convert {\n",
              "      background-color: #3B4455;\n",
              "      fill: #D2E3FC;\n",
              "    }\n",
              "\n",
              "    [theme=dark] .colab-df-convert:hover {\n",
              "      background-color: #434B5C;\n",
              "      box-shadow: 0px 1px 3px 1px rgba(0, 0, 0, 0.15);\n",
              "      filter: drop-shadow(0px 1px 2px rgba(0, 0, 0, 0.3));\n",
              "      fill: #FFFFFF;\n",
              "    }\n",
              "  </style>\n",
              "\n",
              "      <script>\n",
              "        const buttonEl =\n",
              "          document.querySelector('#df-4145c66e-16e2-438e-9751-3bdd6e899e07 button.colab-df-convert');\n",
              "        buttonEl.style.display =\n",
              "          google.colab.kernel.accessAllowed ? 'block' : 'none';\n",
              "\n",
              "        async function convertToInteractive(key) {\n",
              "          const element = document.querySelector('#df-4145c66e-16e2-438e-9751-3bdd6e899e07');\n",
              "          const dataTable =\n",
              "            await google.colab.kernel.invokeFunction('convertToInteractive',\n",
              "                                                     [key], {});\n",
              "          if (!dataTable) return;\n",
              "\n",
              "          const docLinkHtml = 'Like what you see? Visit the ' +\n",
              "            '<a target=\"_blank\" href=https://colab.research.google.com/notebooks/data_table.ipynb>data table notebook</a>'\n",
              "            + ' to learn more about interactive tables.';\n",
              "          element.innerHTML = '';\n",
              "          dataTable['output_type'] = 'display_data';\n",
              "          await google.colab.output.renderOutput(dataTable, element);\n",
              "          const docLink = document.createElement('div');\n",
              "          docLink.innerHTML = docLinkHtml;\n",
              "          element.appendChild(docLink);\n",
              "        }\n",
              "      </script>\n",
              "    </div>\n",
              "  </div>\n",
              "  "
            ]
          },
          "metadata": {},
          "execution_count": 23
        }
      ]
    },
    {
      "cell_type": "markdown",
      "source": [
        "## \\# tokens (words) per dialogue"
      ],
      "metadata": {
        "id": "SvXiPbohItOe"
      }
    },
    {
      "cell_type": "code",
      "source": [
        "train_df['token_len'] = train_df['txt'].apply(lambda x: len(x.split()))\n",
        "val_df['token_len'] = val_df['txt'].apply(lambda x: len(x.split()))\n",
        "# test_df['token_len'] = test_df['txt'].apply(lambda x: len(x.split()))\n",
        "train_df"
      ],
      "metadata": {
        "colab": {
          "base_uri": "https://localhost:8080/",
          "height": 800
        },
        "id": "OnKFS0J8JYYO",
        "outputId": "978fe359-06d1-4f55-b8ff-159e243fac0f"
      },
      "execution_count": 24,
      "outputs": [
        {
          "output_type": "stream",
          "name": "stderr",
          "text": [
            "/usr/local/lib/python3.7/dist-packages/ipykernel_launcher.py:1: SettingWithCopyWarning: \n",
            "A value is trying to be set on a copy of a slice from a DataFrame.\n",
            "Try using .loc[row_indexer,col_indexer] = value instead\n",
            "\n",
            "See the caveats in the documentation: https://pandas.pydata.org/pandas-docs/stable/user_guide/indexing.html#returning-a-view-versus-a-copy\n",
            "  \"\"\"Entry point for launching an IPython kernel.\n"
          ]
        },
        {
          "output_type": "execute_result",
          "data": {
            "text/plain": [
              "                speaker_id    img_id  emotion_id  \\\n",
              "dialogue_id                                        \n",
              "dialogue 11015  [speaker1]   218.gif         0.0   \n",
              "dialogue 11015  [speaker2]       NaN         NaN   \n",
              "dialogue 11015  [speaker1]   273.gif         9.0   \n",
              "dialogue 11015  [speaker2]       NaN         NaN   \n",
              "dialogue 11015  [speaker1]       NaN         NaN   \n",
              "...                    ...       ...         ...   \n",
              "dialogue 61000  [speaker1]       NaN         NaN   \n",
              "dialogue 61000  [speaker2]       NaN         NaN   \n",
              "dialogue 61000  [speaker1]  127.jpeg        24.0   \n",
              "dialogue 61000  [speaker2]       NaN         NaN   \n",
              "dialogue 61000  [speaker1]       NaN         NaN   \n",
              "\n",
              "                                                              txt  token_len  \n",
              "dialogue_id                                                                   \n",
              "dialogue 11015                      Haha. . . Don't know who i am          8  \n",
              "dialogue 11015                                            Ouyang?          1  \n",
              "dialogue 11015                    Haha. . . . . Want to prompt no          9  \n",
              "dialogue 11015                                       Give a hint,          3  \n",
              "dialogue 11015                   The sky of midsummer. . . . Haha          8  \n",
              "...                                                           ...        ...  \n",
              "dialogue 61000  It’s not a spare tire. Anyway, it’s been more ...         41  \n",
              "dialogue 61000  To my boyfriend, it seems that the time to say...         13  \n",
              "dialogue 61000  So it’s all an excuse. I think it’s normal to ...         20  \n",
              "dialogue 61000                              We haven't been sweet          4  \n",
              "dialogue 61000            The girl broke up quickly, so many boys          8  \n",
              "\n",
              "[925759 rows x 5 columns]"
            ],
            "text/html": [
              "\n",
              "  <div id=\"df-17ec19bc-f1f5-4e93-a070-f9224fa6cd1e\">\n",
              "    <div class=\"colab-df-container\">\n",
              "      <div>\n",
              "<style scoped>\n",
              "    .dataframe tbody tr th:only-of-type {\n",
              "        vertical-align: middle;\n",
              "    }\n",
              "\n",
              "    .dataframe tbody tr th {\n",
              "        vertical-align: top;\n",
              "    }\n",
              "\n",
              "    .dataframe thead th {\n",
              "        text-align: right;\n",
              "    }\n",
              "</style>\n",
              "<table border=\"1\" class=\"dataframe\">\n",
              "  <thead>\n",
              "    <tr style=\"text-align: right;\">\n",
              "      <th></th>\n",
              "      <th>speaker_id</th>\n",
              "      <th>img_id</th>\n",
              "      <th>emotion_id</th>\n",
              "      <th>txt</th>\n",
              "      <th>token_len</th>\n",
              "    </tr>\n",
              "    <tr>\n",
              "      <th>dialogue_id</th>\n",
              "      <th></th>\n",
              "      <th></th>\n",
              "      <th></th>\n",
              "      <th></th>\n",
              "      <th></th>\n",
              "    </tr>\n",
              "  </thead>\n",
              "  <tbody>\n",
              "    <tr>\n",
              "      <th>dialogue 11015</th>\n",
              "      <td>[speaker1]</td>\n",
              "      <td>218.gif</td>\n",
              "      <td>0.0</td>\n",
              "      <td>Haha. . . Don't know who i am</td>\n",
              "      <td>8</td>\n",
              "    </tr>\n",
              "    <tr>\n",
              "      <th>dialogue 11015</th>\n",
              "      <td>[speaker2]</td>\n",
              "      <td>NaN</td>\n",
              "      <td>NaN</td>\n",
              "      <td>Ouyang?</td>\n",
              "      <td>1</td>\n",
              "    </tr>\n",
              "    <tr>\n",
              "      <th>dialogue 11015</th>\n",
              "      <td>[speaker1]</td>\n",
              "      <td>273.gif</td>\n",
              "      <td>9.0</td>\n",
              "      <td>Haha. . . . . Want to prompt no</td>\n",
              "      <td>9</td>\n",
              "    </tr>\n",
              "    <tr>\n",
              "      <th>dialogue 11015</th>\n",
              "      <td>[speaker2]</td>\n",
              "      <td>NaN</td>\n",
              "      <td>NaN</td>\n",
              "      <td>Give a hint,</td>\n",
              "      <td>3</td>\n",
              "    </tr>\n",
              "    <tr>\n",
              "      <th>dialogue 11015</th>\n",
              "      <td>[speaker1]</td>\n",
              "      <td>NaN</td>\n",
              "      <td>NaN</td>\n",
              "      <td>The sky of midsummer. . . . Haha</td>\n",
              "      <td>8</td>\n",
              "    </tr>\n",
              "    <tr>\n",
              "      <th>...</th>\n",
              "      <td>...</td>\n",
              "      <td>...</td>\n",
              "      <td>...</td>\n",
              "      <td>...</td>\n",
              "      <td>...</td>\n",
              "    </tr>\n",
              "    <tr>\n",
              "      <th>dialogue 61000</th>\n",
              "      <td>[speaker1]</td>\n",
              "      <td>NaN</td>\n",
              "      <td>NaN</td>\n",
              "      <td>It’s not a spare tire. Anyway, it’s been more ...</td>\n",
              "      <td>41</td>\n",
              "    </tr>\n",
              "    <tr>\n",
              "      <th>dialogue 61000</th>\n",
              "      <td>[speaker2]</td>\n",
              "      <td>NaN</td>\n",
              "      <td>NaN</td>\n",
              "      <td>To my boyfriend, it seems that the time to say...</td>\n",
              "      <td>13</td>\n",
              "    </tr>\n",
              "    <tr>\n",
              "      <th>dialogue 61000</th>\n",
              "      <td>[speaker1]</td>\n",
              "      <td>127.jpeg</td>\n",
              "      <td>24.0</td>\n",
              "      <td>So it’s all an excuse. I think it’s normal to ...</td>\n",
              "      <td>20</td>\n",
              "    </tr>\n",
              "    <tr>\n",
              "      <th>dialogue 61000</th>\n",
              "      <td>[speaker2]</td>\n",
              "      <td>NaN</td>\n",
              "      <td>NaN</td>\n",
              "      <td>We haven't been sweet</td>\n",
              "      <td>4</td>\n",
              "    </tr>\n",
              "    <tr>\n",
              "      <th>dialogue 61000</th>\n",
              "      <td>[speaker1]</td>\n",
              "      <td>NaN</td>\n",
              "      <td>NaN</td>\n",
              "      <td>The girl broke up quickly, so many boys</td>\n",
              "      <td>8</td>\n",
              "    </tr>\n",
              "  </tbody>\n",
              "</table>\n",
              "<p>925759 rows × 5 columns</p>\n",
              "</div>\n",
              "      <button class=\"colab-df-convert\" onclick=\"convertToInteractive('df-17ec19bc-f1f5-4e93-a070-f9224fa6cd1e')\"\n",
              "              title=\"Convert this dataframe to an interactive table.\"\n",
              "              style=\"display:none;\">\n",
              "        \n",
              "  <svg xmlns=\"http://www.w3.org/2000/svg\" height=\"24px\"viewBox=\"0 0 24 24\"\n",
              "       width=\"24px\">\n",
              "    <path d=\"M0 0h24v24H0V0z\" fill=\"none\"/>\n",
              "    <path d=\"M18.56 5.44l.94 2.06.94-2.06 2.06-.94-2.06-.94-.94-2.06-.94 2.06-2.06.94zm-11 1L8.5 8.5l.94-2.06 2.06-.94-2.06-.94L8.5 2.5l-.94 2.06-2.06.94zm10 10l.94 2.06.94-2.06 2.06-.94-2.06-.94-.94-2.06-.94 2.06-2.06.94z\"/><path d=\"M17.41 7.96l-1.37-1.37c-.4-.4-.92-.59-1.43-.59-.52 0-1.04.2-1.43.59L10.3 9.45l-7.72 7.72c-.78.78-.78 2.05 0 2.83L4 21.41c.39.39.9.59 1.41.59.51 0 1.02-.2 1.41-.59l7.78-7.78 2.81-2.81c.8-.78.8-2.07 0-2.86zM5.41 20L4 18.59l7.72-7.72 1.47 1.35L5.41 20z\"/>\n",
              "  </svg>\n",
              "      </button>\n",
              "      \n",
              "  <style>\n",
              "    .colab-df-container {\n",
              "      display:flex;\n",
              "      flex-wrap:wrap;\n",
              "      gap: 12px;\n",
              "    }\n",
              "\n",
              "    .colab-df-convert {\n",
              "      background-color: #E8F0FE;\n",
              "      border: none;\n",
              "      border-radius: 50%;\n",
              "      cursor: pointer;\n",
              "      display: none;\n",
              "      fill: #1967D2;\n",
              "      height: 32px;\n",
              "      padding: 0 0 0 0;\n",
              "      width: 32px;\n",
              "    }\n",
              "\n",
              "    .colab-df-convert:hover {\n",
              "      background-color: #E2EBFA;\n",
              "      box-shadow: 0px 1px 2px rgba(60, 64, 67, 0.3), 0px 1px 3px 1px rgba(60, 64, 67, 0.15);\n",
              "      fill: #174EA6;\n",
              "    }\n",
              "\n",
              "    [theme=dark] .colab-df-convert {\n",
              "      background-color: #3B4455;\n",
              "      fill: #D2E3FC;\n",
              "    }\n",
              "\n",
              "    [theme=dark] .colab-df-convert:hover {\n",
              "      background-color: #434B5C;\n",
              "      box-shadow: 0px 1px 3px 1px rgba(0, 0, 0, 0.15);\n",
              "      filter: drop-shadow(0px 1px 2px rgba(0, 0, 0, 0.3));\n",
              "      fill: #FFFFFF;\n",
              "    }\n",
              "  </style>\n",
              "\n",
              "      <script>\n",
              "        const buttonEl =\n",
              "          document.querySelector('#df-17ec19bc-f1f5-4e93-a070-f9224fa6cd1e button.colab-df-convert');\n",
              "        buttonEl.style.display =\n",
              "          google.colab.kernel.accessAllowed ? 'block' : 'none';\n",
              "\n",
              "        async function convertToInteractive(key) {\n",
              "          const element = document.querySelector('#df-17ec19bc-f1f5-4e93-a070-f9224fa6cd1e');\n",
              "          const dataTable =\n",
              "            await google.colab.kernel.invokeFunction('convertToInteractive',\n",
              "                                                     [key], {});\n",
              "          if (!dataTable) return;\n",
              "\n",
              "          const docLinkHtml = 'Like what you see? Visit the ' +\n",
              "            '<a target=\"_blank\" href=https://colab.research.google.com/notebooks/data_table.ipynb>data table notebook</a>'\n",
              "            + ' to learn more about interactive tables.';\n",
              "          element.innerHTML = '';\n",
              "          dataTable['output_type'] = 'display_data';\n",
              "          await google.colab.output.renderOutput(dataTable, element);\n",
              "          const docLink = document.createElement('div');\n",
              "          docLink.innerHTML = docLinkHtml;\n",
              "          element.appendChild(docLink);\n",
              "        }\n",
              "      </script>\n",
              "    </div>\n",
              "  </div>\n",
              "  "
            ]
          },
          "metadata": {},
          "execution_count": 24
        }
      ]
    },
    {
      "cell_type": "code",
      "source": [
        "token_len_dist = train_df.groupby('dialogue_id')['token_len'].sum()\n",
        "token_len_dist"
      ],
      "metadata": {
        "colab": {
          "base_uri": "https://localhost:8080/"
        },
        "id": "lbSBRZpiK5J0",
        "outputId": "ad70ae33-893c-4dc6-8206-15d678960214"
      },
      "execution_count": 25,
      "outputs": [
        {
          "output_type": "execute_result",
          "data": {
            "text/plain": [
              "dialogue_id\n",
              "dialogue 1        113\n",
              "dialogue 10       136\n",
              "dialogue 100      145\n",
              "dialogue 1000      57\n",
              "dialogue 10000    117\n",
              "                 ... \n",
              "dialogue 9995     245\n",
              "dialogue 9996      64\n",
              "dialogue 9997      86\n",
              "dialogue 9998     129\n",
              "dialogue 9999      95\n",
              "Name: token_len, Length: 66088, dtype: int64"
            ]
          },
          "metadata": {},
          "execution_count": 25
        }
      ]
    },
    {
      "cell_type": "code",
      "source": [
        "sns.histplot(token_len_dist.values)\n",
        "plt.xlim((0, 1000))"
      ],
      "metadata": {
        "colab": {
          "base_uri": "https://localhost:8080/",
          "height": 283
        },
        "id": "96GdIsoULF_w",
        "outputId": "c8926a17-c092-4879-9456-a1dd817eb727"
      },
      "execution_count": 26,
      "outputs": [
        {
          "output_type": "execute_result",
          "data": {
            "text/plain": [
              "(0.0, 1000.0)"
            ]
          },
          "metadata": {},
          "execution_count": 26
        },
        {
          "output_type": "display_data",
          "data": {
            "text/plain": [
              "<Figure size 432x288 with 1 Axes>"
            ],
            "image/png": "[encoded data removed]"
          },
          "metadata": {
            "needs_background": "light"
          }
        }
      ]
    },
    {
      "cell_type": "markdown",
      "source": [
        "Có nhiều đoạn hội thoại vượt cả 600 tokens, xem thử "
      ],
      "metadata": {
        "id": "8yJZYR3bMQdr"
      }
    },
    {
      "cell_type": "code",
      "source": [
        "token_len_dist[token_len_dist >  600]"
      ],
      "metadata": {
        "colab": {
          "base_uri": "https://localhost:8080/"
        },
        "id": "2fixuD9TLqYu",
        "outputId": "4f50a8c3-49e9-4087-be21-df4fc3c74d88"
      },
      "execution_count": 27,
      "outputs": [
        {
          "output_type": "execute_result",
          "data": {
            "text/plain": [
              "dialogue_id\n",
              "dialogue 18095    630\n",
              "dialogue 23444    602\n",
              "dialogue 36275    680\n",
              "dialogue 37815    749\n",
              "dialogue 38246    932\n",
              "                 ... \n",
              "dialogue 76855    938\n",
              "dialogue 76867    919\n",
              "dialogue 76873    734\n",
              "dialogue 76882    981\n",
              "dialogue 76944    734\n",
              "Name: token_len, Length: 2200, dtype: int64"
            ]
          },
          "metadata": {},
          "execution_count": 27
        }
      ]
    },
    {
      "cell_type": "markdown",
      "source": [
        "Ồ đoạn này hay phết =)) data chất lượng thật sự"
      ],
      "metadata": {
        "id": "8Jme5khmNGdl"
      }
    },
    {
      "cell_type": "code",
      "source": [
        "display_dialogue(train_df, 'dialogue 37815')"
      ],
      "metadata": {
        "colab": {
          "base_uri": "https://localhost:8080/",
          "height": 1000
        },
        "id": "JP90tltaNFIg",
        "outputId": "3037fc77-4411-4c26-e028-bd13d41dc1e7"
      },
      "execution_count": 28,
      "outputs": [
        {
          "output_type": "stream",
          "name": "stdout",
          "text": [
            "user1: You are a good girl and someone who loves you more than him is waiting for you\n",
            "user2: I feel very tired, I don’t want to think about the next person, and I don’t think about anything. It’s always a dream and a lie.\n",
            "user1: Don’t think too much about things, let’s go with the flow, think too much, you will be very tired and suffer from severe insomnia.\n"
          ]
        },
        {
          "output_type": "display_data",
          "data": {
            "text/plain": [
              "<PIL.GifImagePlugin.GifImageFile image mode=P size=243x212 at 0x7FE52A7636D0>"
            ],
            "image/png": "[encoded data removed]"
          },
          "metadata": {}
        },
        {
          "output_type": "stream",
          "name": "stdout",
          "text": [
            "user2: At the beginning, he also said to go with the flow. There is no promise, no explanation, but I feel bored and there is no one who can’t let go. There is nothing I can’t forget. I’ll be fine. Thank you.\n",
            "user1: He said let it go, what else can you do? You can only let it go, or he will be more disgusted and can only bear it in his heart and pretend not to care when seeing him is really tired\n",
            "user2: Haha, the good point is that I can’t see him. The distance of more than 3,000 kilometers is the reason why he left. Maybe I will never see him again in this life.\n"
          ]
        },
        {
          "output_type": "display_data",
          "data": {
            "text/plain": [
              "<PIL.JpegImagePlugin.JpegImageFile image mode=RGB size=440x394 at 0x7FE52A763650>"
            ],
            "image/png": "[encoded data removed]"
          },
          "metadata": {}
        },
        {
          "output_type": "stream",
          "name": "stdout",
          "text": [
            "user1: I can’t see it. I have to face the person I love every day and pretend I don’t care. Space and time are both good things. Take your time\n",
            "user2: Uh yeah, time is a good medicine, it will pass and cheer together\n"
          ]
        },
        {
          "output_type": "display_data",
          "data": {
            "text/plain": [
              "<PIL.GifImagePlugin.GifImageFile image mode=P size=300x300 at 0x7FE52A763A50>"
            ],
            "image/png": "[encoded data removed]"
          },
          "metadata": {}
        },
        {
          "output_type": "stream",
          "name": "stdout",
          "text": [
            "user1: Alas, he came back from a business trip this morning and took the initiative to contact me.\n",
            "user2: Men like to be ambiguous, silly, children, think about it carefully, if a person can’t give you happiness, then break it off early, like me, I lied to myself, why bother when he finds his true love, he will leave you behind, isn’t it that time? Is it more painful?\n",
            "user1: I know all this is because I can't control myself\n",
            "user2: If you have time, you can read the story between me and him. From the first day we met to the last day, I wrote all the bits and pieces in the diary. He gave me the pledge of eachother to the cloud and smoke. After reading it, you will understand it and maybe you can let it go.\n",
            "user1: Okay, I have time to see. I tried many times to give up, but every time it was a small text message from him, all his firmness disappeared.\n",
            "user2: Is there no real pain? Or there is still expectation. Expectation is a terrible thing. It is disappointment or even despair. I don’t know which one you prefer. Is it really worth holding on to an impossible future? Let it go. To find true love, don’t you think about it, be nice to yourself\n",
            "user1: You are in a long-distance relationship. I admire your courage. I can’t do it. At the beginning, I knew that there was no result. What I like is the feeling. No matter who he is with in the future, as long as there is always one in the memory, I may not. The two people who are suitable to live together are relatively strong. In front of him, I finally compromised.\n",
            "user2: If you compromise every time, it can only be said that you love him more than he loves you. Will there be one you and me in the memory forever? I’m afraid he can’t even guarantee it. Three years ago, I loved a person very much. It should be said that it is more important than life, but now I don’t even bother to think of him. If you are determined to follow this feeling, I can only wish you happiness. After choosing, don’t regret and move forward bravely.\n",
            "user1: I just want our relationship to be far and near. It’s a little sense of distance that will last for a long time. The less you can get, the more I feel that the result of getting along with each other is like left and right hands, but when the distance is too far, I will be very uncomfortable because we are doomed from the beginning. If there is no result, then I will keep the best memories\n",
            "user2: Hmm, then I can support you to be happy\n",
            "user1: Um, thank you, you must be happy too\n"
          ]
        },
        {
          "output_type": "display_data",
          "data": {
            "text/plain": [
              "<PIL.GifImagePlugin.GifImageFile image mode=P size=250x270 at 0x7FE52C94AE10>"
            ],
            "image/png": "[encoded data removed]"
          },
          "metadata": {}
        },
        {
          "output_type": "stream",
          "name": "stdout",
          "text": [
            "user2: En Hui Da He He\n",
            "user1: Those who will pass, look forward and look happy, not cherishing you at all, it's his loss\n",
            "user2: Yeah, I'll be fine, I also believe that someone will be waiting for me\n",
            "user1: When you have a good mentality, you will be able to cheer up beautifully every day.\n"
          ]
        }
      ]
    },
    {
      "cell_type": "markdown",
      "source": [
        "## \\# emotion_id and its distribution"
      ],
      "metadata": {
        "id": "ueMRuqRVgWMQ"
      }
    },
    {
      "cell_type": "code",
      "source": [
        "print(train_df['emotion_id'].value_counts())"
      ],
      "metadata": {
        "colab": {
          "base_uri": "https://localhost:8080/"
        },
        "id": "ZBYoCs9Dv3Vc",
        "outputId": "57ec5f07-f7ac-4696-8149-edbf1942cbff"
      },
      "execution_count": 29,
      "outputs": [
        {
          "output_type": "stream",
          "name": "stdout",
          "text": [
            "0.0     30789\n",
            "1.0     28821\n",
            "3.0     28223\n",
            "2.0     20645\n",
            "8.0     13099\n",
            "4.0     10678\n",
            "6.0     10483\n",
            "11.0    10370\n",
            "10.0     9486\n",
            "5.0      9469\n",
            "13.0     8377\n",
            "9.0      8294\n",
            "7.0      8203\n",
            "14.0     4274\n",
            "12.0     4264\n",
            "16.0     4009\n",
            "23.0     3905\n",
            "15.0     3718\n",
            "18.0     3224\n",
            "22.0     2963\n",
            "19.0     2824\n",
            "28.0     2801\n",
            "17.0     2432\n",
            "24.0     2305\n",
            "27.0     2217\n",
            "20.0     1844\n",
            "29.0     1648\n",
            "21.0     1629\n",
            "25.0     1031\n",
            "26.0      989\n",
            "31.0      768\n",
            "30.0      643\n",
            "32.0      545\n",
            "34.0      276\n",
            "33.0      273\n",
            "35.0      187\n",
            "38.0      181\n",
            "36.0      163\n",
            "40.0      160\n",
            "37.0      123\n",
            "39.0      115\n",
            "42.0       82\n",
            "41.0       81\n",
            "47.0       52\n",
            "43.0       46\n",
            "45.0       35\n",
            "44.0       24\n",
            "Name: emotion_id, dtype: int64\n"
          ]
        }
      ]
    },
    {
      "cell_type": "code",
      "source": [
        "print(len(train_df['emotion_id'].value_counts()))"
      ],
      "metadata": {
        "colab": {
          "base_uri": "https://localhost:8080/"
        },
        "id": "NLfhlbV-g71W",
        "outputId": "a4776463-e464-4bde-995a-a2bf720caa05"
      },
      "execution_count": 30,
      "outputs": [
        {
          "output_type": "stream",
          "name": "stdout",
          "text": [
            "47\n"
          ]
        }
      ]
    },
    {
      "cell_type": "markdown",
      "source": [
        "## \\# turns having image"
      ],
      "metadata": {
        "id": "rVxsnZeogjRf"
      }
    },
    {
      "cell_type": "code",
      "source": [
        "num_turn_images = len(train_df) - train_df['img_id'].isna().sum()\n",
        "print(f'Train - Tổng lượt nói có ảnh: {num_turn_images}')\n",
        "print(f'Chiếm: {num_turn_images/len(train_df) * 100:.2f} %')"
      ],
      "metadata": {
        "colab": {
          "base_uri": "https://localhost:8080/"
        },
        "id": "JETKY3-BUypg",
        "outputId": "9153149f-5a0b-4581-b658-fe13f33e0fff"
      },
      "execution_count": 37,
      "outputs": [
        {
          "output_type": "stream",
          "name": "stdout",
          "text": [
            "Train - Tổng lượt nói có ảnh: 248678\n",
            "Chiếm: 26.86 %\n"
          ]
        }
      ]
    },
    {
      "cell_type": "code",
      "source": [
        "num_turn_images = len(val_df) - val_df['img_id'].isna().sum()\n",
        "print(f'Val - Tổng lượt nói có ảnh: {num_turn_images}')\n",
        "print(f'Chiếm: {num_turn_images/len(val_df) * 100:.2f} %')"
      ],
      "metadata": {
        "colab": {
          "base_uri": "https://localhost:8080/"
        },
        "id": "NEHq3zf9xKuL",
        "outputId": "7bd7b69a-c943-4abc-eddb-5be38f32e606"
      },
      "execution_count": 38,
      "outputs": [
        {
          "output_type": "stream",
          "name": "stdout",
          "text": [
            "Val - Tổng lượt nói có ảnh: 4106\n",
            "Chiếm: 30.05 %\n"
          ]
        }
      ]
    },
    {
      "cell_type": "markdown",
      "source": [
        "## \\# turns having emotion"
      ],
      "metadata": {
        "id": "yEu-eHTTglJX"
      }
    },
    {
      "cell_type": "code",
      "source": [
        "num_emotion_ids = len(train_df['emotion_id'].dropna())\n",
        "print(f'Train - Tổng lượt nói có emotion: {num_emotion_ids}')\n",
        "print(f'Chiếm: {num_emotion_ids/len(train_df) * 100:.2f} %')"
      ],
      "metadata": {
        "id": "xHeF9vsUekNf",
        "colab": {
          "base_uri": "https://localhost:8080/"
        },
        "outputId": "008874fb-9b5b-4291-aa69-b23b27d2dff4"
      },
      "execution_count": 40,
      "outputs": [
        {
          "output_type": "stream",
          "name": "stdout",
          "text": [
            "Train - Tổng lượt nói có emotion: 246768\n",
            "Chiếm: 26.66 %\n"
          ]
        }
      ]
    },
    {
      "cell_type": "code",
      "source": [
        "num_emotion_ids = len(val_df['emotion_id'].dropna())\n",
        "print(f'Val - Tổng lượt nói có emotion: {num_emotion_ids}')\n",
        "print(f'Chiếm: {num_emotion_ids/len(val_df) * 100:.2f} %')"
      ],
      "metadata": {
        "id": "4alR1Ma-xSu3",
        "colab": {
          "base_uri": "https://localhost:8080/"
        },
        "outputId": "ab51c6b7-f67c-48e2-e552-a19a481105ed"
      },
      "execution_count": 41,
      "outputs": [
        {
          "output_type": "stream",
          "name": "stdout",
          "text": [
            "Val - Tổng lượt nói có emotion: 4050\n",
            "Chiếm: 29.64 %\n"
          ]
        }
      ]
    },
    {
      "cell_type": "markdown",
      "source": [
        "## \\# Empty text turns"
      ],
      "metadata": {
        "id": "C65qS5Zfgn4C"
      }
    },
    {
      "cell_type": "code",
      "source": [
        "train_df[train_df['token_len'] == 0]"
      ],
      "metadata": {
        "id": "zLqODZimgTU-",
        "colab": {
          "base_uri": "https://localhost:8080/",
          "height": 206
        },
        "outputId": "99c8b38f-8aa7-46dd-807a-b6c5253c3c53"
      },
      "execution_count": 42,
      "outputs": [
        {
          "output_type": "execute_result",
          "data": {
            "text/plain": [
              "                speaker_id   img_id  emotion_id txt  token_len\n",
              "dialogue_id                                                   \n",
              "dialogue 28837  [speaker2]      NaN         NaN              0\n",
              "dialogue 25674  [speaker1]      NaN         NaN              0\n",
              "dialogue 17050  [speaker1]      NaN         NaN              0\n",
              "dialogue 74098  [speaker2]  285.jpg        47.0              0"
            ],
            "text/html": [
              "\n",
              "  <div id=\"df-e1d4d9b0-2eb1-4be9-bec5-4080fa091500\">\n",
              "    <div class=\"colab-df-container\">\n",
              "      <div>\n",
              "<style scoped>\n",
              "    .dataframe tbody tr th:only-of-type {\n",
              "        vertical-align: middle;\n",
              "    }\n",
              "\n",
              "    .dataframe tbody tr th {\n",
              "        vertical-align: top;\n",
              "    }\n",
              "\n",
              "    .dataframe thead th {\n",
              "        text-align: right;\n",
              "    }\n",
              "</style>\n",
              "<table border=\"1\" class=\"dataframe\">\n",
              "  <thead>\n",
              "    <tr style=\"text-align: right;\">\n",
              "      <th></th>\n",
              "      <th>speaker_id</th>\n",
              "      <th>img_id</th>\n",
              "      <th>emotion_id</th>\n",
              "      <th>txt</th>\n",
              "      <th>token_len</th>\n",
              "    </tr>\n",
              "    <tr>\n",
              "      <th>dialogue_id</th>\n",
              "      <th></th>\n",
              "      <th></th>\n",
              "      <th></th>\n",
              "      <th></th>\n",
              "      <th></th>\n",
              "    </tr>\n",
              "  </thead>\n",
              "  <tbody>\n",
              "    <tr>\n",
              "      <th>dialogue 28837</th>\n",
              "      <td>[speaker2]</td>\n",
              "      <td>NaN</td>\n",
              "      <td>NaN</td>\n",
              "      <td></td>\n",
              "      <td>0</td>\n",
              "    </tr>\n",
              "    <tr>\n",
              "      <th>dialogue 25674</th>\n",
              "      <td>[speaker1]</td>\n",
              "      <td>NaN</td>\n",
              "      <td>NaN</td>\n",
              "      <td></td>\n",
              "      <td>0</td>\n",
              "    </tr>\n",
              "    <tr>\n",
              "      <th>dialogue 17050</th>\n",
              "      <td>[speaker1]</td>\n",
              "      <td>NaN</td>\n",
              "      <td>NaN</td>\n",
              "      <td></td>\n",
              "      <td>0</td>\n",
              "    </tr>\n",
              "    <tr>\n",
              "      <th>dialogue 74098</th>\n",
              "      <td>[speaker2]</td>\n",
              "      <td>285.jpg</td>\n",
              "      <td>47.0</td>\n",
              "      <td></td>\n",
              "      <td>0</td>\n",
              "    </tr>\n",
              "  </tbody>\n",
              "</table>\n",
              "</div>\n",
              "      <button class=\"colab-df-convert\" onclick=\"convertToInteractive('df-e1d4d9b0-2eb1-4be9-bec5-4080fa091500')\"\n",
              "              title=\"Convert this dataframe to an interactive table.\"\n",
              "              style=\"display:none;\">\n",
              "        \n",
              "  <svg xmlns=\"http://www.w3.org/2000/svg\" height=\"24px\"viewBox=\"0 0 24 24\"\n",
              "       width=\"24px\">\n",
              "    <path d=\"M0 0h24v24H0V0z\" fill=\"none\"/>\n",
              "    <path d=\"M18.56 5.44l.94 2.06.94-2.06 2.06-.94-2.06-.94-.94-2.06-.94 2.06-2.06.94zm-11 1L8.5 8.5l.94-2.06 2.06-.94-2.06-.94L8.5 2.5l-.94 2.06-2.06.94zm10 10l.94 2.06.94-2.06 2.06-.94-2.06-.94-.94-2.06-.94 2.06-2.06.94z\"/><path d=\"M17.41 7.96l-1.37-1.37c-.4-.4-.92-.59-1.43-.59-.52 0-1.04.2-1.43.59L10.3 9.45l-7.72 7.72c-.78.78-.78 2.05 0 2.83L4 21.41c.39.39.9.59 1.41.59.51 0 1.02-.2 1.41-.59l7.78-7.78 2.81-2.81c.8-.78.8-2.07 0-2.86zM5.41 20L4 18.59l7.72-7.72 1.47 1.35L5.41 20z\"/>\n",
              "  </svg>\n",
              "      </button>\n",
              "      \n",
              "  <style>\n",
              "    .colab-df-container {\n",
              "      display:flex;\n",
              "      flex-wrap:wrap;\n",
              "      gap: 12px;\n",
              "    }\n",
              "\n",
              "    .colab-df-convert {\n",
              "      background-color: #E8F0FE;\n",
              "      border: none;\n",
              "      border-radius: 50%;\n",
              "      cursor: pointer;\n",
              "      display: none;\n",
              "      fill: #1967D2;\n",
              "      height: 32px;\n",
              "      padding: 0 0 0 0;\n",
              "      width: 32px;\n",
              "    }\n",
              "\n",
              "    .colab-df-convert:hover {\n",
              "      background-color: #E2EBFA;\n",
              "      box-shadow: 0px 1px 2px rgba(60, 64, 67, 0.3), 0px 1px 3px 1px rgba(60, 64, 67, 0.15);\n",
              "      fill: #174EA6;\n",
              "    }\n",
              "\n",
              "    [theme=dark] .colab-df-convert {\n",
              "      background-color: #3B4455;\n",
              "      fill: #D2E3FC;\n",
              "    }\n",
              "\n",
              "    [theme=dark] .colab-df-convert:hover {\n",
              "      background-color: #434B5C;\n",
              "      box-shadow: 0px 1px 3px 1px rgba(0, 0, 0, 0.15);\n",
              "      filter: drop-shadow(0px 1px 2px rgba(0, 0, 0, 0.3));\n",
              "      fill: #FFFFFF;\n",
              "    }\n",
              "  </style>\n",
              "\n",
              "      <script>\n",
              "        const buttonEl =\n",
              "          document.querySelector('#df-e1d4d9b0-2eb1-4be9-bec5-4080fa091500 button.colab-df-convert');\n",
              "        buttonEl.style.display =\n",
              "          google.colab.kernel.accessAllowed ? 'block' : 'none';\n",
              "\n",
              "        async function convertToInteractive(key) {\n",
              "          const element = document.querySelector('#df-e1d4d9b0-2eb1-4be9-bec5-4080fa091500');\n",
              "          const dataTable =\n",
              "            await google.colab.kernel.invokeFunction('convertToInteractive',\n",
              "                                                     [key], {});\n",
              "          if (!dataTable) return;\n",
              "\n",
              "          const docLinkHtml = 'Like what you see? Visit the ' +\n",
              "            '<a target=\"_blank\" href=https://colab.research.google.com/notebooks/data_table.ipynb>data table notebook</a>'\n",
              "            + ' to learn more about interactive tables.';\n",
              "          element.innerHTML = '';\n",
              "          dataTable['output_type'] = 'display_data';\n",
              "          await google.colab.output.renderOutput(dataTable, element);\n",
              "          const docLink = document.createElement('div');\n",
              "          docLink.innerHTML = docLinkHtml;\n",
              "          element.appendChild(docLink);\n",
              "        }\n",
              "      </script>\n",
              "    </div>\n",
              "  </div>\n",
              "  "
            ]
          },
          "metadata": {},
          "execution_count": 42
        }
      ]
    },
    {
      "cell_type": "markdown",
      "source": [
        "Replace an empty response with '...' =))"
      ],
      "metadata": {
        "id": "ddIgFoQRiGjL"
      }
    },
    {
      "cell_type": "code",
      "source": [
        "train_df.loc[train_df['token_len'] == 0, 'txt'] = '...'\n",
        "val_df.loc[val_df['token_len'] == 0, 'txt'] = '...'\n",
        "# test_df.loc[test_df['token_len'] == 0, 'txt'] = '...'"
      ],
      "metadata": {
        "id": "xVAyTdiWh68F",
        "colab": {
          "base_uri": "https://localhost:8080/"
        },
        "outputId": "ec0e33e8-45c9-4502-e2da-e46cf3a4e53a"
      },
      "execution_count": 43,
      "outputs": [
        {
          "output_type": "stream",
          "name": "stderr",
          "text": [
            "/usr/local/lib/python3.7/dist-packages/pandas/core/indexing.py:1817: SettingWithCopyWarning: \n",
            "A value is trying to be set on a copy of a slice from a DataFrame.\n",
            "Try using .loc[row_indexer,col_indexer] = value instead\n",
            "\n",
            "See the caveats in the documentation: https://pandas.pydata.org/pandas-docs/stable/user_guide/indexing.html#returning-a-view-versus-a-copy\n",
            "  self._setitem_single_column(loc, value, pi)\n"
          ]
        }
      ]
    },
    {
      "cell_type": "markdown",
      "source": [
        "# Replace emotion id with label"
      ],
      "metadata": {
        "id": "H2JgcrHfxwC8"
      }
    },
    {
      "cell_type": "code",
      "source": [
        "temp = train_df.copy()\n",
        "temp"
      ],
      "metadata": {
        "colab": {
          "base_uri": "https://localhost:8080/",
          "height": 672
        },
        "id": "RWUk3Z0Bygf9",
        "outputId": "4101fa32-650f-482f-9b1e-581a91481d92"
      },
      "execution_count": 44,
      "outputs": [
        {
          "output_type": "execute_result",
          "data": {
            "text/plain": [
              "                speaker_id    img_id  emotion_id  \\\n",
              "dialogue_id                                        \n",
              "dialogue 11015  [speaker1]   218.gif         0.0   \n",
              "dialogue 11015  [speaker2]       NaN         NaN   \n",
              "dialogue 11015  [speaker1]   273.gif         9.0   \n",
              "dialogue 11015  [speaker2]       NaN         NaN   \n",
              "dialogue 11015  [speaker1]       NaN         NaN   \n",
              "...                    ...       ...         ...   \n",
              "dialogue 61000  [speaker1]       NaN         NaN   \n",
              "dialogue 61000  [speaker2]       NaN         NaN   \n",
              "dialogue 61000  [speaker1]  127.jpeg        24.0   \n",
              "dialogue 61000  [speaker2]       NaN         NaN   \n",
              "dialogue 61000  [speaker1]       NaN         NaN   \n",
              "\n",
              "                                                              txt  token_len  \n",
              "dialogue_id                                                                   \n",
              "dialogue 11015                      Haha. . . Don't know who i am          8  \n",
              "dialogue 11015                                            Ouyang?          1  \n",
              "dialogue 11015                    Haha. . . . . Want to prompt no          9  \n",
              "dialogue 11015                                       Give a hint,          3  \n",
              "dialogue 11015                   The sky of midsummer. . . . Haha          8  \n",
              "...                                                           ...        ...  \n",
              "dialogue 61000  It’s not a spare tire. Anyway, it’s been more ...         41  \n",
              "dialogue 61000  To my boyfriend, it seems that the time to say...         13  \n",
              "dialogue 61000  So it’s all an excuse. I think it’s normal to ...         20  \n",
              "dialogue 61000                              We haven't been sweet          4  \n",
              "dialogue 61000            The girl broke up quickly, so many boys          8  \n",
              "\n",
              "[925759 rows x 5 columns]"
            ],
            "text/html": [
              "\n",
              "  <div id=\"df-af5bfe5d-d991-4719-b0c3-4973f94f98a3\">\n",
              "    <div class=\"colab-df-container\">\n",
              "      <div>\n",
              "<style scoped>\n",
              "    .dataframe tbody tr th:only-of-type {\n",
              "        vertical-align: middle;\n",
              "    }\n",
              "\n",
              "    .dataframe tbody tr th {\n",
              "        vertical-align: top;\n",
              "    }\n",
              "\n",
              "    .dataframe thead th {\n",
              "        text-align: right;\n",
              "    }\n",
              "</style>\n",
              "<table border=\"1\" class=\"dataframe\">\n",
              "  <thead>\n",
              "    <tr style=\"text-align: right;\">\n",
              "      <th></th>\n",
              "      <th>speaker_id</th>\n",
              "      <th>img_id</th>\n",
              "      <th>emotion_id</th>\n",
              "      <th>txt</th>\n",
              "      <th>token_len</th>\n",
              "    </tr>\n",
              "    <tr>\n",
              "      <th>dialogue_id</th>\n",
              "      <th></th>\n",
              "      <th></th>\n",
              "      <th></th>\n",
              "      <th></th>\n",
              "      <th></th>\n",
              "    </tr>\n",
              "  </thead>\n",
              "  <tbody>\n",
              "    <tr>\n",
              "      <th>dialogue 11015</th>\n",
              "      <td>[speaker1]</td>\n",
              "      <td>218.gif</td>\n",
              "      <td>0.0</td>\n",
              "      <td>Haha. . . Don't know who i am</td>\n",
              "      <td>8</td>\n",
              "    </tr>\n",
              "    <tr>\n",
              "      <th>dialogue 11015</th>\n",
              "      <td>[speaker2]</td>\n",
              "      <td>NaN</td>\n",
              "      <td>NaN</td>\n",
              "      <td>Ouyang?</td>\n",
              "      <td>1</td>\n",
              "    </tr>\n",
              "    <tr>\n",
              "      <th>dialogue 11015</th>\n",
              "      <td>[speaker1]</td>\n",
              "      <td>273.gif</td>\n",
              "      <td>9.0</td>\n",
              "      <td>Haha. . . . . Want to prompt no</td>\n",
              "      <td>9</td>\n",
              "    </tr>\n",
              "    <tr>\n",
              "      <th>dialogue 11015</th>\n",
              "      <td>[speaker2]</td>\n",
              "      <td>NaN</td>\n",
              "      <td>NaN</td>\n",
              "      <td>Give a hint,</td>\n",
              "      <td>3</td>\n",
              "    </tr>\n",
              "    <tr>\n",
              "      <th>dialogue 11015</th>\n",
              "      <td>[speaker1]</td>\n",
              "      <td>NaN</td>\n",
              "      <td>NaN</td>\n",
              "      <td>The sky of midsummer. . . . Haha</td>\n",
              "      <td>8</td>\n",
              "    </tr>\n",
              "    <tr>\n",
              "      <th>...</th>\n",
              "      <td>...</td>\n",
              "      <td>...</td>\n",
              "      <td>...</td>\n",
              "      <td>...</td>\n",
              "      <td>...</td>\n",
              "    </tr>\n",
              "    <tr>\n",
              "      <th>dialogue 61000</th>\n",
              "      <td>[speaker1]</td>\n",
              "      <td>NaN</td>\n",
              "      <td>NaN</td>\n",
              "      <td>It’s not a spare tire. Anyway, it’s been more ...</td>\n",
              "      <td>41</td>\n",
              "    </tr>\n",
              "    <tr>\n",
              "      <th>dialogue 61000</th>\n",
              "      <td>[speaker2]</td>\n",
              "      <td>NaN</td>\n",
              "      <td>NaN</td>\n",
              "      <td>To my boyfriend, it seems that the time to say...</td>\n",
              "      <td>13</td>\n",
              "    </tr>\n",
              "    <tr>\n",
              "      <th>dialogue 61000</th>\n",
              "      <td>[speaker1]</td>\n",
              "      <td>127.jpeg</td>\n",
              "      <td>24.0</td>\n",
              "      <td>So it’s all an excuse. I think it’s normal to ...</td>\n",
              "      <td>20</td>\n",
              "    </tr>\n",
              "    <tr>\n",
              "      <th>dialogue 61000</th>\n",
              "      <td>[speaker2]</td>\n",
              "      <td>NaN</td>\n",
              "      <td>NaN</td>\n",
              "      <td>We haven't been sweet</td>\n",
              "      <td>4</td>\n",
              "    </tr>\n",
              "    <tr>\n",
              "      <th>dialogue 61000</th>\n",
              "      <td>[speaker1]</td>\n",
              "      <td>NaN</td>\n",
              "      <td>NaN</td>\n",
              "      <td>The girl broke up quickly, so many boys</td>\n",
              "      <td>8</td>\n",
              "    </tr>\n",
              "  </tbody>\n",
              "</table>\n",
              "<p>925759 rows × 5 columns</p>\n",
              "</div>\n",
              "      <button class=\"colab-df-convert\" onclick=\"convertToInteractive('df-af5bfe5d-d991-4719-b0c3-4973f94f98a3')\"\n",
              "              title=\"Convert this dataframe to an interactive table.\"\n",
              "              style=\"display:none;\">\n",
              "        \n",
              "  <svg xmlns=\"http://www.w3.org/2000/svg\" height=\"24px\"viewBox=\"0 0 24 24\"\n",
              "       width=\"24px\">\n",
              "    <path d=\"M0 0h24v24H0V0z\" fill=\"none\"/>\n",
              "    <path d=\"M18.56 5.44l.94 2.06.94-2.06 2.06-.94-2.06-.94-.94-2.06-.94 2.06-2.06.94zm-11 1L8.5 8.5l.94-2.06 2.06-.94-2.06-.94L8.5 2.5l-.94 2.06-2.06.94zm10 10l.94 2.06.94-2.06 2.06-.94-2.06-.94-.94-2.06-.94 2.06-2.06.94z\"/><path d=\"M17.41 7.96l-1.37-1.37c-.4-.4-.92-.59-1.43-.59-.52 0-1.04.2-1.43.59L10.3 9.45l-7.72 7.72c-.78.78-.78 2.05 0 2.83L4 21.41c.39.39.9.59 1.41.59.51 0 1.02-.2 1.41-.59l7.78-7.78 2.81-2.81c.8-.78.8-2.07 0-2.86zM5.41 20L4 18.59l7.72-7.72 1.47 1.35L5.41 20z\"/>\n",
              "  </svg>\n",
              "      </button>\n",
              "      \n",
              "  <style>\n",
              "    .colab-df-container {\n",
              "      display:flex;\n",
              "      flex-wrap:wrap;\n",
              "      gap: 12px;\n",
              "    }\n",
              "\n",
              "    .colab-df-convert {\n",
              "      background-color: #E8F0FE;\n",
              "      border: none;\n",
              "      border-radius: 50%;\n",
              "      cursor: pointer;\n",
              "      display: none;\n",
              "      fill: #1967D2;\n",
              "      height: 32px;\n",
              "      padding: 0 0 0 0;\n",
              "      width: 32px;\n",
              "    }\n",
              "\n",
              "    .colab-df-convert:hover {\n",
              "      background-color: #E2EBFA;\n",
              "      box-shadow: 0px 1px 2px rgba(60, 64, 67, 0.3), 0px 1px 3px 1px rgba(60, 64, 67, 0.15);\n",
              "      fill: #174EA6;\n",
              "    }\n",
              "\n",
              "    [theme=dark] .colab-df-convert {\n",
              "      background-color: #3B4455;\n",
              "      fill: #D2E3FC;\n",
              "    }\n",
              "\n",
              "    [theme=dark] .colab-df-convert:hover {\n",
              "      background-color: #434B5C;\n",
              "      box-shadow: 0px 1px 3px 1px rgba(0, 0, 0, 0.15);\n",
              "      filter: drop-shadow(0px 1px 2px rgba(0, 0, 0, 0.3));\n",
              "      fill: #FFFFFF;\n",
              "    }\n",
              "  </style>\n",
              "\n",
              "      <script>\n",
              "        const buttonEl =\n",
              "          document.querySelector('#df-af5bfe5d-d991-4719-b0c3-4973f94f98a3 button.colab-df-convert');\n",
              "        buttonEl.style.display =\n",
              "          google.colab.kernel.accessAllowed ? 'block' : 'none';\n",
              "\n",
              "        async function convertToInteractive(key) {\n",
              "          const element = document.querySelector('#df-af5bfe5d-d991-4719-b0c3-4973f94f98a3');\n",
              "          const dataTable =\n",
              "            await google.colab.kernel.invokeFunction('convertToInteractive',\n",
              "                                                     [key], {});\n",
              "          if (!dataTable) return;\n",
              "\n",
              "          const docLinkHtml = 'Like what you see? Visit the ' +\n",
              "            '<a target=\"_blank\" href=https://colab.research.google.com/notebooks/data_table.ipynb>data table notebook</a>'\n",
              "            + ' to learn more about interactive tables.';\n",
              "          element.innerHTML = '';\n",
              "          dataTable['output_type'] = 'display_data';\n",
              "          await google.colab.output.renderOutput(dataTable, element);\n",
              "          const docLink = document.createElement('div');\n",
              "          docLink.innerHTML = docLinkHtml;\n",
              "          element.appendChild(docLink);\n",
              "        }\n",
              "      </script>\n",
              "    </div>\n",
              "  </div>\n",
              "  "
            ]
          },
          "metadata": {},
          "execution_count": 44
        }
      ]
    },
    {
      "cell_type": "code",
      "source": [
        "# temp['emotion_id'] = train_df['emotion_id'].fillna('')\n",
        "# temp"
      ],
      "metadata": {
        "id": "lKgE7YyKyNxy"
      },
      "execution_count": 45,
      "outputs": []
    },
    {
      "cell_type": "code",
      "source": [
        "emotion_ids = read_json(config['path']['emotion_id_path'])\n",
        "emotion_ids"
      ],
      "metadata": {
        "colab": {
          "base_uri": "https://localhost:8080/"
        },
        "id": "JN6FpXsnx0rS",
        "outputId": "33ae8222-6521-4999-8dd5-793d92195cad"
      },
      "execution_count": 46,
      "outputs": [
        {
          "output_type": "execute_result",
          "data": {
            "text/plain": [
              "{'': 47,\n",
              " '不屑': 45,\n",
              " '不舍': 50,\n",
              " '严肃': 11,\n",
              " '乐观': 36,\n",
              " '乖巧': 8,\n",
              " '伤心': 3,\n",
              " '佩服': 15,\n",
              " '傲娇': 8,\n",
              " '关心': 29,\n",
              " '兴奋': 6,\n",
              " '内疚': 40,\n",
              " '冷静': 13,\n",
              " '加油': 10,\n",
              " '卖萌': 8,\n",
              " '厌恶': 23,\n",
              " '反感': 23,\n",
              " '可怜': 38,\n",
              " '可爱': 8,\n",
              " '吃惊': 7,\n",
              " '同情': 38,\n",
              " '呵呵': 28,\n",
              " '哀伤': 3,\n",
              " '喜悦': 0,\n",
              " '喜欢': 0,\n",
              " '嘚瑟': 9,\n",
              " '嘲笑': 4,\n",
              " '嘲讽': 23,\n",
              " '困惑': 1,\n",
              " '困扰': 3,\n",
              " '坚定': 11,\n",
              " '失望': 14,\n",
              " '失落': 3,\n",
              " '夸奖': 31,\n",
              " '夸赞': 31,\n",
              " '奇怪': 1,\n",
              " '好奇': 1,\n",
              " '委屈': 16,\n",
              " '嫉妒': 25,\n",
              " '嫌弃': 21,\n",
              " '孤独': 46,\n",
              " '安慰': 10,\n",
              " '害怕': 19,\n",
              " '害羞': 12,\n",
              " '尴尬': 20,\n",
              " '崇拜': 15,\n",
              " '崩溃': 3,\n",
              " '平淡': 34,\n",
              " '平静': 28,\n",
              " '庆幸': 22,\n",
              " '开心': 0,\n",
              " '得意': 9,\n",
              " '得瑟': 9,\n",
              " '微笑': 0,\n",
              " '忐忑': 35,\n",
              " '忧伤': 3,\n",
              " '忧愁': 3,\n",
              " '快乐': 0,\n",
              " '怀疑': 1,\n",
              " '怜惜': 38,\n",
              " '思念': 26,\n",
              " '思索': 30,\n",
              " '思考': 30,\n",
              " '恍然大悟': 32,\n",
              " '悲伤': 3,\n",
              " '悲痛': 3,\n",
              " '惊讶': 7,\n",
              " '惋惜': 24,\n",
              " '愉快': 0,\n",
              " '感叹': 32,\n",
              " '感慨': 32,\n",
              " '感激': 22,\n",
              " '感谢': 42,\n",
              " '愤怒': 5,\n",
              " '愧疚': 40,\n",
              " '懊丧': 3,\n",
              " '抱怨': 21,\n",
              " '抱抱': 0,\n",
              " '抱歉': 40,\n",
              " '担心': 29,\n",
              " '担忧': 29,\n",
              " '撒娇': 8,\n",
              " '支持': 10,\n",
              " '敬佩': 15,\n",
              " '无奈': 2,\n",
              " '无聊': 28,\n",
              " '无语': 2,\n",
              " '期待': 6,\n",
              " '期望': 0,\n",
              " '欢喜': 0,\n",
              " '欣喜': 0,\n",
              " '欣慰': 27,\n",
              " '欣赏': 0,\n",
              " '歉意': 40,\n",
              " '正经': 11,\n",
              " '气愤': 5,\n",
              " '沧桑': 8,\n",
              " '淡定': 34,\n",
              " '渴望': 6,\n",
              " '满意': 27,\n",
              " '满足': 27,\n",
              " '激动': 17,\n",
              " '激励': 10,\n",
              " '烦乱': 3,\n",
              " '烦恼': 3,\n",
              " '烦躁': 3,\n",
              " '烦闷': 3,\n",
              " '热情': 44,\n",
              " '焦急': 39,\n",
              " '焦虑': 35,\n",
              " '生气': 5,\n",
              " '疑惑': 1,\n",
              " '疑问': 1,\n",
              " '痛苦': 3,\n",
              " '着急': 39,\n",
              " '睡觉': 49,\n",
              " '祝福': 33,\n",
              " '科学': 51,\n",
              " '紧张': 18,\n",
              " '纠结': 35,\n",
              " '羞涩': 12,\n",
              " '羡慕': 25,\n",
              " '肯定': 10,\n",
              " '自信': 9,\n",
              " '自嘲': 8,\n",
              " '自豪': 9,\n",
              " '苦恼': 3,\n",
              " '表扬': 31,\n",
              " '认真': 11,\n",
              " '讨厌': 23,\n",
              " '询问': 1,\n",
              " '请求': 43,\n",
              " '调侃': 8,\n",
              " '调皮': 8,\n",
              " '谦虚': 41,\n",
              " '质疑': 1,\n",
              " '赞同': 37,\n",
              " '赞扬': 10,\n",
              " '赞美': 31,\n",
              " '赞赏': 31,\n",
              " '路过': 48,\n",
              " '迷茫': 1,\n",
              " '道歉': 40,\n",
              " '郁闷': 3,\n",
              " '鄙视': 4,\n",
              " '难受': 3,\n",
              " '难过': 3,\n",
              " '雀跃': 0,\n",
              " '顽皮': 8,\n",
              " '骄傲': 9,\n",
              " '高兴': 0,\n",
              " '鼓励': 10}"
            ]
          },
          "metadata": {},
          "execution_count": 46
        }
      ]
    },
    {
      "cell_type": "markdown",
      "source": [
        "1 số emotion giống nhau có cùng id, nó cùng mang 1 nghĩa nên giờ sẽ chỉ lấy cái đầu tiên"
      ],
      "metadata": {
        "id": "4YgxPOHQ2vpq"
      }
    },
    {
      "cell_type": "code",
      "source": [
        "def remove_duplicated_emotions(emotion_ids):\n",
        "    emotions = emotion_ids.values()\n",
        "    result = dict()\n",
        "    temp = []\n",
        "\n",
        "    for key,value in emotion_ids.items():\n",
        "        if value not in temp:\n",
        "            temp.append(value)\n",
        "            result[key] = value\n",
        "    \n",
        "    return result\n",
        "\n",
        "emotion_ids = remove_duplicated_emotions(emotion_ids)\n",
        "print(len(emotion_ids))"
      ],
      "metadata": {
        "colab": {
          "base_uri": "https://localhost:8080/"
        },
        "id": "Z1IO1Uqa2wbl",
        "outputId": "66cd2ade-ffe4-4f3a-d483-be9a47841249"
      },
      "execution_count": 47,
      "outputs": [
        {
          "output_type": "stream",
          "name": "stdout",
          "text": [
            "52\n"
          ]
        }
      ]
    },
    {
      "cell_type": "markdown",
      "source": [
        "Dịch emotion qua English"
      ],
      "metadata": {
        "id": "Kebej7EsArhI"
      }
    },
    {
      "cell_type": "code",
      "source": [
        "def translate(txt):\n",
        "    translation= ts.google(txt, if_use_cn_host=True, from_language='zh', to_language= 'en')\n",
        "    return translation\n",
        "\n",
        "def translate_emotion_dict(emotion_ids):\n",
        "    res = dict()\n",
        "    for emo in tqdm(emotion_ids):\n",
        "        emotion = translate(emo).lower()\n",
        "        res[emotion] = emotion_ids[emo]\n",
        "    return res\n",
        "\n",
        "emotion_ids = translate_emotion_dict(emotion_ids)\n",
        "emotion_ids"
      ],
      "metadata": {
        "colab": {
          "base_uri": "https://localhost:8080/",
          "height": 983,
          "referenced_widgets": [
            "23fb277a9963450e85f03d61a0431e3e",
            "5782cc7f29464b47854be43ff287f40a",
            "f04a096540fa4786a66c6f27ae0f2771",
            "8691cf4e3fb145358d10e0582cb8a402",
            "50e7c1889b7549f089599180af743ae2",
            "edf7dda4dc9244e59e287720585d158e",
            "dcefe5a3cca343d483a9d7d6f6cac755",
            "bfaf63ddbee744bc8afcdfd9ce7fcfb0",
            "847da86116d941f68d28c514650a4722",
            "8d87198870034958ae893c0a7b331c2e",
            "28f16d5fc119401e969656606c7410fd"
          ]
        },
        "id": "IzbgB6qE1el0",
        "outputId": "7be6bb2e-6e9d-4c19-e48c-3df749730b0f"
      },
      "execution_count": 48,
      "outputs": [
        {
          "output_type": "display_data",
          "data": {
            "text/plain": [
              "  0%|          | 0/52 [00:00<?, ?it/s]"
            ],
            "application/vnd.jupyter.widget-view+json": {
              "version_major": 2,
              "version_minor": 0,
              "model_id": "23fb277a9963450e85f03d61a0431e3e"
            }
          },
          "metadata": {}
        },
        {
          "output_type": "execute_result",
          "data": {
            "text/plain": [
              "{'': 47,\n",
              " 'admire': 15,\n",
              " 'agree': 37,\n",
              " 'anger': 5,\n",
              " 'ask': 43,\n",
              " 'be surprised': 7,\n",
              " 'bless': 33,\n",
              " 'boring': 28,\n",
              " 'calm': 34,\n",
              " 'calm down': 13,\n",
              " 'disappointed': 14,\n",
              " 'disdain': 45,\n",
              " 'disgust': 23,\n",
              " 'dislike': 21,\n",
              " 'distressed': 3,\n",
              " 'doubt': 1,\n",
              " 'embarrassment': 20,\n",
              " 'encourage': 10,\n",
              " 'entangle': 35,\n",
              " 'enthusiasm': 44,\n",
              " 'envious': 25,\n",
              " 'excited': 17,\n",
              " 'expect': 6,\n",
              " 'fear': 19,\n",
              " 'feel sorry': 40,\n",
              " 'grateful': 42,\n",
              " 'gratified': 27,\n",
              " 'gratitude': 22,\n",
              " 'happy': 0,\n",
              " 'in a hurry': 39,\n",
              " 'laugh at': 4,\n",
              " 'lonely': 46,\n",
              " 'miss': 26,\n",
              " 'modesty': 41,\n",
              " 'naughty': 8,\n",
              " 'nervous': 18,\n",
              " 'not help': 50,\n",
              " 'optimism': 36,\n",
              " 'pass by': 48,\n",
              " 'pity': 38,\n",
              " 'praise': 31,\n",
              " 'proud': 9,\n",
              " 'regret': 24,\n",
              " 'resignedly': 2,\n",
              " 'science': 51,\n",
              " 'serious': 11,\n",
              " 'shy': 12,\n",
              " 'sigh': 32,\n",
              " 'sleep': 49,\n",
              " 'think': 30,\n",
              " 'worry': 29,\n",
              " 'wronged': 16}"
            ]
          },
          "metadata": {},
          "execution_count": 48
        }
      ]
    },
    {
      "cell_type": "markdown",
      "source": [
        "Thay thế emotion '' -> 'normal'"
      ],
      "metadata": {
        "id": "y_GWnKrHLR4A"
      }
    },
    {
      "cell_type": "code",
      "source": [
        "emotion_ids.pop('')"
      ],
      "metadata": {
        "colab": {
          "base_uri": "https://localhost:8080/"
        },
        "id": "BfA4DkXCLVa_",
        "outputId": "4594601c-3269-4a2e-a671-c40db524ceb3"
      },
      "execution_count": 49,
      "outputs": [
        {
          "output_type": "execute_result",
          "data": {
            "text/plain": [
              "47"
            ]
          },
          "metadata": {},
          "execution_count": 49
        }
      ]
    },
    {
      "cell_type": "code",
      "source": [
        "emotion_ids['normal'] = 47\n",
        "emotion_ids"
      ],
      "metadata": {
        "colab": {
          "base_uri": "https://localhost:8080/"
        },
        "id": "toPN9Hq1HNdp",
        "outputId": "d3beb81d-f19a-40fe-ec41-169242a7eff8"
      },
      "execution_count": 51,
      "outputs": [
        {
          "output_type": "execute_result",
          "data": {
            "text/plain": [
              "{'admire': 15,\n",
              " 'agree': 37,\n",
              " 'anger': 5,\n",
              " 'ask': 43,\n",
              " 'be surprised': 7,\n",
              " 'bless': 33,\n",
              " 'boring': 28,\n",
              " 'calm': 34,\n",
              " 'calm down': 13,\n",
              " 'disappointed': 14,\n",
              " 'disdain': 45,\n",
              " 'disgust': 23,\n",
              " 'dislike': 21,\n",
              " 'distressed': 3,\n",
              " 'doubt': 1,\n",
              " 'embarrassment': 20,\n",
              " 'encourage': 10,\n",
              " 'entangle': 35,\n",
              " 'enthusiasm': 44,\n",
              " 'envious': 25,\n",
              " 'excited': 17,\n",
              " 'expect': 6,\n",
              " 'fear': 19,\n",
              " 'feel sorry': 40,\n",
              " 'grateful': 42,\n",
              " 'gratified': 27,\n",
              " 'gratitude': 22,\n",
              " 'happy': 0,\n",
              " 'in a hurry': 39,\n",
              " 'laugh at': 4,\n",
              " 'lonely': 46,\n",
              " 'miss': 26,\n",
              " 'modesty': 41,\n",
              " 'naughty': 8,\n",
              " 'nervous': 18,\n",
              " 'normal': 47,\n",
              " 'not help': 50,\n",
              " 'optimism': 36,\n",
              " 'pass by': 48,\n",
              " 'pity': 38,\n",
              " 'praise': 31,\n",
              " 'proud': 9,\n",
              " 'regret': 24,\n",
              " 'resignedly': 2,\n",
              " 'science': 51,\n",
              " 'serious': 11,\n",
              " 'shy': 12,\n",
              " 'sigh': 32,\n",
              " 'sleep': 49,\n",
              " 'think': 30,\n",
              " 'worry': 29,\n",
              " 'wronged': 16}"
            ]
          },
          "metadata": {},
          "execution_count": 51
        }
      ]
    },
    {
      "cell_type": "code",
      "source": [
        "def rename_emotion(df, emotion_ids):\n",
        "    df = df.copy()\n",
        "    # Fill na\n",
        "    # df['emotion_id'] = df['emotion_id'].fillna('')\n",
        "    for emo in tqdm(emotion_ids):\n",
        "        df['emotion_id'] = df['emotion_id'].apply(lambda x: emo if x == emotion_ids[emo] else x)\n",
        "    return df\n",
        "\n",
        "train_df = rename_emotion(train_df, emotion_ids)\n",
        "val_df = rename_emotion(val_df, emotion_ids)\n",
        "# test_df = rename_emotion(test_df, emotion_ids)"
      ],
      "metadata": {
        "colab": {
          "base_uri": "https://localhost:8080/",
          "height": 81,
          "referenced_widgets": [
            "e57793448761462b958113e8d7207bad",
            "6902728b237a4aadb571b44e7f846259",
            "15dfe7026a1144919331ca706757c0ff",
            "a34f187cf37d4ced9ecec805c2c01830",
            "7793960ce1594f3e9c5aacc71faa7e8d",
            "36b27e1d8bed419ea204bb939e31bca9",
            "b9b6b840b9c5432192874604e9805a3f",
            "65712a2a9f95446aad8d9955beb4f87c",
            "1c44e1ae300c4077b1f3ebfed4277679",
            "9566caf358084733bd60e990b2e51a7c",
            "06efe4c846f7494d9686330a3dfcffd1",
            "20f23e668af8461db2bea64eac427d34",
            "a4a7ddf8d1f249b9969cb4a16932e270",
            "efd2607ae6e1476b84f855a6c695ce5a",
            "9f943c34838643cb9fb29c57dc8b7bee",
            "2e6f3919e182416aaacabb9129539c0f",
            "0415e3de7ea04b9889f81e8ad30b6edc",
            "1a8fcae89d014cbab912cebed0dabec3",
            "2ec50464491d477d8aa2027416c61645",
            "bceb5bac2195422e83566819e4787fd4",
            "23e4c6a302fa4d5abb0e7871e6032aef",
            "85f39bdd7a1a49b9aab623b623b8a9ae"
          ]
        },
        "id": "5W-Cnjgpx1PM",
        "outputId": "24e3d39b-52b3-41dc-bf69-1b9893d8626d"
      },
      "execution_count": 52,
      "outputs": [
        {
          "output_type": "display_data",
          "data": {
            "text/plain": [
              "  0%|          | 0/52 [00:00<?, ?it/s]"
            ],
            "application/vnd.jupyter.widget-view+json": {
              "version_major": 2,
              "version_minor": 0,
              "model_id": "e57793448761462b958113e8d7207bad"
            }
          },
          "metadata": {}
        },
        {
          "output_type": "display_data",
          "data": {
            "text/plain": [
              "  0%|          | 0/52 [00:00<?, ?it/s]"
            ],
            "application/vnd.jupyter.widget-view+json": {
              "version_major": 2,
              "version_minor": 0,
              "model_id": "20f23e668af8461db2bea64eac427d34"
            }
          },
          "metadata": {}
        }
      ]
    },
    {
      "cell_type": "code",
      "source": [
        "train_df['emotion_id'].value_counts()"
      ],
      "metadata": {
        "colab": {
          "base_uri": "https://localhost:8080/"
        },
        "id": "fep-Zz2rFfG0",
        "outputId": "c6347581-c674-4eeb-ab62-6db7ec7ddf93"
      },
      "execution_count": 53,
      "outputs": [
        {
          "output_type": "execute_result",
          "data": {
            "text/plain": [
              "happy            30789\n",
              "doubt            28821\n",
              "distressed       28223\n",
              "resignedly       20645\n",
              "naughty          13099\n",
              "laugh at         10678\n",
              "expect           10483\n",
              "serious          10370\n",
              "encourage         9486\n",
              "anger             9469\n",
              "calm down         8377\n",
              "proud             8294\n",
              "be surprised      8203\n",
              "disappointed      4274\n",
              "shy               4264\n",
              "wronged           4009\n",
              "disgust           3905\n",
              "admire            3718\n",
              "nervous           3224\n",
              "gratitude         2963\n",
              "fear              2824\n",
              "boring            2801\n",
              "excited           2432\n",
              "regret            2305\n",
              "gratified         2217\n",
              "embarrassment     1844\n",
              "worry             1648\n",
              "dislike           1629\n",
              "envious           1031\n",
              "miss               989\n",
              "praise             768\n",
              "think              643\n",
              "sigh               545\n",
              "calm               276\n",
              "bless              273\n",
              "entangle           187\n",
              "pity               181\n",
              "optimism           163\n",
              "feel sorry         160\n",
              "agree              123\n",
              "in a hurry         115\n",
              "grateful            82\n",
              "modesty             81\n",
              "normal              52\n",
              "ask                 46\n",
              "disdain             35\n",
              "enthusiasm          24\n",
              "Name: emotion_id, dtype: int64"
            ]
          },
          "metadata": {},
          "execution_count": 53
        }
      ]
    },
    {
      "cell_type": "code",
      "source": [
        "val_df['emotion_id'].value_counts()"
      ],
      "metadata": {
        "colab": {
          "base_uri": "https://localhost:8080/"
        },
        "id": "KnifGZs_GBsT",
        "outputId": "6336a1ae-674b-4add-e06d-25853dce6d10"
      },
      "execution_count": 54,
      "outputs": [
        {
          "output_type": "execute_result",
          "data": {
            "text/plain": [
              "distressed       483\n",
              "doubt            458\n",
              "resignedly       376\n",
              "happy            368\n",
              "naughty          281\n",
              "laugh at         200\n",
              "expect           189\n",
              "encourage        176\n",
              "anger            164\n",
              "be surprised     144\n",
              "proud            139\n",
              "serious           87\n",
              "calm down         84\n",
              "disappointed      77\n",
              "admire            71\n",
              "disgust           65\n",
              "nervous           62\n",
              "excited           56\n",
              "regret            54\n",
              "wronged           53\n",
              "dislike           52\n",
              "shy               50\n",
              "worry             43\n",
              "envious           41\n",
              "embarrassment     32\n",
              "gratified         32\n",
              "fear              29\n",
              "boring            26\n",
              "sigh              21\n",
              "gratitude         21\n",
              "praise            18\n",
              "calm              17\n",
              "optimism          17\n",
              "miss              16\n",
              "think              8\n",
              "bless              7\n",
              "pity               6\n",
              "feel sorry         5\n",
              "agree              4\n",
              "entangle           4\n",
              "in a hurry         4\n",
              "ask                3\n",
              "grateful           3\n",
              "disdain            2\n",
              "enthusiasm         2\n",
              "Name: emotion_id, dtype: int64"
            ]
          },
          "metadata": {},
          "execution_count": 54
        }
      ]
    },
    {
      "cell_type": "code",
      "source": [
        "save_pickle(train_df, config['path']['train_preprocessed_path'])\n",
        "save_pickle(val_df, config['path']['val_preprocessed_path'])\n",
        "# save_pickle(test_df, config['path']['test_preprocessed_path'])"
      ],
      "metadata": {
        "id": "sUAtPVEjNZyr"
      },
      "execution_count": 67,
      "outputs": []
    },
    {
      "cell_type": "code",
      "source": [
        "# %mkdir code\n",
        "# %mv -f config.yml code\n",
        "# %mv -f data code\n",
        "# %mv -f requirements.txt code"
      ],
      "metadata": {
        "id": "k9IiS8Q2MnVf"
      },
      "execution_count": 70,
      "outputs": []
    },
    {
      "cell_type": "code",
      "source": [
        "# !zip -r code.zip code/"
      ],
      "metadata": {
        "id": "WvhEipP7He-P"
      },
      "execution_count": null,
      "outputs": []
    }
  ]
}